{
 "cells": [
  {
   "cell_type": "markdown",
   "metadata": {},
   "source": [
    "# Analisis exploratorio de datos del sistema público de alquiler de bicicletas de la ciudad de San Francisco entre 2013 y 2015."
   ]
  },
  {
   "cell_type": "markdown",
   "metadata": {},
   "source": [
    "En el siguiente análisis buscaremos responder a las siguientes preguntas:\n",
    "\n",
    "- ¿Cómo afecta el clima los viajes en bicicleta?\n",
    "- ¿En qué estaciones se alquilaron más y menos bicicletas?\n",
    "- ¿Cuántos alquileres se utilizaron para viajar de una ciudad a otra?\n",
    "- ¿Cómo evoluciona el uso del servicio con el tiempo?\n",
    "- ¿Cómo satisface la demanda el servicio?\n",
    "- ¿Cuánto tiempo están inactivas las bicicletas?"
   ]
  },
  {
   "cell_type": "code",
   "execution_count": 1,
   "metadata": {
    "collapsed": true
   },
   "outputs": [],
   "source": [
    "import pandas as pd\n",
    "import numpy as np\n",
    "from datetime import datetime\n",
    "import matplotlib.pyplot as plt\n",
    "from datetime import timedelta, date\n",
    "import matplotlib.dates as mdates\n",
    "import seaborn as sns\n",
    "\n",
    "%matplotlib inline"
   ]
  },
  {
   "cell_type": "code",
   "execution_count": 2,
   "metadata": {
    "collapsed": false
   },
   "outputs": [],
   "source": [
    "#Cargamos los datos\n",
    "tripsDf = pd.read_csv(\"data/trip.csv\")\n",
    "stationsDf = pd.read_csv('data/station.csv')\n",
    "weatherDf = pd.read_csv(\"data/weather.csv\")"
   ]
  },
  {
   "cell_type": "code",
   "execution_count": 3,
   "metadata": {
    "collapsed": false
   },
   "outputs": [
    {
     "data": {
      "text/plain": [
       "id                     int64\n",
       "duration               int64\n",
       "start_date            object\n",
       "start_station_name    object\n",
       "start_station_id       int64\n",
       "end_date              object\n",
       "end_station_name      object\n",
       "end_station_id         int64\n",
       "bike_id                int64\n",
       "subscription_type     object\n",
       "zip_code              object\n",
       "dtype: object"
      ]
     },
     "execution_count": 3,
     "metadata": {},
     "output_type": "execute_result"
    }
   ],
   "source": [
    "#Analizo los tipos de datos de trips\n",
    "tripsDf.dtypes"
   ]
  },
  {
   "cell_type": "code",
   "execution_count": 4,
   "metadata": {
    "collapsed": true
   },
   "outputs": [],
   "source": [
    "#Convierto datos de fechas a datetime\n",
    "tripsDf['start_date'] = pd.to_datetime(tripsDf['start_date'], format = \"%m/%d/%Y %H:%M\")\n",
    "tripsDf['end_date'] = pd.to_datetime(tripsDf['end_date'], format = \"%m/%d/%Y %H:%M\")"
   ]
  },
  {
   "cell_type": "code",
   "execution_count": 5,
   "metadata": {
    "collapsed": false
   },
   "outputs": [],
   "source": [
    "#Creo columna solo con datos de la fecha de inicio\n",
    "tripsDf['date'] = tripsDf['start_date'].map(lambda x: x.date())"
   ]
  },
  {
   "cell_type": "code",
   "execution_count": 6,
   "metadata": {
    "collapsed": false
   },
   "outputs": [],
   "source": [
    "#Agrego columnas con el año, el mes y el dia\n",
    "tripsDf['year'] = tripsDf['date'].map(lambda x: x.year)\n",
    "tripsDf['month'] = tripsDf['date'].map(lambda x: x.month)\n",
    "tripsDf['day'] = tripsDf['date'].map(lambda x: x.day)"
   ]
  },
  {
   "cell_type": "code",
   "execution_count": 7,
   "metadata": {
    "collapsed": false
   },
   "outputs": [],
   "source": [
    "#Agrego una columna con formato año-mes\n",
    "tripsDf['year-month'] = tripsDf['start_date'].map(lambda x: x.strftime('%Y-%m'))"
   ]
  },
  {
   "cell_type": "code",
   "execution_count": 8,
   "metadata": {
    "collapsed": false
   },
   "outputs": [
    {
     "data": {
      "text/plain": [
       "id                     int64\n",
       "name                  object\n",
       "lat                  float64\n",
       "long                 float64\n",
       "dock_count             int64\n",
       "city                  object\n",
       "installation_date     object\n",
       "dtype: object"
      ]
     },
     "execution_count": 8,
     "metadata": {},
     "output_type": "execute_result"
    }
   ],
   "source": [
    "#Analizo los datos de stations\n",
    "stationsDf.dtypes"
   ]
  },
  {
   "cell_type": "code",
   "execution_count": 9,
   "metadata": {
    "collapsed": true
   },
   "outputs": [],
   "source": [
    "#Cambio el nombre de la columna id a station_id por claridad\n",
    "stationsDf.rename(columns={'id':'station_id'}, inplace=True)"
   ]
  },
  {
   "cell_type": "code",
   "execution_count": 10,
   "metadata": {
    "collapsed": false
   },
   "outputs": [
    {
     "data": {
      "text/plain": [
       "date                               object\n",
       "max_temperature_f                 float64\n",
       "mean_temperature_f                float64\n",
       "min_temperature_f                 float64\n",
       "max_dew_point_f                   float64\n",
       "mean_dew_point_f                  float64\n",
       "min_dew_point_f                   float64\n",
       "max_humidity                      float64\n",
       "mean_humidity                     float64\n",
       "min_humidity                      float64\n",
       "max_sea_level_pressure_inches     float64\n",
       "mean_sea_level_pressure_inches    float64\n",
       "min_sea_level_pressure_inches     float64\n",
       "max_visibility_miles              float64\n",
       "mean_visibility_miles             float64\n",
       "min_visibility_miles              float64\n",
       "max_wind_Speed_mph                float64\n",
       "mean_wind_speed_mph               float64\n",
       "max_gust_speed_mph                float64\n",
       "precipitation_inches               object\n",
       "cloud_cover                       float64\n",
       "events                             object\n",
       "wind_dir_degrees                  float64\n",
       "zip_code                            int64\n",
       "dtype: object"
      ]
     },
     "execution_count": 10,
     "metadata": {},
     "output_type": "execute_result"
    }
   ],
   "source": [
    "#Veamos los datos climaticos\n",
    "weatherDf.dtypes"
   ]
  },
  {
   "cell_type": "code",
   "execution_count": 11,
   "metadata": {
    "collapsed": true
   },
   "outputs": [],
   "source": [
    "#Pasamos a datetime el dato de la fecha\n",
    "weatherDf.date = pd.to_datetime(weatherDf.date)"
   ]
  },
  {
   "cell_type": "markdown",
   "metadata": {},
   "source": [
    "# ¿Cómo afecta el clima a los viajes en bicicleta?"
   ]
  },
  {
   "cell_type": "code",
   "execution_count": 12,
   "metadata": {
    "collapsed": false
   },
   "outputs": [
    {
     "name": "stderr",
     "output_type": "stream",
     "text": [
      "/home/mauro/anaconda2/lib/python2.7/site-packages/pandas/core/frame.py:2834: SettingWithCopyWarning: \n",
      "A value is trying to be set on a copy of a slice from a DataFrame\n",
      "\n",
      "See the caveats in the documentation: http://pandas.pydata.org/pandas-docs/stable/indexing.html#indexing-view-versus-copy\n",
      "  **kwargs)\n"
     ]
    },
    {
     "data": {
      "text/html": [
       "<div>\n",
       "<table border=\"1\" class=\"dataframe\">\n",
       "  <thead>\n",
       "    <tr style=\"text-align: right;\">\n",
       "      <th></th>\n",
       "      <th>date</th>\n",
       "      <th>mean_temperature_f</th>\n",
       "      <th>mean_wind_speed_mph</th>\n",
       "      <th>mean_visibility_miles</th>\n",
       "      <th>zip_code</th>\n",
       "      <th>total_trips</th>\n",
       "    </tr>\n",
       "  </thead>\n",
       "  <tbody>\n",
       "    <tr>\n",
       "      <th>0</th>\n",
       "      <td>2013-08-29</td>\n",
       "      <td>68.0</td>\n",
       "      <td>11.0</td>\n",
       "      <td>10.0</td>\n",
       "      <td>94107</td>\n",
       "      <td>642</td>\n",
       "    </tr>\n",
       "    <tr>\n",
       "      <th>1</th>\n",
       "      <td>2013-08-30</td>\n",
       "      <td>69.0</td>\n",
       "      <td>13.0</td>\n",
       "      <td>10.0</td>\n",
       "      <td>94107</td>\n",
       "      <td>606</td>\n",
       "    </tr>\n",
       "    <tr>\n",
       "      <th>2</th>\n",
       "      <td>2013-08-31</td>\n",
       "      <td>64.0</td>\n",
       "      <td>15.0</td>\n",
       "      <td>10.0</td>\n",
       "      <td>94107</td>\n",
       "      <td>556</td>\n",
       "    </tr>\n",
       "    <tr>\n",
       "      <th>3</th>\n",
       "      <td>2013-09-01</td>\n",
       "      <td>66.0</td>\n",
       "      <td>13.0</td>\n",
       "      <td>10.0</td>\n",
       "      <td>94107</td>\n",
       "      <td>600</td>\n",
       "    </tr>\n",
       "    <tr>\n",
       "      <th>4</th>\n",
       "      <td>2013-09-02</td>\n",
       "      <td>69.0</td>\n",
       "      <td>12.0</td>\n",
       "      <td>10.0</td>\n",
       "      <td>94107</td>\n",
       "      <td>594</td>\n",
       "    </tr>\n",
       "  </tbody>\n",
       "</table>\n",
       "</div>"
      ],
      "text/plain": [
       "        date  mean_temperature_f  mean_wind_speed_mph  mean_visibility_miles  \\\n",
       "0 2013-08-29                68.0                 11.0                   10.0   \n",
       "1 2013-08-30                69.0                 13.0                   10.0   \n",
       "2 2013-08-31                64.0                 15.0                   10.0   \n",
       "3 2013-09-01                66.0                 13.0                   10.0   \n",
       "4 2013-09-02                69.0                 12.0                   10.0   \n",
       "\n",
       "   zip_code  total_trips  \n",
       "0     94107          642  \n",
       "1     94107          606  \n",
       "2     94107          556  \n",
       "3     94107          600  \n",
       "4     94107          594  "
      ]
     },
     "execution_count": 12,
     "metadata": {},
     "output_type": "execute_result"
    }
   ],
   "source": [
    "#Obtenemos un dataframe con los viajes diarios por ciudad\n",
    "weatherInfluenceDf = stationsDf[['station_id','city']]\n",
    "weatherInfluenceDf.rename(columns={'station_id':'start_station_id'}, inplace=True)\n",
    "weatherInfluenceDf = tripsDf.merge(weatherInfluenceDf)\n",
    "weatherInfluenceDf = weatherInfluenceDf[['start_date','city']]\n",
    "weatherInfluenceDf.start_date = weatherInfluenceDf.start_date.apply(lambda x: x.date())\n",
    "\n",
    "#Creamos un dataframe que contenga el código postal de cada ciudad, en el orden de la\n",
    "#columna city del dataframe weatherInfluenceDf\n",
    "zip_code = []\n",
    "for ciudad in weatherInfluenceDf.city:\n",
    "    if (ciudad == 'San Francisco'):\n",
    "        zip_code.append([94107])\n",
    "    if (ciudad == 'Redwood City'):\n",
    "        zip_code.append([94063])\n",
    "    if (ciudad == 'Palo Alto'):\n",
    "        zip_code.append([94301])\n",
    "    if (ciudad == 'Mountain View'):\n",
    "        zip_code.append([94041])\n",
    "    if (ciudad == 'San Jose'):\n",
    "        zip_code.append([95113])\n",
    "        \n",
    "zip_code_df = pd.DataFrame(zip_code, columns={'zip_code'})\n",
    "\n",
    "#Retomando con el dataframe anterior con los viajes diarios por ciudad\n",
    "weatherInfluenceDf = pd.concat([weatherInfluenceDf,zip_code_df], axis=1)\n",
    "weatherInfluenceDf = weatherInfluenceDf[['start_date','zip_code']]\n",
    "weatherInfluenceDf.insert(2,'total_trips',1)\n",
    "weatherInfluenceDf = weatherInfluenceDf.groupby(['start_date','zip_code']).aggregate(sum).reset_index()\n",
    "weatherInfluenceDf.start_date = pd.to_datetime(weatherInfluenceDf.start_date)\n",
    "weatherInfluenceDf.rename(columns={'start_date' : 'date'}, inplace=True)\n",
    "\n",
    "#Luego unificamos cada una de las cantidades halladas recién con el set de datos meteorológicos\n",
    "weatherInfluenceDf = pd.merge(weatherDf[['date','mean_temperature_f','mean_wind_speed_mph','mean_visibility_miles','zip_code']],weatherInfluenceDf)\n",
    "weatherInfluenceDf.head(5)"
   ]
  },
  {
   "cell_type": "markdown",
   "metadata": {},
   "source": [
    "### ¿Cómo se relaciona la cantidad de viajes con la temperatura?"
   ]
  },
  {
   "cell_type": "code",
   "execution_count": 13,
   "metadata": {
    "collapsed": false
   },
   "outputs": [
    {
     "data": {
      "text/plain": [
       "<matplotlib.text.Text at 0x7eff8108e450>"
      ]
     },
     "execution_count": 13,
     "metadata": {},
     "output_type": "execute_result"
    },
    {
     "data": {
      "image/png": "[encoded data removed]",
      "text/plain": [
       "<matplotlib.figure.Figure at 0x7eff810decd0>"
      ]
     },
     "metadata": {},
     "output_type": "display_data"
    }
   ],
   "source": [
    "ax = weatherInfluenceDf[weatherInfluenceDf.zip_code == 94107].plot(kind='scatter', x='total_trips', y='mean_temperature_f', figsize=(9,6), color='blue', label='San Francisco', linewidth='0')\n",
    "\n",
    "weatherInfluenceDf[weatherInfluenceDf.zip_code == 94063].plot(kind='scatter', x='total_trips', y='mean_temperature_f', figsize=(9,6), color='yellow', label='Redwood City', linewidth='0',ax=ax)\n",
    "\n",
    "weatherInfluenceDf[weatherInfluenceDf.zip_code == 94301].plot(kind='scatter', x='total_trips', y='mean_temperature_f', figsize=(9,6), color='cyan', label='Palo Alto', linewidth='0',ax=ax)\n",
    "\n",
    "weatherInfluenceDf[weatherInfluenceDf.zip_code == 94041].plot(kind='scatter', x='total_trips', y='mean_temperature_f', figsize=(9,6), color='LightGreen', label='Mountain View',linewidth='0' ,ax=ax)\n",
    "\n",
    "weatherInfluenceDf[weatherInfluenceDf.zip_code == 95113].plot(kind='scatter', x='total_trips', y='mean_temperature_f', figsize=(9,6), color='red', label='San Jose', linewidth='0',ax=ax)\n",
    "\n",
    "ax.set_ylim(0,90)\n",
    "ax.set_xlim(0,1500)\n",
    "plt.legend(loc=4,prop={'size':10})\n",
    "plt.xlabel('Viajes diarios')\n",
    "plt.ylabel('Temperatura media (F)')\n",
    "plt.title('Cantidad de viajes con la temperatura')"
   ]
  },
  {
   "cell_type": "markdown",
   "metadata": {},
   "source": [
    "Analizamos la distribucion que se observa en el gráfico para los viajes de San Francisco, que presenta dos zonas bien definidas.\n",
    "\n",
    "Veamos qué días de la semana corresponden a cada una."
   ]
  },
  {
   "cell_type": "code",
   "execution_count": 76,
   "metadata": {
    "collapsed": false
   },
   "outputs": [
    {
     "name": "stderr",
     "output_type": "stream",
     "text": [
      "/home/mauro/anaconda2/lib/python2.7/site-packages/ipykernel/__main__.py:1: UserWarning: Boolean Series key will be reindexed to match DataFrame index.\n",
      "  if __name__ == '__main__':\n"
     ]
    },
    {
     "data": {
      "text/plain": [
       "<matplotlib.text.Text at 0x7eff7f412d90>"
      ]
     },
     "execution_count": 76,
     "metadata": {},
     "output_type": "execute_result"
    },
    {
     "data": {
      "image/png": "[encoded data removed]",
      "text/plain": [
       "<matplotlib.figure.Figure at 0x7eff6de29490>"
      ]
     },
     "metadata": {},
     "output_type": "display_data"
    }
   ],
   "source": [
    "weatherInfluenceDf[weatherInfluenceDf.zip_code == 94107][weatherInfluenceDf['total_trips'] > 200][weatherInfluenceDf['total_trips'] < 800]\\\n",
    "['date'].apply(lambda x: x.dayofweek).\\\n",
    "value_counts().plot(kind='bar', color='c')\n",
    "\n",
    "plt.xlabel('Dias de semana (Lunes = 0, ... ,Domingo = 6)')\n",
    "plt.xticks(rotation=0)\n",
    "plt.ylabel('Cantidad de viajes')\n",
    "plt.title('Cantidad de viajes por dia de semana para pocos alquileres')"
   ]
  },
  {
   "cell_type": "markdown",
   "metadata": {},
   "source": [
    "La mayoría de los viajes para la mancha azul izquierda se producen los fin de semana.\n",
    "Luego comprobamos qué sucede para la mancha azul derecha."
   ]
  },
  {
   "cell_type": "code",
   "execution_count": 77,
   "metadata": {
    "collapsed": false
   },
   "outputs": [
    {
     "name": "stderr",
     "output_type": "stream",
     "text": [
      "/home/mauro/anaconda2/lib/python2.7/site-packages/ipykernel/__main__.py:1: UserWarning: Boolean Series key will be reindexed to match DataFrame index.\n",
      "  if __name__ == '__main__':\n"
     ]
    },
    {
     "data": {
      "text/plain": [
       "<matplotlib.text.Text at 0x7eff7f71d6d0>"
      ]
     },
     "execution_count": 77,
     "metadata": {},
     "output_type": "execute_result"
    },
    {
     "data": {
      "image/png": "[encoded data removed]",
      "text/plain": [
       "<matplotlib.figure.Figure at 0x7eff794c2cd0>"
      ]
     },
     "metadata": {},
     "output_type": "display_data"
    }
   ],
   "source": [
    "weatherInfluenceDf[weatherInfluenceDf.zip_code == 94107][weatherInfluenceDf['total_trips'] > 900][weatherInfluenceDf['total_trips'] < 1500]\\\n",
    "['date'].apply(lambda x: x.dayofweek).\\\n",
    "value_counts().plot(kind='bar', color='c')\n",
    "\n",
    "plt.xlabel('Dias de semana (Lunes = 0, ... ,Domingo = 6)')\n",
    "plt.xticks(rotation=0)\n",
    "plt.ylabel('Cantidad de viajes')\n",
    "plt.title('Cantidad de viajes por dia de semana para muchos alquileres')"
   ]
  },
  {
   "cell_type": "markdown",
   "metadata": {},
   "source": [
    "Donde vemos que los viajes para muchos alquileres ocurren durante los días de semana, mientras que en los fin de semana prácticamente no hay viajes. "
   ]
  },
  {
   "cell_type": "markdown",
   "metadata": {},
   "source": [
    "Con esto pudimos corroborar que nuestra suposición respecto a las dos zonas azules es válida, lo que nos deja que:\n",
    "\n",
    "En días de semana → Hay muchos viajes (mancha azul derecha)\n",
    "\n",
    "En fin de semana → Hay pocos viajes (mancha azul izquierda)"
   ]
  },
  {
   "cell_type": "markdown",
   "metadata": {},
   "source": [
    "### ¿Cómo afecta la velocidad del viento a la cantidad de viajes?"
   ]
  },
  {
   "cell_type": "code",
   "execution_count": 16,
   "metadata": {
    "collapsed": false
   },
   "outputs": [
    {
     "data": {
      "text/plain": [
       "<matplotlib.text.Text at 0x7eff80cdf3d0>"
      ]
     },
     "execution_count": 16,
     "metadata": {},
     "output_type": "execute_result"
    },
    {
     "data": {
      "image/png": "[encoded data removed]",
      "text/plain": [
       "<matplotlib.figure.Figure at 0x7eff80d63e90>"
      ]
     },
     "metadata": {},
     "output_type": "display_data"
    }
   ],
   "source": [
    "ax = weatherInfluenceDf[weatherInfluenceDf.zip_code == 94107].plot(kind='scatter', x='total_trips', y='mean_wind_speed_mph', figsize=(9,6), color='blue', label='San Francisco', linewidth='0')\n",
    "\n",
    "weatherInfluenceDf[weatherInfluenceDf.zip_code == 94063].plot(kind='scatter', x='total_trips', y='mean_wind_speed_mph', figsize=(9,6), color='yellow', label='Redwood City', linewidth='0',ax=ax)\n",
    "\n",
    "weatherInfluenceDf[weatherInfluenceDf.zip_code == 94301].plot(kind='scatter', x='total_trips', y='mean_wind_speed_mph', figsize=(9,6), color='cyan', label='Palo Alto', linewidth='0',ax=ax)\n",
    "\n",
    "weatherInfluenceDf[weatherInfluenceDf.zip_code == 94041].plot(kind='scatter', x='total_trips', y='mean_wind_speed_mph', figsize=(9,6), color='LightGreen', label='Mountain View',linewidth='0' ,ax=ax)\n",
    "\n",
    "weatherInfluenceDf[weatherInfluenceDf.zip_code == 95113].plot(kind='scatter', x='total_trips', y='mean_wind_speed_mph', figsize=(9,6), color='red', label='San Jose', linewidth='0',ax=ax)\n",
    "\n",
    "ax.set_ylim(0,25)\n",
    "ax.set_xlim(0,1500)\n",
    "plt.legend(loc=0,prop={'size':10})\n",
    "plt.xlabel('Viajes diarios')\n",
    "plt.ylabel('Velocidad del viento (mph)')\n",
    "plt.title('Cantidad de viajes con la velocidad del viento')"
   ]
  },
  {
   "cell_type": "markdown",
   "metadata": {},
   "source": [
    "### ¿Cómo afecta la visibilidad a la cantidad de viajes?"
   ]
  },
  {
   "cell_type": "code",
   "execution_count": 17,
   "metadata": {
    "collapsed": false
   },
   "outputs": [
    {
     "data": {
      "text/plain": [
       "<matplotlib.text.Text at 0x7eff80b38790>"
      ]
     },
     "execution_count": 17,
     "metadata": {},
     "output_type": "execute_result"
    },
    {
     "data": {
      "image/png": "[encoded data removed]",
      "text/plain": [
       "<matplotlib.figure.Figure at 0x7eff80d0c290>"
      ]
     },
     "metadata": {},
     "output_type": "display_data"
    }
   ],
   "source": [
    "ax = weatherInfluenceDf[weatherInfluenceDf.zip_code == 94107].plot(kind='scatter', x='total_trips', y='mean_visibility_miles', figsize=(9,6), color='blue', label='San Francisco', linewidth='0')\n",
    "\n",
    "weatherInfluenceDf[weatherInfluenceDf.zip_code == 94063].plot(kind='scatter', x='total_trips', y='mean_visibility_miles', figsize=(9,6), color='yellow', label='Redwood City', linewidth='0',ax=ax)\n",
    "\n",
    "weatherInfluenceDf[weatherInfluenceDf.zip_code == 94301].plot(kind='scatter', x='total_trips', y='mean_visibility_miles', figsize=(9,6), color='cyan', label='Palo Alto', linewidth='0',ax=ax)\n",
    "\n",
    "weatherInfluenceDf[weatherInfluenceDf.zip_code == 94041].plot(kind='scatter', x='total_trips', y='mean_visibility_miles', figsize=(9,6), color='LightGreen', label='Mountain View',linewidth='0' ,ax=ax)\n",
    "\n",
    "weatherInfluenceDf[weatherInfluenceDf.zip_code == 95113].plot(kind='scatter', x='total_trips', y='mean_visibility_miles', figsize=(9,6), color='red', label='San Jose', linewidth='0',ax=ax)\n",
    "\n",
    "ax.set_ylim(0,20)\n",
    "ax.set_xlim(0,1500)\n",
    "plt.legend(loc=0,prop={'size':10})\n",
    "plt.xlabel('Viajes diarios')\n",
    "plt.ylabel('Visibilidad media (millas)')\n",
    "plt.title('Cantidad de viajes con la distancia de visibilidad')"
   ]
  },
  {
   "cell_type": "markdown",
   "metadata": {},
   "source": [
    "Este gráfico nos dice que la gran mayoría de los viajes se efectúan en días donde la visibilidad es de 10 millas. Lo que llama la atención es que para más de 10 millas se aprecian pocos viajes, lo que se esperaba que los datos estén más distribuídos en zonas de mayor visibilidad. Mientras que, para distancias menores, es evidente que se distinguen menos viajes debido a que la niebla dificulta mucho viajar en bicicleta.\n",
    "En base a esto, vamos a analizar por qué casi todos los viajes están en la distancia de 10 millas. Para ello, vamos a partir de un gráfico que muestra la cantidad de días totales para cada visibilidad."
   ]
  },
  {
   "cell_type": "code",
   "execution_count": 18,
   "metadata": {
    "collapsed": false
   },
   "outputs": [
    {
     "data": {
      "text/plain": [
       "<matplotlib.text.Text at 0x7eff80a190d0>"
      ]
     },
     "execution_count": 18,
     "metadata": {},
     "output_type": "execute_result"
    },
    {
     "data": {
      "image/png": "[encoded data removed]",
      "text/plain": [
       "<matplotlib.figure.Figure at 0x7eff810deb10>"
      ]
     },
     "metadata": {},
     "output_type": "display_data"
    }
   ],
   "source": [
    "weatherInfluenceDf.mean_visibility_miles.value_counts().plot(kind='bar', color='c', figsize=(7,5))\n",
    "plt.xlabel('Visibilidad promedio (millas)')\n",
    "plt.ylabel('Cantidad de dias totales')\n",
    "plt.title('Cantidad de dias para cada visibilidad')"
   ]
  },
  {
   "cell_type": "markdown",
   "metadata": {},
   "source": [
    "De este gráfico obtenemos como conclusión que los viajes se concentran en días con visibilidad promedio de 10 millas, por el hecho de que es por amplio margen la condición más común."
   ]
  },
  {
   "cell_type": "markdown",
   "metadata": {},
   "source": [
    "# ¿En qué estaciones se alquilaron más y menos bicicletas?"
   ]
  },
  {
   "cell_type": "code",
   "execution_count": 19,
   "metadata": {
    "collapsed": false
   },
   "outputs": [
    {
     "data": {
      "text/plain": [
       "<matplotlib.text.Text at 0x7eff808d55d0>"
      ]
     },
     "execution_count": 19,
     "metadata": {},
     "output_type": "execute_result"
    },
    {
     "data": {
      "image/png": "[encoded data removed]",
      "text/plain": [
       "<matplotlib.figure.Figure at 0x7eff8096a550>"
      ]
     },
     "metadata": {},
     "output_type": "display_data"
    }
   ],
   "source": [
    "tripsDf.groupby('start_station_id').size().plot(figsize=(7,5))\n",
    "plt.xlabel('Estaciones (Id)')\n",
    "plt.ylabel('Alquileres')\n",
    "plt.title('Cantidad de alquileres por estacion')"
   ]
  },
  {
   "cell_type": "markdown",
   "metadata": {},
   "source": [
    "Como podemos ver, las estaciones de 40 a 80 son las que reciben más alquileres respeto al resto de las estaciones, así que a partir de esto vamos a profundizar el análisis de por qué dichas estaciones reciben una cantidad de alquileres considerable respecto a las demás estaciones. Para ello realizamos el siguiente gráfico que contiene la cantidad de alquileres por estación y también por ciudad:"
   ]
  },
  {
   "cell_type": "code",
   "execution_count": 20,
   "metadata": {
    "collapsed": false
   },
   "outputs": [
    {
     "data": {
      "text/html": [
       "<div>\n",
       "<table border=\"1\" class=\"dataframe\">\n",
       "  <thead>\n",
       "    <tr style=\"text-align: right;\">\n",
       "      <th></th>\n",
       "      <th>station_id</th>\n",
       "      <th>name</th>\n",
       "      <th>city</th>\n",
       "      <th>count</th>\n",
       "    </tr>\n",
       "  </thead>\n",
       "  <tbody>\n",
       "    <tr>\n",
       "      <th>0</th>\n",
       "      <td>2</td>\n",
       "      <td>San Jose Diridon Caltrain Station</td>\n",
       "      <td>San Jose</td>\n",
       "      <td>9558</td>\n",
       "    </tr>\n",
       "    <tr>\n",
       "      <th>1</th>\n",
       "      <td>3</td>\n",
       "      <td>San Jose Civic Center</td>\n",
       "      <td>San Jose</td>\n",
       "      <td>1594</td>\n",
       "    </tr>\n",
       "    <tr>\n",
       "      <th>2</th>\n",
       "      <td>4</td>\n",
       "      <td>Santa Clara at Almaden</td>\n",
       "      <td>San Jose</td>\n",
       "      <td>3861</td>\n",
       "    </tr>\n",
       "    <tr>\n",
       "      <th>3</th>\n",
       "      <td>5</td>\n",
       "      <td>Adobe on Almaden</td>\n",
       "      <td>San Jose</td>\n",
       "      <td>1257</td>\n",
       "    </tr>\n",
       "    <tr>\n",
       "      <th>4</th>\n",
       "      <td>6</td>\n",
       "      <td>San Pedro Square</td>\n",
       "      <td>San Jose</td>\n",
       "      <td>2917</td>\n",
       "    </tr>\n",
       "  </tbody>\n",
       "</table>\n",
       "</div>"
      ],
      "text/plain": [
       "   station_id                               name      city  count\n",
       "0           2  San Jose Diridon Caltrain Station  San Jose   9558\n",
       "1           3              San Jose Civic Center  San Jose   1594\n",
       "2           4             Santa Clara at Almaden  San Jose   3861\n",
       "3           5                   Adobe on Almaden  San Jose   1257\n",
       "4           6                   San Pedro Square  San Jose   2917"
      ]
     },
     "execution_count": 20,
     "metadata": {},
     "output_type": "execute_result"
    }
   ],
   "source": [
    "#Creamos el dataframe para realizar el grafico\n",
    "tripsPerStationDf = tripsDf.groupby('start_station_id', as_index=False).size()\n",
    "tripsPerStationDf.name = 'count'\n",
    "tripsPerStationDf = tripsPerStationDf.reset_index()\n",
    "tripsPerStationDf.rename(columns={'start_station_id':'station_id'}, inplace=True)\n",
    "tripsPerStationDf = stationsDf.loc[:, ['station_id', 'name', 'city']].merge(tripsPerStationDf)\n",
    "tripsPerStationDf.head(5)"
   ]
  },
  {
   "cell_type": "code",
   "execution_count": 21,
   "metadata": {
    "collapsed": false
   },
   "outputs": [
    {
     "data": {
      "text/plain": [
       "<matplotlib.text.Text at 0x7eff807cbc90>"
      ]
     },
     "execution_count": 21,
     "metadata": {},
     "output_type": "execute_result"
    },
    {
     "data": {
      "image/png": "[encoded data removed]",
      "text/plain": [
       "<matplotlib.figure.Figure at 0x7eff80907150>"
      ]
     },
     "metadata": {},
     "output_type": "display_data"
    }
   ],
   "source": [
    "ax = tripsPerStationDf[tripsPerStationDf.city == 'San Francisco'].\\\n",
    "plot(kind='scatter', x='station_id', y='count', color='blue', label='San Francisco')\n",
    "\n",
    "tripsPerStationDf[tripsPerStationDf.city == 'Mountain View'].\\\n",
    "plot(kind='scatter', x='station_id', y='count', color='LightGreen', label='Mountain View', ax=ax)\n",
    "\n",
    "tripsPerStationDf[tripsPerStationDf.city == 'San Jose'].\\\n",
    "plot(kind='scatter', x='station_id', y='count', color='red', label='San Jose', ax=ax)\n",
    "\n",
    "tripsPerStationDf[tripsPerStationDf.city == 'Palo Alto'].\\\n",
    "plot(kind='scatter', x='station_id', y='count', color='yellow', label='Palo Alto', ax=ax)\n",
    "\n",
    "tripsPerStationDf[tripsPerStationDf.city == 'Redwood City'].\\\n",
    "plot(kind='scatter', x='station_id', y='count', color='violet', label='Redwood City', ax=ax)\n",
    "\n",
    "ax.set_ylim(0,60000)\n",
    "ax.set_xlim(0,100)\n",
    "ax.legend(loc=2)\n",
    "ax.set_xlabel('Estaciones (Id)')\n",
    "ax.set_ylabel('Alquileres')\n",
    "ax.set_title('Cantidad de alquileres por estacion y ciudad')"
   ]
  },
  {
   "cell_type": "markdown",
   "metadata": {},
   "source": [
    "Donde podemos ver claramente, que las estaciones entre 40 y 80 se encuentran ubicadas en la ciudad de San Francisco, siendo la ciudad más grande y poblada de las 5 ciudades que hay en el set de dato. Por ese motivo, se considera que los alquileres que hay en dichas estaciones son mucho más frecuentes que las estaciones que se encuentran en las otras ciudades. Además lo que difiere mucho en la cantidad de alquileres es que de todas las estaciones, la gran mayoría se encuentran en San Francisco, mientras que el resto de las ciudades tienen muy pocas estaciones y debido a eso los alquileres son menos frecuentes."
   ]
  },
  {
   "cell_type": "markdown",
   "metadata": {},
   "source": [
    "A partir de este gráfico, en el ámbito de las estaciones de San Francisco, llama la atención el punto azul ubicado muy arriba que corresponde a la estación 70, que inclusive en el primer gráfico de este análisis se puede apreciar un pico en dicha estación con una cantidad de alquileres considerablemente mayor a los demás, por lo que a partir de esta duda se hará un análisis."
   ]
  },
  {
   "cell_type": "code",
   "execution_count": 22,
   "metadata": {
    "collapsed": false
   },
   "outputs": [
    {
     "name": "stderr",
     "output_type": "stream",
     "text": [
      "/home/mauro/anaconda2/lib/python2.7/site-packages/ipykernel/__main__.py:1: FutureWarning: sort(columns=....) is deprecated, use sort_values(by=.....)\n",
      "  if __name__ == '__main__':\n"
     ]
    },
    {
     "data": {
      "text/html": [
       "<div>\n",
       "<table border=\"1\" class=\"dataframe\">\n",
       "  <thead>\n",
       "    <tr style=\"text-align: right;\">\n",
       "      <th></th>\n",
       "      <th>station_id</th>\n",
       "      <th>name</th>\n",
       "      <th>city</th>\n",
       "      <th>count</th>\n",
       "    </tr>\n",
       "  </thead>\n",
       "  <tbody>\n",
       "    <tr>\n",
       "      <th>58</th>\n",
       "      <td>70</td>\n",
       "      <td>San Francisco Caltrain (Townsend at 4th)</td>\n",
       "      <td>San Francisco</td>\n",
       "      <td>49092</td>\n",
       "    </tr>\n",
       "  </tbody>\n",
       "</table>\n",
       "</div>"
      ],
      "text/plain": [
       "    station_id                                      name           city  count\n",
       "58          70  San Francisco Caltrain (Townsend at 4th)  San Francisco  49092"
      ]
     },
     "execution_count": 22,
     "metadata": {},
     "output_type": "execute_result"
    }
   ],
   "source": [
    "tripsPerStationDf[tripsPerStationDf.city == 'San Francisco'].sort(['count'], ascending=False).head(1)"
   ]
  },
  {
   "cell_type": "markdown",
   "metadata": {},
   "source": [
    "Buscando en internet el mapa de San Francisco, vimos que dicha estación se encuentra al lado de una terminal de trenes, por lo que se podría pensar que mucha gente que viaja en tren realiza combinación con dicha estación de bicicletas.\n",
    "Vamos a comprobar en qué estaciones terminaron las bicicletas que partieron de la estación San Francisco Caltrain (Townsend at 4th), para corroborar si se encuentran dentro de la ciudad (en San Francisco) y no en otras ciudades. En caso afirmativo, se podría decir que mucha gente usa el tren para viajar a San Francisco desde otra ciudad, y luego usa las bicicletas para viajar de un punto a otro dentro de la misma ciudad (San Francisco)."
   ]
  },
  {
   "cell_type": "code",
   "execution_count": 23,
   "metadata": {
    "collapsed": false
   },
   "outputs": [
    {
     "data": {
      "text/html": [
       "<div>\n",
       "<table border=\"1\" class=\"dataframe\">\n",
       "  <thead>\n",
       "    <tr style=\"text-align: right;\">\n",
       "      <th></th>\n",
       "      <th>station_id</th>\n",
       "      <th>city</th>\n",
       "      <th>count</th>\n",
       "    </tr>\n",
       "  </thead>\n",
       "  <tbody>\n",
       "    <tr>\n",
       "      <th>0</th>\n",
       "      <td>2</td>\n",
       "      <td>San Jose</td>\n",
       "      <td>1</td>\n",
       "    </tr>\n",
       "    <tr>\n",
       "      <th>1</th>\n",
       "      <td>29</td>\n",
       "      <td>Mountain View</td>\n",
       "      <td>1</td>\n",
       "    </tr>\n",
       "    <tr>\n",
       "      <th>2</th>\n",
       "      <td>39</td>\n",
       "      <td>San Francisco</td>\n",
       "      <td>1406</td>\n",
       "    </tr>\n",
       "    <tr>\n",
       "      <th>3</th>\n",
       "      <td>41</td>\n",
       "      <td>San Francisco</td>\n",
       "      <td>1294</td>\n",
       "    </tr>\n",
       "    <tr>\n",
       "      <th>4</th>\n",
       "      <td>42</td>\n",
       "      <td>San Francisco</td>\n",
       "      <td>1700</td>\n",
       "    </tr>\n",
       "  </tbody>\n",
       "</table>\n",
       "</div>"
      ],
      "text/plain": [
       "   station_id           city  count\n",
       "0           2       San Jose      1\n",
       "1          29  Mountain View      1\n",
       "2          39  San Francisco   1406\n",
       "3          41  San Francisco   1294\n",
       "4          42  San Francisco   1700"
      ]
     },
     "execution_count": 23,
     "metadata": {},
     "output_type": "execute_result"
    }
   ],
   "source": [
    "endingStationsDf = tripsDf[tripsDf.start_station_id == 70][['end_station_id']]\n",
    "endingStationsDf = endingStationsDf.rename(columns={'end_station_id' : 'station_id'})\n",
    "endingStationsDf = endingStationsDf.merge(stationsDf[['station_id','city']])\n",
    "endingStationsDf.insert(2,'count',1)\n",
    "endingStationsDf = endingStationsDf.groupby(['station_id','city']).aggregate(sum)\n",
    "endingStationsDf = endingStationsDf.reset_index()\n",
    "endingStationsDf.head(5)"
   ]
  },
  {
   "cell_type": "code",
   "execution_count": 24,
   "metadata": {
    "collapsed": false
   },
   "outputs": [
    {
     "data": {
      "text/plain": [
       "San Francisco    35\n",
       "San Jose          1\n",
       "Mountain View     1\n",
       "Name: city, dtype: int64"
      ]
     },
     "execution_count": 24,
     "metadata": {},
     "output_type": "execute_result"
    }
   ],
   "source": [
    "endingStationsDf.city.value_counts()"
   ]
  },
  {
   "cell_type": "code",
   "execution_count": 25,
   "metadata": {
    "collapsed": false
   },
   "outputs": [
    {
     "data": {
      "text/plain": [
       "<matplotlib.text.Text at 0x7eff80643dd0>"
      ]
     },
     "execution_count": 25,
     "metadata": {},
     "output_type": "execute_result"
    },
    {
     "data": {
      "image/png": "[encoded data removed]",
      "text/plain": [
       "<matplotlib.figure.Figure at 0x7eff80921210>"
      ]
     },
     "metadata": {},
     "output_type": "display_data"
    }
   ],
   "source": [
    "ax = endingStationsDf[endingStationsDf.city == 'San Francisco'].\\\n",
    "plot(kind='scatter', x='station_id', y='count', color='blue', label='San Francisco', linewidth='0')\n",
    "\n",
    "endingStationsDf[endingStationsDf.city == 'Mountain View'].\\\n",
    "plot(kind='scatter', x='station_id', y='count', color='LightGreen', label='Mountain View', linewidth='0', ax=ax)\n",
    "\n",
    "endingStationsDf[endingStationsDf.city == 'San Jose'].\\\n",
    "plot(kind='scatter', x='station_id', y='count', color='red', label='San Jose', linewidth='0', ax=ax)\n",
    "\n",
    "ax.set_ylim(0,4000)\n",
    "ax.set_xlim(0,100)\n",
    "ax.legend(loc=2)\n",
    "ax.set_xlabel('Estaciones (Id)')\n",
    "ax.set_ylabel('Bicicletas recibidas')\n",
    "ax.set_title('Cantidad de bicicletas recibidas por estacion y ciudad\\n(partidas desde la estacion 70)')"
   ]
  },
  {
   "cell_type": "markdown",
   "metadata": {},
   "source": [
    "Como vemos, la mayoría de los que alquilan en la estación 70 van a terminar en estaciones dentro de la ciudad de San Francisco, por lo tanto nuestra deducción puede ser válida. Sin embargo, llama la atención que hay un par de alquileres que fueron a parar en estaciones de otras ciudades, como vemos, un alquiler fue a parar en una estación de Mountain View, y la otra en San Jose. En base a eso hagamos un análisis sobre dichos viajes, en un principio se podría asumir que esos viajes se efectuaron en un horario donde la estación de trenes está cerrado, como en la madrugada."
   ]
  },
  {
   "cell_type": "code",
   "execution_count": 26,
   "metadata": {
    "collapsed": false,
    "scrolled": true
   },
   "outputs": [
    {
     "data": {
      "text/html": [
       "<div>\n",
       "<table border=\"1\" class=\"dataframe\">\n",
       "  <thead>\n",
       "    <tr style=\"text-align: right;\">\n",
       "      <th></th>\n",
       "      <th>start_date</th>\n",
       "      <th>start_station_name</th>\n",
       "      <th>start_station_id</th>\n",
       "      <th>end_date</th>\n",
       "      <th>end_station_name</th>\n",
       "      <th>end_station_id</th>\n",
       "      <th>destination_city</th>\n",
       "    </tr>\n",
       "  </thead>\n",
       "  <tbody>\n",
       "    <tr>\n",
       "      <th>586420</th>\n",
       "      <td>2013-09-06 11:35:00</td>\n",
       "      <td>San Francisco Caltrain (Townsend at 4th)</td>\n",
       "      <td>70</td>\n",
       "      <td>2013-09-06 16:29:00</td>\n",
       "      <td>San Jose Diridon Caltrain Station</td>\n",
       "      <td>2</td>\n",
       "      <td>San Jose</td>\n",
       "    </tr>\n",
       "    <tr>\n",
       "      <th>650447</th>\n",
       "      <td>2014-09-01 13:40:00</td>\n",
       "      <td>San Francisco Caltrain (Townsend at 4th)</td>\n",
       "      <td>70</td>\n",
       "      <td>2014-09-01 21:31:00</td>\n",
       "      <td>San Antonio Caltrain Station</td>\n",
       "      <td>29</td>\n",
       "      <td>Mountain View</td>\n",
       "    </tr>\n",
       "  </tbody>\n",
       "</table>\n",
       "</div>"
      ],
      "text/plain": [
       "                start_date                        start_station_name  \\\n",
       "586420 2013-09-06 11:35:00  San Francisco Caltrain (Townsend at 4th)   \n",
       "650447 2014-09-01 13:40:00  San Francisco Caltrain (Townsend at 4th)   \n",
       "\n",
       "        start_station_id            end_date  \\\n",
       "586420                70 2013-09-06 16:29:00   \n",
       "650447                70 2014-09-01 21:31:00   \n",
       "\n",
       "                         end_station_name  end_station_id destination_city  \n",
       "586420  San Jose Diridon Caltrain Station               2         San Jose  \n",
       "650447       San Antonio Caltrain Station              29    Mountain View  "
      ]
     },
     "execution_count": 26,
     "metadata": {},
     "output_type": "execute_result"
    }
   ],
   "source": [
    "combinationDf = stationsDf[['station_id','city']].rename(columns={'station_id' : 'end_station_id'})\n",
    "combinationDf = tripsDf.merge(combinationDf[['end_station_id','city']])\n",
    "combinationDf = combinationDf.rename(columns={'city' : 'destination_city'})\n",
    "combinationDf[['start_date','start_station_name','start_station_id','end_date','end_station_name','end_station_id','destination_city']][(combinationDf.start_station_id == 70) & (combinationDf.destination_city != 'San Francisco')]"
   ]
  },
  {
   "cell_type": "markdown",
   "metadata": {},
   "source": [
    "Los datos no coinciden con nuestra suposición."
   ]
  },
  {
   "cell_type": "markdown",
   "metadata": {},
   "source": [
    "# ¿Cuántos alquileres se utilizaron para viajar de una ciudad a otra?"
   ]
  },
  {
   "cell_type": "code",
   "execution_count": 27,
   "metadata": {
    "collapsed": false
   },
   "outputs": [
    {
     "data": {
      "text/html": [
       "<div>\n",
       "<table border=\"1\" class=\"dataframe\">\n",
       "  <thead>\n",
       "    <tr style=\"text-align: right;\">\n",
       "      <th></th>\n",
       "      <th>id</th>\n",
       "      <th>duration</th>\n",
       "      <th>start_date</th>\n",
       "      <th>start_station_name</th>\n",
       "      <th>start_station_id</th>\n",
       "      <th>end_date</th>\n",
       "      <th>end_station_name</th>\n",
       "      <th>end_station_id</th>\n",
       "      <th>bike_id</th>\n",
       "      <th>subscription_type</th>\n",
       "      <th>zip_code</th>\n",
       "      <th>date</th>\n",
       "      <th>year</th>\n",
       "      <th>month</th>\n",
       "      <th>day</th>\n",
       "      <th>year-month</th>\n",
       "      <th>start_city</th>\n",
       "      <th>end_city</th>\n",
       "    </tr>\n",
       "  </thead>\n",
       "  <tbody>\n",
       "    <tr>\n",
       "      <th>0</th>\n",
       "      <td>4576</td>\n",
       "      <td>63</td>\n",
       "      <td>2013-08-29 14:13:00</td>\n",
       "      <td>South Van Ness at Market</td>\n",
       "      <td>66</td>\n",
       "      <td>2013-08-29 14:14:00</td>\n",
       "      <td>South Van Ness at Market</td>\n",
       "      <td>66</td>\n",
       "      <td>520</td>\n",
       "      <td>Subscriber</td>\n",
       "      <td>94127</td>\n",
       "      <td>2013-08-29</td>\n",
       "      <td>2013</td>\n",
       "      <td>8</td>\n",
       "      <td>29</td>\n",
       "      <td>2013-08</td>\n",
       "      <td>San Francisco</td>\n",
       "      <td>San Francisco</td>\n",
       "    </tr>\n",
       "  </tbody>\n",
       "</table>\n",
       "</div>"
      ],
      "text/plain": [
       "     id  duration          start_date        start_station_name  \\\n",
       "0  4576        63 2013-08-29 14:13:00  South Van Ness at Market   \n",
       "\n",
       "   start_station_id            end_date          end_station_name  \\\n",
       "0                66 2013-08-29 14:14:00  South Van Ness at Market   \n",
       "\n",
       "   end_station_id  bike_id subscription_type zip_code        date  year  \\\n",
       "0              66      520        Subscriber    94127  2013-08-29  2013   \n",
       "\n",
       "   month  day year-month     start_city       end_city  \n",
       "0      8   29    2013-08  San Francisco  San Francisco  "
      ]
     },
     "execution_count": 27,
     "metadata": {},
     "output_type": "execute_result"
    }
   ],
   "source": [
    "stations_c = stationsDf[['station_id','city']]\n",
    "stations_c = stations_c.rename(columns={'station_id' : 'start_station_id', 'city' : 'start_city'})\n",
    "tripsToOtherCityDf = tripsDf.merge(stations_c[['start_station_id','start_city']])\n",
    "stations_c = stations_c.rename(columns={'start_station_id' : 'end_station_id', 'start_city' : 'end_city'})\n",
    "tripsToOtherCityDf = tripsToOtherCityDf.merge(stations_c[['end_station_id','end_city']])\n",
    "tripsToOtherCityDf.head(1)\n"
   ]
  },
  {
   "cell_type": "markdown",
   "metadata": {},
   "source": [
    "Armamos un nuevo DataFrame donde en cada ciudad colocamos los alquileres cuyo destino fueron en la misma ciudad del que partió, y los alquieres cuyo destino fueron en otra ciudad del que partió."
   ]
  },
  {
   "cell_type": "code",
   "execution_count": 28,
   "metadata": {
    "collapsed": false
   },
   "outputs": [
    {
     "name": "stderr",
     "output_type": "stream",
     "text": [
      "/home/mauro/anaconda2/lib/python2.7/site-packages/ipykernel/__main__.py:3: UserWarning: Boolean Series key will be reindexed to match DataFrame index.\n",
      "  app.launch_new_instance()\n"
     ]
    }
   ],
   "source": [
    "entregas = []\n",
    "for i in range(0,len(stationsDf.city.value_counts())):\n",
    "    entregas.append([stationsDf.city.value_counts().index[i],\\\n",
    "                     tripsToOtherCityDf[tripsToOtherCityDf.start_city == stationsDf.city.value_counts().index[i]][(tripsToOtherCityDf.start_city) == (tripsToOtherCityDf.end_city)].shape[0],\\\n",
    "                     tripsToOtherCityDf[tripsToOtherCityDf.start_city == stationsDf.city.value_counts().index[i]][(tripsToOtherCityDf.start_city) != (tripsToOtherCityDf.end_city)].shape[0]\n",
    "                    ])\n",
    "entregasDf = pd.DataFrame(entregas, columns=['city','same_city_destination','other_city_destination'])"
   ]
  },
  {
   "cell_type": "code",
   "execution_count": 29,
   "metadata": {
    "collapsed": false
   },
   "outputs": [
    {
     "data": {
      "text/html": [
       "<div>\n",
       "<table border=\"1\" class=\"dataframe\">\n",
       "  <thead>\n",
       "    <tr style=\"text-align: right;\">\n",
       "      <th></th>\n",
       "      <th>city</th>\n",
       "      <th>same_city_destination</th>\n",
       "      <th>other_city_destination</th>\n",
       "    </tr>\n",
       "  </thead>\n",
       "  <tbody>\n",
       "    <tr>\n",
       "      <th>0</th>\n",
       "      <td>San Francisco</td>\n",
       "      <td>603693</td>\n",
       "      <td>15</td>\n",
       "    </tr>\n",
       "    <tr>\n",
       "      <th>1</th>\n",
       "      <td>San Jose</td>\n",
       "      <td>37856</td>\n",
       "      <td>22</td>\n",
       "    </tr>\n",
       "    <tr>\n",
       "      <th>2</th>\n",
       "      <td>Redwood City</td>\n",
       "      <td>3329</td>\n",
       "      <td>104</td>\n",
       "    </tr>\n",
       "    <tr>\n",
       "      <th>3</th>\n",
       "      <td>Mountain View</td>\n",
       "      <td>17746</td>\n",
       "      <td>421</td>\n",
       "    </tr>\n",
       "    <tr>\n",
       "      <th>4</th>\n",
       "      <td>Palo Alto</td>\n",
       "      <td>6293</td>\n",
       "      <td>480</td>\n",
       "    </tr>\n",
       "  </tbody>\n",
       "</table>\n",
       "</div>"
      ],
      "text/plain": [
       "            city  same_city_destination  other_city_destination\n",
       "0  San Francisco                 603693                      15\n",
       "1       San Jose                  37856                      22\n",
       "2   Redwood City                   3329                     104\n",
       "3  Mountain View                  17746                     421\n",
       "4      Palo Alto                   6293                     480"
      ]
     },
     "execution_count": 29,
     "metadata": {},
     "output_type": "execute_result"
    }
   ],
   "source": [
    "entregasDf"
   ]
  },
  {
   "cell_type": "markdown",
   "metadata": {},
   "source": [
    "Como vemos en la tabla, en cada ciudad se puede concluir que la mayoría de los viajes son efectuados sobre la misma ciudad o alrededores, por lo que las bicicletas son devueltas en estaciones de la misma ciudad al que partió.\n",
    "En cuanto al viaje hacia otras ciudades vamos a realizar algunos análisis. Como vemos, tanto en Mountain View como en Palo Alto, hay una cantidad considerable de alquileres que van desde alguna de ambas ciudades a otra ciudad. Usando esta base, vamos a ver cuál es la ciudad destino con mayor cantidad de llegadas."
   ]
  },
  {
   "cell_type": "code",
   "execution_count": 30,
   "metadata": {
    "collapsed": false
   },
   "outputs": [
    {
     "name": "stderr",
     "output_type": "stream",
     "text": [
      "/home/mauro/anaconda2/lib/python2.7/site-packages/ipykernel/__main__.py:1: UserWarning: Boolean Series key will be reindexed to match DataFrame index.\n",
      "  if __name__ == '__main__':\n"
     ]
    },
    {
     "data": {
      "text/plain": [
       "<matplotlib.text.Text at 0x7eff80545f10>"
      ]
     },
     "execution_count": 30,
     "metadata": {},
     "output_type": "execute_result"
    },
    {
     "data": {
      "image/png": "[encoded data removed]",
      "text/plain": [
       "<matplotlib.figure.Figure at 0x7eff80921290>"
      ]
     },
     "metadata": {},
     "output_type": "display_data"
    }
   ],
   "source": [
    "tripsToOtherCityDf[tripsToOtherCityDf.start_city == 'Palo Alto'][(tripsToOtherCityDf.start_city) != (tripsToOtherCityDf.end_city)].end_city.value_counts().plot(kind='bar', figsize=(7,5), color='c')\n",
    "plt.xlabel('Ciudad destino')\n",
    "plt.xticks(rotation=0)\n",
    "plt.ylabel('Cantidad de llegadas')\n",
    "plt.title('Bicicletas recibidas que partieron de Palo Alto')"
   ]
  },
  {
   "cell_type": "markdown",
   "metadata": {},
   "source": [
    "Vemos que muchos de los que salen de Palo Alto, viajan en bicicleta hasta Mountain View, que es la ciudad más cercana a Palo Alto (unos 10 Km). Mientras que otra pequeña porción va a Redwood City, que queda un poco más lejos (unos 14 Km). Y unos muy pocos a San Francisco que queda mucho más lejos (55 km)."
   ]
  },
  {
   "cell_type": "code",
   "execution_count": 31,
   "metadata": {
    "collapsed": false
   },
   "outputs": [
    {
     "name": "stderr",
     "output_type": "stream",
     "text": [
      "/home/mauro/anaconda2/lib/python2.7/site-packages/ipykernel/__main__.py:1: UserWarning: Boolean Series key will be reindexed to match DataFrame index.\n",
      "  if __name__ == '__main__':\n"
     ]
    },
    {
     "data": {
      "text/plain": [
       "<matplotlib.text.Text at 0x7eff8040bc90>"
      ]
     },
     "execution_count": 31,
     "metadata": {},
     "output_type": "execute_result"
    },
    {
     "data": {
      "image/png": "[encoded data removed]",
      "text/plain": [
       "<matplotlib.figure.Figure at 0x7eff804335d0>"
      ]
     },
     "metadata": {},
     "output_type": "display_data"
    }
   ],
   "source": [
    "tripsToOtherCityDf[tripsToOtherCityDf.start_city == 'Mountain View'][(tripsToOtherCityDf.start_city) != (tripsToOtherCityDf.end_city)].end_city.value_counts().plot(kind='bar', figsize=(7, 5), color='c')\n",
    "plt.xlabel('Ciudad destino')\n",
    "plt.xticks(rotation=0)\n",
    "plt.ylabel('Cantidad de llegadas')\n",
    "plt.title('Bicicletas recibidas que partieron de Mountain View')"
   ]
  },
  {
   "cell_type": "markdown",
   "metadata": {},
   "source": [
    "Y para Mountain View pasa al revés, la gran mayoría viaja para Palo Alto. Acá llama la atención que haya más viajes hacia San Jose (21 km) y a San Francisco (61 km) que se encuentran más lejos que Redwood City (17 km), que tiene menos viajes.\n",
    "Por último también vamos a analizar las bicicletas que partieron de Redwood City para ver qué datos obtenemos, más allá de que su cantidad de destinos hacia otras ciudades sea mucho menor que Palo Alto y Mountain View, aunque considerablemente mayor a San Francisco y San José que son muy pocos."
   ]
  },
  {
   "cell_type": "code",
   "execution_count": 32,
   "metadata": {
    "collapsed": false
   },
   "outputs": [
    {
     "name": "stderr",
     "output_type": "stream",
     "text": [
      "/home/mauro/anaconda2/lib/python2.7/site-packages/ipykernel/__main__.py:1: UserWarning: Boolean Series key will be reindexed to match DataFrame index.\n",
      "  if __name__ == '__main__':\n"
     ]
    },
    {
     "data": {
      "text/plain": [
       "<matplotlib.text.Text at 0x7eff802a9190>"
      ]
     },
     "execution_count": 32,
     "metadata": {},
     "output_type": "execute_result"
    },
    {
     "data": {
      "image/png": "[encoded data removed]",
      "text/plain": [
       "<matplotlib.figure.Figure at 0x7eff80369210>"
      ]
     },
     "metadata": {},
     "output_type": "display_data"
    }
   ],
   "source": [
    "tripsToOtherCityDf[tripsToOtherCityDf.start_city == 'Redwood City'][(tripsToOtherCityDf.start_city) != (tripsToOtherCityDf.end_city)].end_city.value_counts().plot(kind='bar', figsize=(7, 5), color='c')\n",
    "plt.xlabel('Ciudad destino')\n",
    "plt.xticks(rotation=0)\n",
    "plt.ylabel('Cantidad de llegadas')\n",
    "plt.title('Bicicletas recibidas que partieron de Redwood City')"
   ]
  },
  {
   "cell_type": "markdown",
   "metadata": {},
   "source": [
    "Y acá vemos que la gran mayoría va hacia Palo Alto.\n",
    "En cuanto a las bicicletas que parten de San Francisco y San Jose son muy pocas de las que viajan a otras ciudades, por lo que no consideramos que sea necesario analizar a qué ciudades van a parar.\n",
    "De esto sacamos la conclusión de que la gran mayoría de alquileres que se usaron para viajar en bicicleta de una ciudad a otra, se dió con mucha intensidad entre Palo Alto y Mountain View, cuya distancia entre ambas ciudades son 10 Km. Por otro lado se dió entre Palo Alto y Redwood City, aunque con menos intensidad que el anterior, cuya distancia entre ambas ciudades son 14 Km."
   ]
  },
  {
   "cell_type": "markdown",
   "metadata": {},
   "source": [
    "# ¿Cómo evoluciona con el tiempo la cantidad de viajes?"
   ]
  },
  {
   "cell_type": "markdown",
   "metadata": {},
   "source": [
    "Se realizará un análisis de la cantidad de viajes utilizando los datos de los mismos entre Agosto del 2013 y Agosto del 2015, con el fin de determinar cómo se comporta la demanda del servicio en el tiempo."
   ]
  },
  {
   "cell_type": "markdown",
   "metadata": {},
   "source": [
    "### ¿Qué días hubo más viajes?"
   ]
  },
  {
   "cell_type": "code",
   "execution_count": 33,
   "metadata": {
    "collapsed": false
   },
   "outputs": [],
   "source": [
    "#Viajes por fecha\n",
    "tripsPerDay = pd.DataFrame({'count' : tripsDf.groupby(['date']).size()}).reset_index()\n",
    "tripsPerDay['Dia'] = tripsPerDay['date'].map(lambda x: x.strftime('%A'))"
   ]
  },
  {
   "cell_type": "code",
   "execution_count": 34,
   "metadata": {
    "collapsed": false
   },
   "outputs": [
    {
     "data": {
      "text/html": [
       "<div>\n",
       "<table border=\"1\" class=\"dataframe\">\n",
       "  <thead>\n",
       "    <tr style=\"text-align: right;\">\n",
       "      <th></th>\n",
       "      <th>index</th>\n",
       "      <th>date</th>\n",
       "      <th>count</th>\n",
       "      <th>Dia</th>\n",
       "    </tr>\n",
       "  </thead>\n",
       "  <tbody>\n",
       "    <tr>\n",
       "      <th>0</th>\n",
       "      <td>382</td>\n",
       "      <td>2014-09-15</td>\n",
       "      <td>1516</td>\n",
       "      <td>Monday</td>\n",
       "    </tr>\n",
       "    <tr>\n",
       "      <th>1</th>\n",
       "      <td>362</td>\n",
       "      <td>2014-08-26</td>\n",
       "      <td>1513</td>\n",
       "      <td>Tuesday</td>\n",
       "    </tr>\n",
       "    <tr>\n",
       "      <th>2</th>\n",
       "      <td>426</td>\n",
       "      <td>2014-10-29</td>\n",
       "      <td>1496</td>\n",
       "      <td>Wednesday</td>\n",
       "    </tr>\n",
       "    <tr>\n",
       "      <th>3</th>\n",
       "      <td>411</td>\n",
       "      <td>2014-10-14</td>\n",
       "      <td>1496</td>\n",
       "      <td>Tuesday</td>\n",
       "    </tr>\n",
       "    <tr>\n",
       "      <th>4</th>\n",
       "      <td>363</td>\n",
       "      <td>2014-08-27</td>\n",
       "      <td>1479</td>\n",
       "      <td>Wednesday</td>\n",
       "    </tr>\n",
       "    <tr>\n",
       "      <th>5</th>\n",
       "      <td>727</td>\n",
       "      <td>2015-08-26</td>\n",
       "      <td>1465</td>\n",
       "      <td>Wednesday</td>\n",
       "    </tr>\n",
       "    <tr>\n",
       "      <th>6</th>\n",
       "      <td>413</td>\n",
       "      <td>2014-10-16</td>\n",
       "      <td>1462</td>\n",
       "      <td>Thursday</td>\n",
       "    </tr>\n",
       "    <tr>\n",
       "      <th>7</th>\n",
       "      <td>399</td>\n",
       "      <td>2014-10-02</td>\n",
       "      <td>1452</td>\n",
       "      <td>Thursday</td>\n",
       "    </tr>\n",
       "    <tr>\n",
       "      <th>8</th>\n",
       "      <td>698</td>\n",
       "      <td>2015-07-28</td>\n",
       "      <td>1451</td>\n",
       "      <td>Tuesday</td>\n",
       "    </tr>\n",
       "    <tr>\n",
       "      <th>9</th>\n",
       "      <td>728</td>\n",
       "      <td>2015-08-27</td>\n",
       "      <td>1443</td>\n",
       "      <td>Thursday</td>\n",
       "    </tr>\n",
       "  </tbody>\n",
       "</table>\n",
       "</div>"
      ],
      "text/plain": [
       "   index        date  count        Dia\n",
       "0    382  2014-09-15   1516     Monday\n",
       "1    362  2014-08-26   1513    Tuesday\n",
       "2    426  2014-10-29   1496  Wednesday\n",
       "3    411  2014-10-14   1496    Tuesday\n",
       "4    363  2014-08-27   1479  Wednesday\n",
       "5    727  2015-08-26   1465  Wednesday\n",
       "6    413  2014-10-16   1462   Thursday\n",
       "7    399  2014-10-02   1452   Thursday\n",
       "8    698  2015-07-28   1451    Tuesday\n",
       "9    728  2015-08-27   1443   Thursday"
      ]
     },
     "execution_count": 34,
     "metadata": {},
     "output_type": "execute_result"
    }
   ],
   "source": [
    "#Top 5 de días con más viajes\n",
    "tripsPerDay.sort_values(by='count', ascending=False).head(10).reset_index()"
   ]
  },
  {
   "cell_type": "markdown",
   "metadata": {},
   "source": [
    "No sólo observamos que los días con mayor cantidad de viajes son laborables, sino que recién en la posición 6 aparece un día correspondiente al último año del cual se tienen datos. \n",
    "\n",
    "Podría indicar que no han aumentado considerablemente los viajes, aunque también se observa que los meses del 2014 con mayor cantidad de viajes son posteriores a Agosto en su mayoría, meses de los que no tenemos datos para el año 2015."
   ]
  },
  {
   "cell_type": "markdown",
   "metadata": {},
   "source": [
    "### Cantidad de viajes, mes a mes"
   ]
  },
  {
   "cell_type": "code",
   "execution_count": 35,
   "metadata": {
    "collapsed": false,
    "scrolled": true
   },
   "outputs": [
    {
     "data": {
      "text/plain": [
       "<seaborn.axisgrid.FacetGrid at 0x7eff8040b210>"
      ]
     },
     "execution_count": 35,
     "metadata": {},
     "output_type": "execute_result"
    },
    {
     "data": {
      "image/png": "[encoded data removed]",
      "text/plain": [
       "<matplotlib.figure.Figure at 0x7eff8040b290>"
      ]
     },
     "metadata": {},
     "output_type": "display_data"
    }
   ],
   "source": [
    "#Plot de viajes por mes\n",
    "monthlyTrips = tripsDf\n",
    "monthlyTrips = pd.DataFrame({'count' : tripsDf.groupby(['year', 'month', 'year-month']).size()}).reset_index()\n",
    "monthlyTrips = monthlyTrips.loc[:, ['count', 'year-month', 'year', 'month']]\n",
    "monthlyTrips.rename(columns={'count':'Viajes', 'month':'Mes', 'year':'Lapso', 'year-month':'Fecha'}, inplace=True)\n",
    "\n",
    "g = sns.factorplot(x='Fecha', y='Viajes', hue='Lapso', data=monthlyTrips, kind = 'bar', size=4, aspect = 2)\n",
    "g.axes.flat[0].set_title('Viajes realizados mes a mes')\n",
    "g.set_xticklabels(rotation=60)"
   ]
  },
  {
   "cell_type": "markdown",
   "metadata": {},
   "source": [
    "De nuevo, vemos que el pico de viajes ocurrió durante el 2014, en el mes de Octubre. "
   ]
  },
  {
   "cell_type": "markdown",
   "metadata": {},
   "source": [
    "### Comparación interanual de viajes mensuales"
   ]
  },
  {
   "cell_type": "markdown",
   "metadata": {},
   "source": [
    "Para una comparación que no esté atada a las condiciones particulares de cada mes, vamos a analizar de forma interanual la cantidad mensual de viajes."
   ]
  },
  {
   "cell_type": "code",
   "execution_count": 36,
   "metadata": {
    "collapsed": false
   },
   "outputs": [
    {
     "data": {
      "text/plain": [
       "<seaborn.axisgrid.FacetGrid at 0x7eff7fd81fd0>"
      ]
     },
     "execution_count": 36,
     "metadata": {},
     "output_type": "execute_result"
    },
    {
     "data": {
      "image/png": "[encoded data removed]",
      "text/plain": [
       "<matplotlib.figure.Figure at 0x7eff7fd81f90>"
      ]
     },
     "metadata": {},
     "output_type": "display_data"
    }
   ],
   "source": [
    "#Plot de viajes por mes\n",
    "monthlyTrips = tripsDf\n",
    "monthlyTrips = pd.DataFrame({'count' : tripsDf.groupby(['year', 'month','date']).size()}).reset_index()\n",
    "monthlyTrips['month_name'] = monthlyTrips['date'].map(lambda x: x.strftime('%B'))\n",
    "monthlyTrips = monthlyTrips.groupby(['month', 'year', 'month_name']).sum()\n",
    "monthlyTrips = monthlyTrips.reset_index()\n",
    "\n",
    "monthlyTrips.rename(columns={'count':'Viajes', 'month_name':'Mes', 'year':'Lapso'}, inplace=True)\n",
    "\n",
    "g = sns.factorplot(x='Mes', y='Viajes', hue='Lapso', data=monthlyTrips, kind = 'bar', size=4, aspect = 2)\n",
    "g.axes.flat[0].set_title('Comparacion interanual de viajes realizados mes a mes')\n",
    "g.set_xticklabels(rotation=60)"
   ]
  },
  {
   "cell_type": "markdown",
   "metadata": {},
   "source": [
    "Con este análisis observamos que excepto en Diciembre, en todos los meses de los que se tienen datos ha aumentado la cantidad de viajes mensuales año a año.\n",
    "\n",
    "Con esto, concluimos que si bien el pico de viajes mensuales fue en Octubre de 2014, de confirmarse la tendencia que encontramos deberían producirse más viajes en Octubre de 2015."
   ]
  },
  {
   "cell_type": "markdown",
   "metadata": {},
   "source": [
    "### Viajes por año"
   ]
  },
  {
   "cell_type": "markdown",
   "metadata": {},
   "source": [
    "Veamos qué pasa anualmente. Graficamos la cantidad de viajes acumulados:"
   ]
  },
  {
   "cell_type": "code",
   "execution_count": 37,
   "metadata": {
    "collapsed": false
   },
   "outputs": [
    {
     "data": {
      "text/plain": [
       "<seaborn.axisgrid.FacetGrid at 0x7eff807cbf10>"
      ]
     },
     "execution_count": 37,
     "metadata": {},
     "output_type": "execute_result"
    },
    {
     "data": {
      "image/png": "[encoded data removed]",
      "text/plain": [
       "<matplotlib.figure.Figure at 0x7eff8072a310>"
      ]
     },
     "metadata": {},
     "output_type": "display_data"
    }
   ],
   "source": [
    "#Viajes por año\n",
    "yearTrips = tripsDf\n",
    "yearTrips = pd.DataFrame({'count' : tripsDf.groupby(['year']).size()}).reset_index()\n",
    "yearTrips.rename(columns={'count':'Viajes', 'year':'Lapso'}, inplace=True)\n",
    "\n",
    "g = sns.factorplot(x='Lapso', y='Viajes', data=yearTrips, kind = 'bar', size=4, aspect = 2)\n",
    "g.axes.flat[0].set_title('Comparacion interanual de viajes realizados mes a mes')\n",
    "g.set_xticklabels(rotation=60)"
   ]
  },
  {
   "cell_type": "markdown",
   "metadata": {},
   "source": [
    "De nuevo, dado set de datos con el que contamos tampoco podemos concluir demasiado, ya que no tenemos datos de todo 2013 ni de todo 2015."
   ]
  },
  {
   "cell_type": "markdown",
   "metadata": {},
   "source": [
    "### Viajes promedio por año"
   ]
  },
  {
   "cell_type": "markdown",
   "metadata": {},
   "source": [
    "Para poder sacar alguna conclusión, veamos el promedio de viajes por año. "
   ]
  },
  {
   "cell_type": "code",
   "execution_count": 38,
   "metadata": {
    "collapsed": false
   },
   "outputs": [
    {
     "data": {
      "text/html": [
       "<div>\n",
       "<table border=\"1\" class=\"dataframe\">\n",
       "  <thead>\n",
       "    <tr style=\"text-align: right;\">\n",
       "      <th></th>\n",
       "      <th>Lapso</th>\n",
       "      <th>Viajes promedio</th>\n",
       "      <th>count</th>\n",
       "      <th>days</th>\n",
       "    </tr>\n",
       "  </thead>\n",
       "  <tbody>\n",
       "    <tr>\n",
       "      <th>0</th>\n",
       "      <td>2013</td>\n",
       "      <td>804.504000</td>\n",
       "      <td>100563</td>\n",
       "      <td>125</td>\n",
       "    </tr>\n",
       "    <tr>\n",
       "      <th>1</th>\n",
       "      <td>2014</td>\n",
       "      <td>894.079452</td>\n",
       "      <td>326339</td>\n",
       "      <td>365</td>\n",
       "    </tr>\n",
       "    <tr>\n",
       "      <th>2</th>\n",
       "      <td>2015</td>\n",
       "      <td>1000.234568</td>\n",
       "      <td>243057</td>\n",
       "      <td>243</td>\n",
       "    </tr>\n",
       "  </tbody>\n",
       "</table>\n",
       "</div>"
      ],
      "text/plain": [
       "   Lapso  Viajes promedio   count  days\n",
       "0   2013       804.504000  100563   125\n",
       "1   2014       894.079452  326339   365\n",
       "2   2015      1000.234568  243057   243"
      ]
     },
     "execution_count": 38,
     "metadata": {},
     "output_type": "execute_result"
    }
   ],
   "source": [
    "#Viajes promedio por año\n",
    "yearAverageTrips = pd.DataFrame({'count' : tripsDf.groupby(['year']).size(),\\\n",
    "                             'days' : tripsDf.groupby(['year']).date.nunique(),\\\n",
    "                             'average_trips' : tripsDf.groupby(['year']).size()/tripsDf.groupby(['year']).date.nunique()}).reset_index()\n",
    "\n",
    "yearAverageTrips.rename(columns={'year':'Lapso', 'average_trips':'Viajes promedio'}, inplace=True)\n",
    "\n",
    "yearAverageTrips"
   ]
  },
  {
   "cell_type": "markdown",
   "metadata": {},
   "source": [
    "Aumento de 2013 a 2014:"
   ]
  },
  {
   "cell_type": "code",
   "execution_count": 39,
   "metadata": {
    "collapsed": false
   },
   "outputs": [
    {
     "data": {
      "text/plain": [
       "11.134245696727415"
      ]
     },
     "execution_count": 39,
     "metadata": {},
     "output_type": "execute_result"
    }
   ],
   "source": [
    "((894.079452 - 804.504000)*100/804.504000)"
   ]
  },
  {
   "cell_type": "markdown",
   "metadata": {},
   "source": [
    "Aumento de 2014 a 2015:"
   ]
  },
  {
   "cell_type": "code",
   "execution_count": 40,
   "metadata": {
    "collapsed": false
   },
   "outputs": [
    {
     "data": {
      "text/plain": [
       "11.873118855660719"
      ]
     },
     "execution_count": 40,
     "metadata": {},
     "output_type": "execute_result"
    }
   ],
   "source": [
    "((1000.234568 - 894.079452)*100/894.079452)"
   ]
  },
  {
   "cell_type": "code",
   "execution_count": 41,
   "metadata": {
    "collapsed": false
   },
   "outputs": [
    {
     "data": {
      "text/plain": [
       "<seaborn.axisgrid.FacetGrid at 0x7eff8033bd50>"
      ]
     },
     "execution_count": 41,
     "metadata": {},
     "output_type": "execute_result"
    },
    {
     "data": {
      "image/png": "[encoded data removed]",
      "text/plain": [
       "<matplotlib.figure.Figure at 0x7eff8029bcd0>"
      ]
     },
     "metadata": {},
     "output_type": "display_data"
    }
   ],
   "source": [
    "g = sns.factorplot(x='Lapso', y='Viajes promedio', data=yearAverageTrips, kind = 'bar', size=4, aspect = 2)\n",
    "g.axes.flat[0].set_title('Promedio anual de viajes')\n",
    "g.set_xticklabels(rotation=60)"
   ]
  },
  {
   "cell_type": "markdown",
   "metadata": {},
   "source": [
    "Con este gráfico podemos concluir que año a año, en promedio, aumenta la cantidad de viajes en torno al 11%."
   ]
  },
  {
   "cell_type": "markdown",
   "metadata": {},
   "source": [
    "# ¿Cómo se satisface la demanda del servicio?"
   ]
  },
  {
   "cell_type": "markdown",
   "metadata": {},
   "source": [
    "Vimos que la demanda del servicio tiende a aumentar con el tiempo. Ahora, veamos cómo afecta este aumento en la calidad del mismo.\n",
    "\n",
    "Se analizará utilizando los datos minuto a minuto de las estaciones, en cuántas oportunidades se encontraban sin bicicletas disponibles."
   ]
  },
  {
   "cell_type": "code",
   "execution_count": 42,
   "metadata": {
    "collapsed": false
   },
   "outputs": [],
   "source": [
    "#Obtenemos los datos en los que alguna estación se quedó sin bicicletas\n",
    "df = []\n",
    "for chunk in pd.read_csv('data/status.csv', chunksize=1000000):\n",
    "    df.append(chunk[chunk.bikes_available == 0])\n",
    "emptyStationDf = pd.concat(df)"
   ]
  },
  {
   "cell_type": "code",
   "execution_count": 43,
   "metadata": {
    "collapsed": false
   },
   "outputs": [
    {
     "data": {
      "text/plain": [
       "529004"
      ]
     },
     "execution_count": 43,
     "metadata": {},
     "output_type": "execute_result"
    }
   ],
   "source": [
    "len(emptyStationDf)"
   ]
  },
  {
   "cell_type": "code",
   "execution_count": 44,
   "metadata": {
    "collapsed": false
   },
   "outputs": [
    {
     "data": {
      "text/plain": [
       "station_id          int64\n",
       "bikes_available     int64\n",
       "docks_available     int64\n",
       "time               object\n",
       "dtype: object"
      ]
     },
     "execution_count": 44,
     "metadata": {},
     "output_type": "execute_result"
    }
   ],
   "source": [
    "emptyStationDf.dtypes"
   ]
  },
  {
   "cell_type": "code",
   "execution_count": 45,
   "metadata": {
    "collapsed": false
   },
   "outputs": [],
   "source": [
    "#Convierto a fecha el dato de time\n",
    "emptyStationDf['time'] = pd.to_datetime(emptyStationDf['time'], format = \"%Y/%m/%d %H:%M:%S\")\n",
    "\n",
    "#Agrego columnas para el año, mes, día y hora\n",
    "emptyStationDf['year'] = emptyStationDf['time'].map(lambda x: x.year)\n",
    "emptyStationDf['month'] = emptyStationDf['time'].map(lambda x: x.month)\n",
    "emptyStationDf['day'] = emptyStationDf['time'].map(lambda x: x.day)\n",
    "emptyStationDf['hour'] = emptyStationDf['time'].map(lambda x: x.hour)"
   ]
  },
  {
   "cell_type": "code",
   "execution_count": 46,
   "metadata": {
    "collapsed": false
   },
   "outputs": [],
   "source": [
    "#Combino datos de estaciones vacías con los datos de las estaciones\n",
    "emptyStationDf = emptyStationDf.merge(stationsDf, on='station_id')"
   ]
  },
  {
   "cell_type": "code",
   "execution_count": 47,
   "metadata": {
    "collapsed": false
   },
   "outputs": [
    {
     "data": {
      "text/html": [
       "<div>\n",
       "<table border=\"1\" class=\"dataframe\">\n",
       "  <thead>\n",
       "    <tr style=\"text-align: right;\">\n",
       "      <th></th>\n",
       "      <th>station_id</th>\n",
       "      <th>bikes_available</th>\n",
       "      <th>docks_available</th>\n",
       "      <th>time</th>\n",
       "      <th>year</th>\n",
       "      <th>month</th>\n",
       "      <th>day</th>\n",
       "      <th>hour</th>\n",
       "      <th>name</th>\n",
       "      <th>lat</th>\n",
       "      <th>long</th>\n",
       "      <th>dock_count</th>\n",
       "      <th>city</th>\n",
       "      <th>installation_date</th>\n",
       "    </tr>\n",
       "  </thead>\n",
       "  <tbody>\n",
       "    <tr>\n",
       "      <th>0</th>\n",
       "      <td>2</td>\n",
       "      <td>0</td>\n",
       "      <td>27</td>\n",
       "      <td>2013-11-03 02:00:01</td>\n",
       "      <td>2013</td>\n",
       "      <td>11</td>\n",
       "      <td>3</td>\n",
       "      <td>2</td>\n",
       "      <td>San Jose Diridon Caltrain Station</td>\n",
       "      <td>37.329732</td>\n",
       "      <td>-121.901782</td>\n",
       "      <td>27</td>\n",
       "      <td>San Jose</td>\n",
       "      <td>8/6/2013</td>\n",
       "    </tr>\n",
       "  </tbody>\n",
       "</table>\n",
       "</div>"
      ],
      "text/plain": [
       "   station_id  bikes_available  docks_available                time  year  \\\n",
       "0           2                0               27 2013-11-03 02:00:01  2013   \n",
       "\n",
       "   month  day  hour                               name        lat        long  \\\n",
       "0     11    3     2  San Jose Diridon Caltrain Station  37.329732 -121.901782   \n",
       "\n",
       "   dock_count      city installation_date  \n",
       "0          27  San Jose          8/6/2013  "
      ]
     },
     "execution_count": 47,
     "metadata": {},
     "output_type": "execute_result"
    }
   ],
   "source": [
    "emptyStationDf.head(1)"
   ]
  },
  {
   "cell_type": "markdown",
   "metadata": {},
   "source": [
    "### ¿Qué estaciones informaron más veces que no tenían bicicletas?"
   ]
  },
  {
   "cell_type": "code",
   "execution_count": 48,
   "metadata": {
    "collapsed": false
   },
   "outputs": [
    {
     "data": {
      "text/html": [
       "<div>\n",
       "<table border=\"1\" class=\"dataframe\">\n",
       "  <thead>\n",
       "    <tr style=\"text-align: right;\">\n",
       "      <th></th>\n",
       "      <th>index</th>\n",
       "      <th>station_id</th>\n",
       "      <th>name</th>\n",
       "      <th>city</th>\n",
       "      <th>count</th>\n",
       "      <th>dock_count</th>\n",
       "    </tr>\n",
       "  </thead>\n",
       "  <tbody>\n",
       "    <tr>\n",
       "      <th>0</th>\n",
       "      <td>12</td>\n",
       "      <td>45</td>\n",
       "      <td>Commercial at Montgomery</td>\n",
       "      <td>San Francisco</td>\n",
       "      <td>29198</td>\n",
       "      <td>15</td>\n",
       "    </tr>\n",
       "    <tr>\n",
       "      <th>1</th>\n",
       "      <td>28</td>\n",
       "      <td>76</td>\n",
       "      <td>Market at 4th</td>\n",
       "      <td>San Francisco</td>\n",
       "      <td>24725</td>\n",
       "      <td>19</td>\n",
       "    </tr>\n",
       "    <tr>\n",
       "      <th>2</th>\n",
       "      <td>18</td>\n",
       "      <td>48</td>\n",
       "      <td>Embarcadero at Vallejo</td>\n",
       "      <td>San Francisco</td>\n",
       "      <td>24401</td>\n",
       "      <td>15</td>\n",
       "    </tr>\n",
       "    <tr>\n",
       "      <th>3</th>\n",
       "      <td>0</td>\n",
       "      <td>62</td>\n",
       "      <td>2nd at Folsom</td>\n",
       "      <td>San Francisco</td>\n",
       "      <td>24077</td>\n",
       "      <td>19</td>\n",
       "    </tr>\n",
       "    <tr>\n",
       "      <th>4</th>\n",
       "      <td>17</td>\n",
       "      <td>60</td>\n",
       "      <td>Embarcadero at Sansome</td>\n",
       "      <td>San Francisco</td>\n",
       "      <td>23143</td>\n",
       "      <td>15</td>\n",
       "    </tr>\n",
       "    <tr>\n",
       "      <th>5</th>\n",
       "      <td>49</td>\n",
       "      <td>70</td>\n",
       "      <td>San Francisco Caltrain (Townsend at 4th)</td>\n",
       "      <td>San Francisco</td>\n",
       "      <td>21726</td>\n",
       "      <td>19</td>\n",
       "    </tr>\n",
       "    <tr>\n",
       "      <th>6</th>\n",
       "      <td>22</td>\n",
       "      <td>73</td>\n",
       "      <td>Grant Avenue at Columbus Avenue</td>\n",
       "      <td>San Francisco</td>\n",
       "      <td>20739</td>\n",
       "      <td>15</td>\n",
       "    </tr>\n",
       "    <tr>\n",
       "      <th>7</th>\n",
       "      <td>11</td>\n",
       "      <td>41</td>\n",
       "      <td>Clay at Battery</td>\n",
       "      <td>San Francisco</td>\n",
       "      <td>19080</td>\n",
       "      <td>15</td>\n",
       "    </tr>\n",
       "    <tr>\n",
       "      <th>8</th>\n",
       "      <td>7</td>\n",
       "      <td>82</td>\n",
       "      <td>Broadway St at Battery St</td>\n",
       "      <td>San Francisco</td>\n",
       "      <td>17824</td>\n",
       "      <td>15</td>\n",
       "    </tr>\n",
       "    <tr>\n",
       "      <th>9</th>\n",
       "      <td>1</td>\n",
       "      <td>64</td>\n",
       "      <td>2nd at South Park</td>\n",
       "      <td>San Francisco</td>\n",
       "      <td>17111</td>\n",
       "      <td>15</td>\n",
       "    </tr>\n",
       "  </tbody>\n",
       "</table>\n",
       "</div>"
      ],
      "text/plain": [
       "   index  station_id                                      name           city  \\\n",
       "0     12          45                  Commercial at Montgomery  San Francisco   \n",
       "1     28          76                             Market at 4th  San Francisco   \n",
       "2     18          48                    Embarcadero at Vallejo  San Francisco   \n",
       "3      0          62                             2nd at Folsom  San Francisco   \n",
       "4     17          60                    Embarcadero at Sansome  San Francisco   \n",
       "5     49          70  San Francisco Caltrain (Townsend at 4th)  San Francisco   \n",
       "6     22          73           Grant Avenue at Columbus Avenue  San Francisco   \n",
       "7     11          41                           Clay at Battery  San Francisco   \n",
       "8      7          82                 Broadway St at Battery St  San Francisco   \n",
       "9      1          64                         2nd at South Park  San Francisco   \n",
       "\n",
       "   count  dock_count  \n",
       "0  29198          15  \n",
       "1  24725          19  \n",
       "2  24401          15  \n",
       "3  24077          19  \n",
       "4  23143          15  \n",
       "5  21726          19  \n",
       "6  20739          15  \n",
       "7  19080          15  \n",
       "8  17824          15  \n",
       "9  17111          15  "
      ]
     },
     "execution_count": 48,
     "metadata": {},
     "output_type": "execute_result"
    }
   ],
   "source": [
    "moreTimesEmpty = emptyStationDf.groupby(\"name\", as_index=False).size()\n",
    "moreTimesEmpty.name = 'count'\n",
    "moreTimesEmpty = moreTimesEmpty.reset_index()\n",
    "\n",
    "#Estaciones más veces vacías\n",
    "moreTimesEmpty = moreTimesEmpty.merge(stationsDf, on='name')\n",
    "moreTimesEmpty = moreTimesEmpty.loc[:, ['station_id', 'name', 'city', 'count', 'dock_count']].sort_values(by='count', ascending=False)\n",
    "moreTimesEmpty.head(10).reset_index()"
   ]
  },
  {
   "cell_type": "markdown",
   "metadata": {},
   "source": [
    "Observamos que las primeras 10 estaciones con mayor cantidad de registros sin bicicletas disponibles se encuentran en San Francisco. Esto tiene sentido teniendo en cuenta el análisis previo, que concluyó que la mayor cantidad de alquileres se da en dicha ciudad."
   ]
  },
  {
   "cell_type": "markdown",
   "metadata": {},
   "source": [
    "### ¿En qué horarios se da mayormente que no haya bicicletas?"
   ]
  },
  {
   "cell_type": "code",
   "execution_count": 49,
   "metadata": {
    "collapsed": false
   },
   "outputs": [
    {
     "data": {
      "text/html": [
       "<div>\n",
       "<table border=\"1\" class=\"dataframe\">\n",
       "  <thead>\n",
       "    <tr style=\"text-align: right;\">\n",
       "      <th></th>\n",
       "      <th>hour</th>\n",
       "      <th>count</th>\n",
       "    </tr>\n",
       "  </thead>\n",
       "  <tbody>\n",
       "    <tr>\n",
       "      <th>18</th>\n",
       "      <td>18</td>\n",
       "      <td>63200</td>\n",
       "    </tr>\n",
       "    <tr>\n",
       "      <th>9</th>\n",
       "      <td>9</td>\n",
       "      <td>50322</td>\n",
       "    </tr>\n",
       "    <tr>\n",
       "      <th>17</th>\n",
       "      <td>17</td>\n",
       "      <td>44140</td>\n",
       "    </tr>\n",
       "    <tr>\n",
       "      <th>10</th>\n",
       "      <td>10</td>\n",
       "      <td>34089</td>\n",
       "    </tr>\n",
       "    <tr>\n",
       "      <th>8</th>\n",
       "      <td>8</td>\n",
       "      <td>33174</td>\n",
       "    </tr>\n",
       "    <tr>\n",
       "      <th>19</th>\n",
       "      <td>19</td>\n",
       "      <td>29980</td>\n",
       "    </tr>\n",
       "    <tr>\n",
       "      <th>7</th>\n",
       "      <td>7</td>\n",
       "      <td>26784</td>\n",
       "    </tr>\n",
       "    <tr>\n",
       "      <th>6</th>\n",
       "      <td>6</td>\n",
       "      <td>22234</td>\n",
       "    </tr>\n",
       "    <tr>\n",
       "      <th>16</th>\n",
       "      <td>16</td>\n",
       "      <td>20285</td>\n",
       "    </tr>\n",
       "    <tr>\n",
       "      <th>11</th>\n",
       "      <td>11</td>\n",
       "      <td>19973</td>\n",
       "    </tr>\n",
       "  </tbody>\n",
       "</table>\n",
       "</div>"
      ],
      "text/plain": [
       "    hour  count\n",
       "18    18  63200\n",
       "9      9  50322\n",
       "17    17  44140\n",
       "10    10  34089\n",
       "8      8  33174\n",
       "19    19  29980\n",
       "7      7  26784\n",
       "6      6  22234\n",
       "16    16  20285\n",
       "11    11  19973"
      ]
     },
     "execution_count": 49,
     "metadata": {},
     "output_type": "execute_result"
    }
   ],
   "source": [
    "hoursEmpty = emptyStationDf.groupby(\"hour\", as_index=False).size()\n",
    "hoursEmpty.name = 'count'\n",
    "hoursEmpty = hoursEmpty.reset_index()\n",
    "\n",
    "#Estaciones más veces vacías\n",
    "hoursEmpty = hoursEmpty.loc[:, ['hour', 'count']].sort_values(by='count', ascending=False)\n",
    "hoursEmpty.head(10)"
   ]
  },
  {
   "cell_type": "code",
   "execution_count": 50,
   "metadata": {
    "collapsed": false
   },
   "outputs": [
    {
     "data": {
      "text/plain": [
       "<matplotlib.text.Text at 0x7eff80a66590>"
      ]
     },
     "execution_count": 50,
     "metadata": {},
     "output_type": "execute_result"
    },
    {
     "data": {
      "image/png": "[encoded data removed]",
      "text/plain": [
       "<matplotlib.figure.Figure at 0x7eff6c49b3d0>"
      ]
     },
     "metadata": {},
     "output_type": "display_data"
    }
   ],
   "source": [
    "#Grafico de los datos de registros por hora\n",
    "hoursEmpty.rename(columns={'hour':'Hora', 'count':'Registros'}, inplace=True)\n",
    "g = sns.factorplot(x='Hora', y='Registros', data=hoursEmpty, kind = 'bar', size=4, aspect = 2, color='blue')\n",
    "g.axes.flat[0].set_title('Registros de estacion sin bicicletas segun horarios del dia')"
   ]
  },
  {
   "cell_type": "markdown",
   "metadata": {},
   "source": [
    "Como era de esperarse, en las horas en que se utilizan las bicicletas para movilizarse a distintos puntos de trabajo, escuelas y demás, es cuando mayor cantidad de registros de estaciones sin bicicletas se acumulan."
   ]
  },
  {
   "cell_type": "markdown",
   "metadata": {},
   "source": [
    "### ¿Qué días se dieron la mayor cantidad de informes de estaciones sin bicicletas?"
   ]
  },
  {
   "cell_type": "code",
   "execution_count": 51,
   "metadata": {
    "collapsed": false
   },
   "outputs": [
    {
     "data": {
      "text/html": [
       "<div>\n",
       "<table border=\"1\" class=\"dataframe\">\n",
       "  <thead>\n",
       "    <tr style=\"text-align: right;\">\n",
       "      <th></th>\n",
       "      <th>index</th>\n",
       "      <th>year</th>\n",
       "      <th>month</th>\n",
       "      <th>day</th>\n",
       "      <th>station_id</th>\n",
       "      <th>name</th>\n",
       "      <th>city</th>\n",
       "      <th>docks_available</th>\n",
       "      <th>count</th>\n",
       "      <th>date</th>\n",
       "      <th>day_name</th>\n",
       "    </tr>\n",
       "  </thead>\n",
       "  <tbody>\n",
       "    <tr>\n",
       "      <th>0</th>\n",
       "      <td>4901</td>\n",
       "      <td>2014</td>\n",
       "      <td>11</td>\n",
       "      <td>10</td>\n",
       "      <td>10</td>\n",
       "      <td>San Jose City Hall</td>\n",
       "      <td>San Jose</td>\n",
       "      <td>15</td>\n",
       "      <td>1044</td>\n",
       "      <td>2014-11-10</td>\n",
       "      <td>Monday</td>\n",
       "    </tr>\n",
       "    <tr>\n",
       "      <th>1</th>\n",
       "      <td>5526</td>\n",
       "      <td>2015</td>\n",
       "      <td>1</td>\n",
       "      <td>16</td>\n",
       "      <td>34</td>\n",
       "      <td>Palo Alto Caltrain Station</td>\n",
       "      <td>Palo Alto</td>\n",
       "      <td>23</td>\n",
       "      <td>964</td>\n",
       "      <td>2015-01-16</td>\n",
       "      <td>Friday</td>\n",
       "    </tr>\n",
       "    <tr>\n",
       "      <th>2</th>\n",
       "      <td>7625</td>\n",
       "      <td>2015</td>\n",
       "      <td>5</td>\n",
       "      <td>28</td>\n",
       "      <td>32</td>\n",
       "      <td>Castro Street and El Camino Real</td>\n",
       "      <td>Mountain View</td>\n",
       "      <td>11</td>\n",
       "      <td>850</td>\n",
       "      <td>2015-05-28</td>\n",
       "      <td>Thursday</td>\n",
       "    </tr>\n",
       "    <tr>\n",
       "      <th>3</th>\n",
       "      <td>3848</td>\n",
       "      <td>2014</td>\n",
       "      <td>8</td>\n",
       "      <td>29</td>\n",
       "      <td>35</td>\n",
       "      <td>University and Emerson</td>\n",
       "      <td>Palo Alto</td>\n",
       "      <td>11</td>\n",
       "      <td>707</td>\n",
       "      <td>2014-08-29</td>\n",
       "      <td>Friday</td>\n",
       "    </tr>\n",
       "    <tr>\n",
       "      <th>4</th>\n",
       "      <td>6339</td>\n",
       "      <td>2015</td>\n",
       "      <td>3</td>\n",
       "      <td>11</td>\n",
       "      <td>4</td>\n",
       "      <td>Santa Clara at Almaden</td>\n",
       "      <td>San Jose</td>\n",
       "      <td>11</td>\n",
       "      <td>651</td>\n",
       "      <td>2015-03-11</td>\n",
       "      <td>Wednesday</td>\n",
       "    </tr>\n",
       "    <tr>\n",
       "      <th>5</th>\n",
       "      <td>5510</td>\n",
       "      <td>2015</td>\n",
       "      <td>1</td>\n",
       "      <td>15</td>\n",
       "      <td>49</td>\n",
       "      <td>Spear at Folsom</td>\n",
       "      <td>San Francisco</td>\n",
       "      <td>19</td>\n",
       "      <td>607</td>\n",
       "      <td>2015-01-15</td>\n",
       "      <td>Thursday</td>\n",
       "    </tr>\n",
       "    <tr>\n",
       "      <th>6</th>\n",
       "      <td>4523</td>\n",
       "      <td>2014</td>\n",
       "      <td>10</td>\n",
       "      <td>14</td>\n",
       "      <td>63</td>\n",
       "      <td>Howard at 2nd</td>\n",
       "      <td>San Francisco</td>\n",
       "      <td>19</td>\n",
       "      <td>598</td>\n",
       "      <td>2014-10-14</td>\n",
       "      <td>Tuesday</td>\n",
       "    </tr>\n",
       "    <tr>\n",
       "      <th>7</th>\n",
       "      <td>6692</td>\n",
       "      <td>2015</td>\n",
       "      <td>3</td>\n",
       "      <td>31</td>\n",
       "      <td>32</td>\n",
       "      <td>Castro Street and El Camino Real</td>\n",
       "      <td>Mountain View</td>\n",
       "      <td>11</td>\n",
       "      <td>594</td>\n",
       "      <td>2015-03-31</td>\n",
       "      <td>Tuesday</td>\n",
       "    </tr>\n",
       "    <tr>\n",
       "      <th>8</th>\n",
       "      <td>3426</td>\n",
       "      <td>2014</td>\n",
       "      <td>7</td>\n",
       "      <td>29</td>\n",
       "      <td>64</td>\n",
       "      <td>2nd at South Park</td>\n",
       "      <td>San Francisco</td>\n",
       "      <td>15</td>\n",
       "      <td>578</td>\n",
       "      <td>2014-07-29</td>\n",
       "      <td>Tuesday</td>\n",
       "    </tr>\n",
       "    <tr>\n",
       "      <th>9</th>\n",
       "      <td>7672</td>\n",
       "      <td>2015</td>\n",
       "      <td>5</td>\n",
       "      <td>30</td>\n",
       "      <td>84</td>\n",
       "      <td>Ryland Park</td>\n",
       "      <td>San Jose</td>\n",
       "      <td>15</td>\n",
       "      <td>570</td>\n",
       "      <td>2015-05-30</td>\n",
       "      <td>Saturday</td>\n",
       "    </tr>\n",
       "  </tbody>\n",
       "</table>\n",
       "</div>"
      ],
      "text/plain": [
       "   index  year  month  day  station_id                              name  \\\n",
       "0   4901  2014     11   10          10                San Jose City Hall   \n",
       "1   5526  2015      1   16          34        Palo Alto Caltrain Station   \n",
       "2   7625  2015      5   28          32  Castro Street and El Camino Real   \n",
       "3   3848  2014      8   29          35            University and Emerson   \n",
       "4   6339  2015      3   11           4            Santa Clara at Almaden   \n",
       "5   5510  2015      1   15          49                   Spear at Folsom   \n",
       "6   4523  2014     10   14          63                     Howard at 2nd   \n",
       "7   6692  2015      3   31          32  Castro Street and El Camino Real   \n",
       "8   3426  2014      7   29          64                 2nd at South Park   \n",
       "9   7672  2015      5   30          84                       Ryland Park   \n",
       "\n",
       "            city  docks_available  count        date   day_name  \n",
       "0       San Jose               15   1044  2014-11-10     Monday  \n",
       "1      Palo Alto               23    964  2015-01-16     Friday  \n",
       "2  Mountain View               11    850  2015-05-28   Thursday  \n",
       "3      Palo Alto               11    707  2014-08-29     Friday  \n",
       "4       San Jose               11    651  2015-03-11  Wednesday  \n",
       "5  San Francisco               19    607  2015-01-15   Thursday  \n",
       "6  San Francisco               19    598  2014-10-14    Tuesday  \n",
       "7  Mountain View               11    594  2015-03-31    Tuesday  \n",
       "8  San Francisco               15    578  2014-07-29    Tuesday  \n",
       "9       San Jose               15    570  2015-05-30   Saturday  "
      ]
     },
     "execution_count": 51,
     "metadata": {},
     "output_type": "execute_result"
    }
   ],
   "source": [
    "emptyPerDay = emptyStationDf.groupby(['year', 'month', 'day', 'station_id', 'name', 'city', 'docks_available']).size()\n",
    "emptyPerDay.name = 'count'\n",
    "emptyPerDay = emptyPerDay.reset_index()\n",
    "emptyPerDay['date'] = emptyPerDay.apply(lambda x: date(x.year, x.month, x.day), axis=1)\n",
    "emptyPerDay['day_name'] = emptyPerDay['date'].apply(lambda x: x.strftime('%A'))\n",
    "emptyPerDay.sort_values(by='count', ascending=False, inplace=True)\n",
    "emptyPerDay.head(10).reset_index()"
   ]
  },
  {
   "cell_type": "markdown",
   "metadata": {},
   "source": [
    "Observamos como se mantiene la tendencia de que los días de semana tienen la mayor demanda. Recién en la décima posición aparece un día del fin de semana en el ránking de registros de estación sin bicicletas."
   ]
  },
  {
   "cell_type": "markdown",
   "metadata": {},
   "source": [
    "### ¿Cómo evolucionó la cantidad de informes de estaciones sin bicicletas en el tiempo?"
   ]
  },
  {
   "cell_type": "markdown",
   "metadata": {},
   "source": [
    "Podemos analizar estación por estación cómo fue aumetanto la cantidad de registros en los que no tenían bicicletas disponibles."
   ]
  },
  {
   "cell_type": "code",
   "execution_count": 52,
   "metadata": {
    "collapsed": true
   },
   "outputs": [],
   "source": [
    "#Defino una función para probar con distintas estaciones fácilmente\n",
    "def plotEmptyStationEvents(stationId):\n",
    "    name = emptyStationDf[emptyStationDf['station_id'] == stationToPlot].head(1)['name'].values[0]\n",
    "    monthlyFrec = emptyStationDf[emptyStationDf['station_id'] == stationId].groupby(['month', 'year']).size()\n",
    "    monthlyFrec.name = 'count'\n",
    "    monthlyFrec = monthlyFrec.reset_index()\n",
    "    monthlyFrec['date'] = monthlyFrec.apply(lambda x : date(x['year'], x['month'], 1), axis=1)\n",
    "    monthlyFrec['year-month'] = monthlyFrec['date'].map(lambda x: x.strftime('%Y-%m'))\n",
    "    monthlyFrec['month_name'] = monthlyFrec['date'].map(lambda x: x.strftime('%B'))\n",
    "    monthlyFrec.set_index(monthlyFrec['date'], inplace=True)\n",
    "    monthlyFrec = monthlyFrec.loc[:, ['count', 'year-month', 'year', 'month', 'month_name']]\n",
    "    monthlyFrec.rename(columns={'count':'Registros', 'month_name':'Mes', 'year':'Lapso'}, inplace=True)\n",
    "    monthlyFrec.reset_index(inplace=True)\n",
    "    g = sns.factorplot(x='Mes', y='Registros', hue='Lapso', data=monthlyFrec, kind = 'bar', size=4, aspect = 2)\n",
    "    g.axes.flat[0].set_title('Comparacion interanual de registros en los que la estacion ' + name + ' no tenia bicicletas disponibles')\n",
    "    g.set_xticklabels(rotation=60)"
   ]
  },
  {
   "cell_type": "markdown",
   "metadata": {},
   "source": [
    "Analizamos dos casos:\n",
    "- La estación que presentó mayor cantidad de registros: Commercial at Montgomery (45).\n",
    "- La estación en la que se dio el día con mayor cantidad de registros: San Jose City Hall (10)."
   ]
  },
  {
   "cell_type": "code",
   "execution_count": 53,
   "metadata": {
    "collapsed": false
   },
   "outputs": [
    {
     "data": {
      "image/png": "[encoded data removed]",
      "text/plain": [
       "<matplotlib.figure.Figure at 0x7eff6da4b250>"
      ]
     },
     "metadata": {},
     "output_type": "display_data"
    }
   ],
   "source": [
    "#Pruebo Commercial at Montgomery\n",
    "stationToPlot = 45\n",
    "plotEmptyStationEvents(stationToPlot)"
   ]
  },
  {
   "cell_type": "markdown",
   "metadata": {},
   "source": [
    "En este caso, se observa una tendencia clara de aumento de registros sin bicicleta, mes a mes, desde Septiembre hasta Marzo, pero que desde Abril hasta Agosto se revierte."
   ]
  },
  {
   "cell_type": "code",
   "execution_count": 54,
   "metadata": {
    "collapsed": false
   },
   "outputs": [
    {
     "data": {
      "image/png": "[encoded data removed]",
      "text/plain": [
       "<matplotlib.figure.Figure at 0x7eff7f07d9d0>"
      ]
     },
     "metadata": {},
     "output_type": "display_data"
    }
   ],
   "source": [
    "#Pruebo San Jose City Hall\n",
    "stationToPlot = 10\n",
    "plotEmptyStationEvents(stationToPlot)"
   ]
  },
  {
   "cell_type": "markdown",
   "metadata": {},
   "source": [
    "Para San Jose City Hall, vemos que durante 2014 se registraron considerablemente estados en los que no tenía bicicletas dispinibles, pero que tanto en 2013 como en 2015, no se aprecia una cantidad de la misma magnitud."
   ]
  },
  {
   "cell_type": "markdown",
   "metadata": {},
   "source": [
    "Vimos que para dos casos particulares, la tendencia no es del todo clara. Veamos cómo es la situación en general."
   ]
  },
  {
   "cell_type": "code",
   "execution_count": 55,
   "metadata": {
    "collapsed": false,
    "scrolled": true
   },
   "outputs": [
    {
     "data": {
      "text/html": [
       "<div>\n",
       "<table border=\"1\" class=\"dataframe\">\n",
       "  <thead>\n",
       "    <tr style=\"text-align: right;\">\n",
       "      <th></th>\n",
       "      <th>month</th>\n",
       "      <th>year</th>\n",
       "      <th>count</th>\n",
       "    </tr>\n",
       "  </thead>\n",
       "  <tbody>\n",
       "    <tr>\n",
       "      <th>0</th>\n",
       "      <td>1</td>\n",
       "      <td>2014</td>\n",
       "      <td>14249</td>\n",
       "    </tr>\n",
       "    <tr>\n",
       "      <th>1</th>\n",
       "      <td>1</td>\n",
       "      <td>2015</td>\n",
       "      <td>20789</td>\n",
       "    </tr>\n",
       "  </tbody>\n",
       "</table>\n",
       "</div>"
      ],
      "text/plain": [
       "   month  year  count\n",
       "0      1  2014  14249\n",
       "1      1  2015  20789"
      ]
     },
     "execution_count": 55,
     "metadata": {},
     "output_type": "execute_result"
    }
   ],
   "source": [
    "#Comparación mes a mes\n",
    "monthlyFrec = emptyStationDf.groupby(['month', 'year']).size()\n",
    "monthlyFrec.name = 'count'\n",
    "monthlyFrec = monthlyFrec.reset_index()\n",
    "monthlyFrec.head(2)"
   ]
  },
  {
   "cell_type": "code",
   "execution_count": 56,
   "metadata": {
    "collapsed": false
   },
   "outputs": [
    {
     "data": {
      "text/plain": [
       "<seaborn.axisgrid.FacetGrid at 0x7eff7cc74890>"
      ]
     },
     "execution_count": 56,
     "metadata": {},
     "output_type": "execute_result"
    },
    {
     "data": {
      "image/png": "[encoded data removed]",
      "text/plain": [
       "<matplotlib.figure.Figure at 0x7eff7cc748d0>"
      ]
     },
     "metadata": {},
     "output_type": "display_data"
    }
   ],
   "source": [
    "monthlyFrec['date'] = monthlyFrec.apply(lambda x : date(x.year, x.month, 1), axis=1)\n",
    "monthlyFrec['year-month'] = monthlyFrec['date'].map(lambda x: x.strftime('%Y-%m'))\n",
    "monthlyFrec['month_name'] = monthlyFrec['date'].map(lambda x: x.strftime('%B'))\n",
    "monthlyFrec.set_index(monthlyFrec['date'], inplace=True)\n",
    "monthlyFrec = monthlyFrec.loc[:, ['count', 'year-month', 'year', 'month_name']]\n",
    "monthlyFrec.rename(columns={'count':'Registros', 'month_name':'Mes', 'year':'Lapso'}, inplace=True)\n",
    "monthlyFrec.reset_index(inplace=True)\n",
    "\n",
    "g = sns.factorplot(x='Mes', y='Registros', hue='Lapso', data=monthlyFrec, kind = 'bar', size=4, aspect = 2)\n",
    "g.axes.flat[0].set_title('Comparacion interanual de total mensual de registros de estaciones sin bicicletas')\n",
    "g.set_xticklabels(rotation=60)"
   ]
  },
  {
   "cell_type": "markdown",
   "metadata": {},
   "source": [
    "Analizando todas las estaciones en conjunto, se ve una clara tendencia a la alza de la cantidad de registros en los que las estaciones se quedan sin bicicletas."
   ]
  },
  {
   "cell_type": "markdown",
   "metadata": {},
   "source": [
    "Cómo conclusión, observamos que la ciudad cuyas estaciones se quedan sin bicicletas con más frecuencia es San Francisco, que los horarios en los que más sucede es durante la mañana (pico a las 9hs) y durante la tarde (pico a las 18hs), y que en general, mes a mes aumenta la cantidad de registros de esta índole. "
   ]
  },
  {
   "cell_type": "markdown",
   "metadata": {},
   "source": [
    "# ¿Cuánto tiempo están inactivas las bicicletas?"
   ]
  },
  {
   "cell_type": "markdown",
   "metadata": {},
   "source": [
    "Se analizará el uso cada bicicleta."
   ]
  },
  {
   "cell_type": "markdown",
   "metadata": {},
   "source": [
    "### ¿Cuántas bicicletas hay en el set de datos?"
   ]
  },
  {
   "cell_type": "code",
   "execution_count": 57,
   "metadata": {
    "collapsed": false
   },
   "outputs": [
    {
     "data": {
      "text/plain": [
       "700"
      ]
     },
     "execution_count": 57,
     "metadata": {},
     "output_type": "execute_result"
    }
   ],
   "source": [
    "len(tripsDf.groupby('bike_id').size())"
   ]
  },
  {
   "cell_type": "markdown",
   "metadata": {},
   "source": [
    "### ¿Cómo son los intervalos de inactividad de las bicicletas?"
   ]
  },
  {
   "cell_type": "markdown",
   "metadata": {},
   "source": [
    "Análisis de inactividad hasta de estreno, y desde último uso hasta la última fecha registrada en el set de datos."
   ]
  },
  {
   "cell_type": "code",
   "execution_count": 58,
   "metadata": {
    "collapsed": false
   },
   "outputs": [
    {
     "data": {
      "text/html": [
       "<div>\n",
       "<table border=\"1\" class=\"dataframe\">\n",
       "  <thead>\n",
       "    <tr style=\"text-align: right;\">\n",
       "      <th></th>\n",
       "      <th>bike_id</th>\n",
       "      <th>first_trip</th>\n",
       "      <th>last_trip</th>\n",
       "    </tr>\n",
       "  </thead>\n",
       "  <tbody>\n",
       "    <tr>\n",
       "      <th>0</th>\n",
       "      <td>9</td>\n",
       "      <td>2013-08-29 12:02:00</td>\n",
       "      <td>2015-08-17 10:11:00</td>\n",
       "    </tr>\n",
       "    <tr>\n",
       "      <th>1</th>\n",
       "      <td>10</td>\n",
       "      <td>2013-09-01 13:47:00</td>\n",
       "      <td>2015-08-31 18:03:00</td>\n",
       "    </tr>\n",
       "    <tr>\n",
       "      <th>2</th>\n",
       "      <td>11</td>\n",
       "      <td>2013-08-29 20:11:00</td>\n",
       "      <td>2015-07-03 11:11:00</td>\n",
       "    </tr>\n",
       "    <tr>\n",
       "      <th>3</th>\n",
       "      <td>12</td>\n",
       "      <td>2013-08-30 17:15:00</td>\n",
       "      <td>2015-08-23 16:23:00</td>\n",
       "    </tr>\n",
       "    <tr>\n",
       "      <th>4</th>\n",
       "      <td>13</td>\n",
       "      <td>2013-08-29 10:13:00</td>\n",
       "      <td>2015-08-31 21:01:00</td>\n",
       "    </tr>\n",
       "  </tbody>\n",
       "</table>\n",
       "</div>"
      ],
      "text/plain": [
       "   bike_id          first_trip           last_trip\n",
       "0        9 2013-08-29 12:02:00 2015-08-17 10:11:00\n",
       "1       10 2013-09-01 13:47:00 2015-08-31 18:03:00\n",
       "2       11 2013-08-29 20:11:00 2015-07-03 11:11:00\n",
       "3       12 2013-08-30 17:15:00 2015-08-23 16:23:00\n",
       "4       13 2013-08-29 10:13:00 2015-08-31 21:01:00"
      ]
     },
     "execution_count": 58,
     "metadata": {},
     "output_type": "execute_result"
    }
   ],
   "source": [
    "# Creo un set de datos con el primer y último viaje de cada bicicleta\n",
    "bikes = tripsDf.groupby('bike_id').agg(['count']).reset_index().loc[:,['bike_id']]\n",
    "firstLastByBike = []\n",
    "for index, row in bikes.iterrows():\n",
    "    bikeId = row['bike_id'].values[0]\n",
    "    tripsPerBike = tripsDf[tripsDf['bike_id'] == bikeId]\n",
    "    tripsPerBike = tripsPerBike.sort_values(by='start_date')\n",
    "    firstTrip = tripsPerBike.iloc[0]['start_date']\n",
    "    lastTrip = tripsPerBike.iloc[len(tripsPerBike)-1]['start_date']\n",
    "    firstLastByBike.append([bikeId, firstTrip, lastTrip])\n",
    "\n",
    "firstLastByBikeDf = pd.DataFrame.from_dict(firstLastByBike)\n",
    "firstLastByBikeDf = firstLastByBikeDf.rename(columns= {0:'bike_id', 1:'first_trip', 2:'last_trip'})\n",
    "firstLastByBikeDf.head(5)"
   ]
  },
  {
   "cell_type": "code",
   "execution_count": 59,
   "metadata": {
    "collapsed": false
   },
   "outputs": [
    {
     "data": {
      "text/html": [
       "<div>\n",
       "<table border=\"1\" class=\"dataframe\">\n",
       "  <thead>\n",
       "    <tr style=\"text-align: right;\">\n",
       "      <th></th>\n",
       "      <th>bike_id</th>\n",
       "      <th>first_trip</th>\n",
       "      <th>last_trip</th>\n",
       "    </tr>\n",
       "  </thead>\n",
       "  <tbody>\n",
       "    <tr>\n",
       "      <th>267</th>\n",
       "      <td>288</td>\n",
       "      <td>2013-08-29 09:08:00</td>\n",
       "      <td>2015-08-31 23:26:00</td>\n",
       "    </tr>\n",
       "    <tr>\n",
       "      <th>295</th>\n",
       "      <td>316</td>\n",
       "      <td>2013-08-29 09:24:00</td>\n",
       "      <td>2013-09-07 23:03:00</td>\n",
       "    </tr>\n",
       "    <tr>\n",
       "      <th>296</th>\n",
       "      <td>317</td>\n",
       "      <td>2013-08-29 09:24:00</td>\n",
       "      <td>2015-08-31 19:42:00</td>\n",
       "    </tr>\n",
       "    <tr>\n",
       "      <th>300</th>\n",
       "      <td>321</td>\n",
       "      <td>2013-08-29 09:24:00</td>\n",
       "      <td>2015-08-31 16:38:00</td>\n",
       "    </tr>\n",
       "    <tr>\n",
       "      <th>301</th>\n",
       "      <td>322</td>\n",
       "      <td>2013-08-29 09:25:00</td>\n",
       "      <td>2015-08-31 08:54:00</td>\n",
       "    </tr>\n",
       "  </tbody>\n",
       "</table>\n",
       "</div>"
      ],
      "text/plain": [
       "     bike_id          first_trip           last_trip\n",
       "267      288 2013-08-29 09:08:00 2015-08-31 23:26:00\n",
       "295      316 2013-08-29 09:24:00 2013-09-07 23:03:00\n",
       "296      317 2013-08-29 09:24:00 2015-08-31 19:42:00\n",
       "300      321 2013-08-29 09:24:00 2015-08-31 16:38:00\n",
       "301      322 2013-08-29 09:25:00 2015-08-31 08:54:00"
      ]
     },
     "execution_count": 59,
     "metadata": {},
     "output_type": "execute_result"
    }
   ],
   "source": [
    "firstLastByBikeDf.sort_values(by='first_trip').head(5)"
   ]
  },
  {
   "cell_type": "code",
   "execution_count": 60,
   "metadata": {
    "collapsed": false
   },
   "outputs": [
    {
     "data": {
      "text/html": [
       "<div>\n",
       "<table border=\"1\" class=\"dataframe\">\n",
       "  <thead>\n",
       "    <tr style=\"text-align: right;\">\n",
       "      <th></th>\n",
       "      <th>bike_id</th>\n",
       "      <th>first_trip</th>\n",
       "      <th>last_trip</th>\n",
       "    </tr>\n",
       "  </thead>\n",
       "  <tbody>\n",
       "    <tr>\n",
       "      <th>24</th>\n",
       "      <td>33</td>\n",
       "      <td>2014-05-04 13:42:00</td>\n",
       "      <td>2015-08-31 20:33:00</td>\n",
       "    </tr>\n",
       "    <tr>\n",
       "      <th>699</th>\n",
       "      <td>878</td>\n",
       "      <td>2014-05-20 16:31:00</td>\n",
       "      <td>2015-08-31 18:34:00</td>\n",
       "    </tr>\n",
       "    <tr>\n",
       "      <th>698</th>\n",
       "      <td>877</td>\n",
       "      <td>2014-05-20 17:07:00</td>\n",
       "      <td>2015-08-31 20:36:00</td>\n",
       "    </tr>\n",
       "    <tr>\n",
       "      <th>697</th>\n",
       "      <td>876</td>\n",
       "      <td>2014-05-22 10:20:00</td>\n",
       "      <td>2014-05-27 07:30:00</td>\n",
       "    </tr>\n",
       "    <tr>\n",
       "      <th>696</th>\n",
       "      <td>740</td>\n",
       "      <td>2015-06-15 08:25:00</td>\n",
       "      <td>2015-06-29 06:24:00</td>\n",
       "    </tr>\n",
       "  </tbody>\n",
       "</table>\n",
       "</div>"
      ],
      "text/plain": [
       "     bike_id          first_trip           last_trip\n",
       "24        33 2014-05-04 13:42:00 2015-08-31 20:33:00\n",
       "699      878 2014-05-20 16:31:00 2015-08-31 18:34:00\n",
       "698      877 2014-05-20 17:07:00 2015-08-31 20:36:00\n",
       "697      876 2014-05-22 10:20:00 2014-05-27 07:30:00\n",
       "696      740 2015-06-15 08:25:00 2015-06-29 06:24:00"
      ]
     },
     "execution_count": 60,
     "metadata": {},
     "output_type": "execute_result"
    }
   ],
   "source": [
    "firstLastByBikeDf.sort_values(by='first_trip').tail(5)"
   ]
  },
  {
   "cell_type": "code",
   "execution_count": 61,
   "metadata": {
    "collapsed": false
   },
   "outputs": [],
   "source": [
    "#Agrego columnas con información de tiempo hasta el primer viaje, y tiempo desde el último\n",
    "firstDay = date(2013, 8, 29)\n",
    "firstLastByBikeDf['time_to_first'] = firstLastByBikeDf['first_trip'].map(lambda x: x.date() - firstDay)\n",
    "firstLastByBikeDf['days_to_first'] = firstLastByBikeDf['time_to_first'].map(lambda x: x.days)\n",
    "\n",
    "lastDay = date(2015, 8, 31)\n",
    "firstLastByBikeDf['time_since_last'] = firstLastByBikeDf['last_trip'].map(lambda x: lastDay - x.date())\n",
    "firstLastByBikeDf['days_since_last'] = firstLastByBikeDf['time_since_last'].map(lambda x: x.days)"
   ]
  },
  {
   "cell_type": "code",
   "execution_count": 62,
   "metadata": {
    "collapsed": false
   },
   "outputs": [
    {
     "data": {
      "text/html": [
       "<div>\n",
       "<table border=\"1\" class=\"dataframe\">\n",
       "  <thead>\n",
       "    <tr style=\"text-align: right;\">\n",
       "      <th></th>\n",
       "      <th>bike_id</th>\n",
       "      <th>first_trip</th>\n",
       "      <th>last_trip</th>\n",
       "      <th>time_to_first</th>\n",
       "      <th>days_to_first</th>\n",
       "      <th>time_since_last</th>\n",
       "      <th>days_since_last</th>\n",
       "    </tr>\n",
       "  </thead>\n",
       "  <tbody>\n",
       "    <tr>\n",
       "      <th>0</th>\n",
       "      <td>9</td>\n",
       "      <td>2013-08-29 12:02:00</td>\n",
       "      <td>2015-08-17 10:11:00</td>\n",
       "      <td>0 days</td>\n",
       "      <td>0</td>\n",
       "      <td>14 days</td>\n",
       "      <td>14</td>\n",
       "    </tr>\n",
       "    <tr>\n",
       "      <th>1</th>\n",
       "      <td>10</td>\n",
       "      <td>2013-09-01 13:47:00</td>\n",
       "      <td>2015-08-31 18:03:00</td>\n",
       "      <td>3 days</td>\n",
       "      <td>3</td>\n",
       "      <td>0 days</td>\n",
       "      <td>0</td>\n",
       "    </tr>\n",
       "    <tr>\n",
       "      <th>2</th>\n",
       "      <td>11</td>\n",
       "      <td>2013-08-29 20:11:00</td>\n",
       "      <td>2015-07-03 11:11:00</td>\n",
       "      <td>0 days</td>\n",
       "      <td>0</td>\n",
       "      <td>59 days</td>\n",
       "      <td>59</td>\n",
       "    </tr>\n",
       "    <tr>\n",
       "      <th>3</th>\n",
       "      <td>12</td>\n",
       "      <td>2013-08-30 17:15:00</td>\n",
       "      <td>2015-08-23 16:23:00</td>\n",
       "      <td>1 days</td>\n",
       "      <td>1</td>\n",
       "      <td>8 days</td>\n",
       "      <td>8</td>\n",
       "    </tr>\n",
       "    <tr>\n",
       "      <th>4</th>\n",
       "      <td>13</td>\n",
       "      <td>2013-08-29 10:13:00</td>\n",
       "      <td>2015-08-31 21:01:00</td>\n",
       "      <td>0 days</td>\n",
       "      <td>0</td>\n",
       "      <td>0 days</td>\n",
       "      <td>0</td>\n",
       "    </tr>\n",
       "  </tbody>\n",
       "</table>\n",
       "</div>"
      ],
      "text/plain": [
       "   bike_id          first_trip           last_trip  time_to_first  \\\n",
       "0        9 2013-08-29 12:02:00 2015-08-17 10:11:00         0 days   \n",
       "1       10 2013-09-01 13:47:00 2015-08-31 18:03:00         3 days   \n",
       "2       11 2013-08-29 20:11:00 2015-07-03 11:11:00         0 days   \n",
       "3       12 2013-08-30 17:15:00 2015-08-23 16:23:00         1 days   \n",
       "4       13 2013-08-29 10:13:00 2015-08-31 21:01:00         0 days   \n",
       "\n",
       "   days_to_first  time_since_last  days_since_last  \n",
       "0              0          14 days               14  \n",
       "1              3           0 days                0  \n",
       "2              0          59 days               59  \n",
       "3              1           8 days                8  \n",
       "4              0           0 days                0  "
      ]
     },
     "execution_count": 62,
     "metadata": {},
     "output_type": "execute_result"
    }
   ],
   "source": [
    "firstLastByBikeDf.head(5)"
   ]
  },
  {
   "cell_type": "code",
   "execution_count": 63,
   "metadata": {
    "collapsed": false
   },
   "outputs": [
    {
     "data": {
      "text/html": [
       "<div>\n",
       "<table border=\"1\" class=\"dataframe\">\n",
       "  <thead>\n",
       "    <tr style=\"text-align: right;\">\n",
       "      <th></th>\n",
       "      <th>bike_id</th>\n",
       "      <th>first_trip</th>\n",
       "      <th>last_trip</th>\n",
       "      <th>time_to_first</th>\n",
       "      <th>days_to_first</th>\n",
       "      <th>time_since_last</th>\n",
       "      <th>days_since_last</th>\n",
       "    </tr>\n",
       "  </thead>\n",
       "  <tbody>\n",
       "    <tr>\n",
       "      <th>696</th>\n",
       "      <td>740</td>\n",
       "      <td>2015-06-15 08:25:00</td>\n",
       "      <td>2015-06-29 06:24:00</td>\n",
       "      <td>655 days</td>\n",
       "      <td>655</td>\n",
       "      <td>63 days</td>\n",
       "      <td>63</td>\n",
       "    </tr>\n",
       "    <tr>\n",
       "      <th>697</th>\n",
       "      <td>876</td>\n",
       "      <td>2014-05-22 10:20:00</td>\n",
       "      <td>2014-05-27 07:30:00</td>\n",
       "      <td>266 days</td>\n",
       "      <td>266</td>\n",
       "      <td>461 days</td>\n",
       "      <td>461</td>\n",
       "    </tr>\n",
       "    <tr>\n",
       "      <th>699</th>\n",
       "      <td>878</td>\n",
       "      <td>2014-05-20 16:31:00</td>\n",
       "      <td>2015-08-31 18:34:00</td>\n",
       "      <td>264 days</td>\n",
       "      <td>264</td>\n",
       "      <td>0 days</td>\n",
       "      <td>0</td>\n",
       "    </tr>\n",
       "    <tr>\n",
       "      <th>698</th>\n",
       "      <td>877</td>\n",
       "      <td>2014-05-20 17:07:00</td>\n",
       "      <td>2015-08-31 20:36:00</td>\n",
       "      <td>264 days</td>\n",
       "      <td>264</td>\n",
       "      <td>0 days</td>\n",
       "      <td>0</td>\n",
       "    </tr>\n",
       "    <tr>\n",
       "      <th>24</th>\n",
       "      <td>33</td>\n",
       "      <td>2014-05-04 13:42:00</td>\n",
       "      <td>2015-08-31 20:33:00</td>\n",
       "      <td>248 days</td>\n",
       "      <td>248</td>\n",
       "      <td>0 days</td>\n",
       "      <td>0</td>\n",
       "    </tr>\n",
       "  </tbody>\n",
       "</table>\n",
       "</div>"
      ],
      "text/plain": [
       "     bike_id          first_trip           last_trip  time_to_first  \\\n",
       "696      740 2015-06-15 08:25:00 2015-06-29 06:24:00       655 days   \n",
       "697      876 2014-05-22 10:20:00 2014-05-27 07:30:00       266 days   \n",
       "699      878 2014-05-20 16:31:00 2015-08-31 18:34:00       264 days   \n",
       "698      877 2014-05-20 17:07:00 2015-08-31 20:36:00       264 days   \n",
       "24        33 2014-05-04 13:42:00 2015-08-31 20:33:00       248 days   \n",
       "\n",
       "     days_to_first  time_since_last  days_since_last  \n",
       "696            655          63 days               63  \n",
       "697            266         461 days              461  \n",
       "699            264           0 days                0  \n",
       "698            264           0 days                0  \n",
       "24             248           0 days                0  "
      ]
     },
     "execution_count": 63,
     "metadata": {},
     "output_type": "execute_result"
    }
   ],
   "source": [
    "firstLastByBikeDf.sort_values(by='time_to_first', ascending=False).head(5)"
   ]
  },
  {
   "cell_type": "code",
   "execution_count": 64,
   "metadata": {
    "collapsed": false
   },
   "outputs": [
    {
     "data": {
      "text/plain": [
       "<seaborn.axisgrid.FacetGrid at 0x7eff7924e5d0>"
      ]
     },
     "execution_count": 64,
     "metadata": {},
     "output_type": "execute_result"
    },
    {
     "data": {
      "image/png": "[encoded data removed]",
      "text/plain": [
       "<matplotlib.figure.Figure at 0x7eff7f575a10>"
      ]
     },
     "metadata": {},
     "output_type": "display_data"
    }
   ],
   "source": [
    "plotDf = firstLastByBikeDf.sort_values(by='days_to_first', ascending=False).head(20)\n",
    "plotDf['day'] = plotDf['first_trip'].map(lambda x: x.date())\n",
    "plotDf.sort_values(by='day', inplace=True)\n",
    "plotDf.rename(columns={'day':'Dia de estreno', 'days_to_first':'Dias desde inauguracion'}, inplace=True)\n",
    "g = sns.factorplot(x='Dia de estreno', y='Dias desde inauguracion', data=plotDf, kind = 'strip', size=4, aspect = 2, color='blue')\n",
    "g.axes.flat[0].set_title('Estrenos de bicicletas mas distantes a la inauguracion')\n",
    "g.axes.flat[0].set(ylim=(0, 800))\n",
    "g.set_xticklabels(rotation=60)"
   ]
  },
  {
   "cell_type": "markdown",
   "metadata": {},
   "source": [
    "Vemos que encontramos bicicletas que se estrenaron pasados muchos días desde la inauguración del servicio. En particular, hay una bicicleta que se estrenó a más de 600 días de la inauguración:"
   ]
  },
  {
   "cell_type": "code",
   "execution_count": 65,
   "metadata": {
    "collapsed": false
   },
   "outputs": [
    {
     "data": {
      "text/html": [
       "<div>\n",
       "<table border=\"1\" class=\"dataframe\">\n",
       "  <thead>\n",
       "    <tr style=\"text-align: right;\">\n",
       "      <th></th>\n",
       "      <th>bike_id</th>\n",
       "      <th>first_trip</th>\n",
       "      <th>last_trip</th>\n",
       "      <th>time_to_first</th>\n",
       "      <th>days_to_first</th>\n",
       "      <th>time_since_last</th>\n",
       "      <th>days_since_last</th>\n",
       "    </tr>\n",
       "  </thead>\n",
       "  <tbody>\n",
       "    <tr>\n",
       "      <th>696</th>\n",
       "      <td>740</td>\n",
       "      <td>2015-06-15 08:25:00</td>\n",
       "      <td>2015-06-29 06:24:00</td>\n",
       "      <td>655 days</td>\n",
       "      <td>655</td>\n",
       "      <td>63 days</td>\n",
       "      <td>63</td>\n",
       "    </tr>\n",
       "  </tbody>\n",
       "</table>\n",
       "</div>"
      ],
      "text/plain": [
       "     bike_id          first_trip           last_trip  time_to_first  \\\n",
       "696      740 2015-06-15 08:25:00 2015-06-29 06:24:00       655 days   \n",
       "\n",
       "     days_to_first  time_since_last  days_since_last  \n",
       "696            655          63 days               63  "
      ]
     },
     "execution_count": 65,
     "metadata": {},
     "output_type": "execute_result"
    }
   ],
   "source": [
    "firstLastByBikeDf.sort_values(by='first_trip').tail(1)"
   ]
  },
  {
   "cell_type": "markdown",
   "metadata": {},
   "source": [
    "Estos datos llevan a pensar sobre si fueron agregadas bicicletas luego de la inauguración. Se buscaron noticias en internet sobre ese evento, las cuales informaban cuántas bicicletas habría: algunas decían 600, otras 700. Si fueran 600, se explicaría que otras 100 se fueran agregando paulatinamente y dieran como resultado estos datos. Si desde el inicio hubo 700, quiere decir que hubo al menos una bicicleta que tardó más de un año y medio en estrenarse.\n",
    "\n",
    "Ahora, veamos las bicicletas que hace más tiempo no se usan, posicionandonos en el último día del que se tiene registros:"
   ]
  },
  {
   "cell_type": "code",
   "execution_count": 66,
   "metadata": {
    "collapsed": false
   },
   "outputs": [
    {
     "data": {
      "text/html": [
       "<div>\n",
       "<table border=\"1\" class=\"dataframe\">\n",
       "  <thead>\n",
       "    <tr style=\"text-align: right;\">\n",
       "      <th></th>\n",
       "      <th>bike_id</th>\n",
       "      <th>first_trip</th>\n",
       "      <th>last_trip</th>\n",
       "      <th>time_to_first</th>\n",
       "      <th>days_to_first</th>\n",
       "      <th>time_since_last</th>\n",
       "      <th>days_since_last</th>\n",
       "    </tr>\n",
       "  </thead>\n",
       "  <tbody>\n",
       "    <tr>\n",
       "      <th>454</th>\n",
       "      <td>476</td>\n",
       "      <td>2013-08-29 11:15:00</td>\n",
       "      <td>2013-09-07 17:37:00</td>\n",
       "      <td>0 days</td>\n",
       "      <td>0</td>\n",
       "      <td>723 days</td>\n",
       "      <td>723</td>\n",
       "    </tr>\n",
       "    <tr>\n",
       "      <th>438</th>\n",
       "      <td>460</td>\n",
       "      <td>2013-08-29 13:43:00</td>\n",
       "      <td>2013-09-07 13:55:00</td>\n",
       "      <td>0 days</td>\n",
       "      <td>0</td>\n",
       "      <td>723 days</td>\n",
       "      <td>723</td>\n",
       "    </tr>\n",
       "    <tr>\n",
       "      <th>302</th>\n",
       "      <td>323</td>\n",
       "      <td>2013-08-30 08:59:00</td>\n",
       "      <td>2013-09-07 18:13:00</td>\n",
       "      <td>1 days</td>\n",
       "      <td>1</td>\n",
       "      <td>723 days</td>\n",
       "      <td>723</td>\n",
       "    </tr>\n",
       "    <tr>\n",
       "      <th>543</th>\n",
       "      <td>565</td>\n",
       "      <td>2013-08-29 13:45:00</td>\n",
       "      <td>2013-09-07 14:35:00</td>\n",
       "      <td>0 days</td>\n",
       "      <td>0</td>\n",
       "      <td>723 days</td>\n",
       "      <td>723</td>\n",
       "    </tr>\n",
       "    <tr>\n",
       "      <th>295</th>\n",
       "      <td>316</td>\n",
       "      <td>2013-08-29 09:24:00</td>\n",
       "      <td>2013-09-07 23:03:00</td>\n",
       "      <td>0 days</td>\n",
       "      <td>0</td>\n",
       "      <td>723 days</td>\n",
       "      <td>723</td>\n",
       "    </tr>\n",
       "  </tbody>\n",
       "</table>\n",
       "</div>"
      ],
      "text/plain": [
       "     bike_id          first_trip           last_trip  time_to_first  \\\n",
       "454      476 2013-08-29 11:15:00 2013-09-07 17:37:00         0 days   \n",
       "438      460 2013-08-29 13:43:00 2013-09-07 13:55:00         0 days   \n",
       "302      323 2013-08-30 08:59:00 2013-09-07 18:13:00         1 days   \n",
       "543      565 2013-08-29 13:45:00 2013-09-07 14:35:00         0 days   \n",
       "295      316 2013-08-29 09:24:00 2013-09-07 23:03:00         0 days   \n",
       "\n",
       "     days_to_first  time_since_last  days_since_last  \n",
       "454              0         723 days              723  \n",
       "438              0         723 days              723  \n",
       "302              1         723 days              723  \n",
       "543              0         723 days              723  \n",
       "295              0         723 days              723  "
      ]
     },
     "execution_count": 66,
     "metadata": {},
     "output_type": "execute_result"
    }
   ],
   "source": [
    "firstLastByBikeDf.sort_values(by='time_since_last', ascending=False).head(5)"
   ]
  },
  {
   "cell_type": "code",
   "execution_count": 67,
   "metadata": {
    "collapsed": false,
    "scrolled": true
   },
   "outputs": [
    {
     "data": {
      "text/plain": [
       "<seaborn.axisgrid.FacetGrid at 0x7eff6c659a50>"
      ]
     },
     "execution_count": 67,
     "metadata": {},
     "output_type": "execute_result"
    },
    {
     "data": {
      "image/png": "[encoded data removed]",
      "text/plain": [
       "<matplotlib.figure.Figure at 0x7eff79123c10>"
      ]
     },
     "metadata": {},
     "output_type": "display_data"
    }
   ],
   "source": [
    "plotDf = firstLastByBikeDf.sort_values(by='days_since_last', ascending=False).head(20)\n",
    "plotDf['day'] = plotDf['last_trip'].map(lambda x: x.date())\n",
    "plotDf.sort_values(by='day', inplace=True)\n",
    "plotDf.rename(columns={'day':'Dia de ultimo uso', 'days_since_last':'Dias transcurridos'}, inplace=True)\n",
    "g = sns.factorplot(x='Dia de ultimo uso', y='Dias transcurridos', data=plotDf, kind = 'strip', size=4, aspect = 2, color='blue')\n",
    "g.axes.flat[0].set_title('Ultimos usos de bicicletas, que distan mas de la ultima fecha registrada')\n",
    "g.axes.flat[0].set(ylim=(0, 800))\n",
    "g.set_xticklabels(rotation=60)"
   ]
  },
  {
   "cell_type": "markdown",
   "metadata": {},
   "source": [
    "Nos encontramos con bicicletas que no se utilizan hace más de 500 días. Esto podría explicarse si no se repusieran las bicicletas robadas o que ya no puedan utilizarse. Veamos la cantidad de bicicletas en esta situación."
   ]
  },
  {
   "cell_type": "markdown",
   "metadata": {},
   "source": [
    "Analizamos la cantidad de bicicletas inactivas considerando distintos rangos de inactividad:"
   ]
  },
  {
   "cell_type": "code",
   "execution_count": 68,
   "metadata": {
    "collapsed": false
   },
   "outputs": [
    {
     "data": {
      "text/html": [
       "<div>\n",
       "<table border=\"1\" class=\"dataframe\">\n",
       "  <thead>\n",
       "    <tr style=\"text-align: right;\">\n",
       "      <th></th>\n",
       "      <th>Bicicletas inactivas</th>\n",
       "      <th>Periodo</th>\n",
       "    </tr>\n",
       "  </thead>\n",
       "  <tbody>\n",
       "    <tr>\n",
       "      <th>0</th>\n",
       "      <td>292</td>\n",
       "      <td>1</td>\n",
       "    </tr>\n",
       "    <tr>\n",
       "      <th>1</th>\n",
       "      <td>105</td>\n",
       "      <td>31</td>\n",
       "    </tr>\n",
       "    <tr>\n",
       "      <th>2</th>\n",
       "      <td>82</td>\n",
       "      <td>61</td>\n",
       "    </tr>\n",
       "    <tr>\n",
       "      <th>3</th>\n",
       "      <td>71</td>\n",
       "      <td>91</td>\n",
       "    </tr>\n",
       "    <tr>\n",
       "      <th>4</th>\n",
       "      <td>66</td>\n",
       "      <td>121</td>\n",
       "    </tr>\n",
       "    <tr>\n",
       "      <th>5</th>\n",
       "      <td>61</td>\n",
       "      <td>151</td>\n",
       "    </tr>\n",
       "    <tr>\n",
       "      <th>6</th>\n",
       "      <td>52</td>\n",
       "      <td>181</td>\n",
       "    </tr>\n",
       "    <tr>\n",
       "      <th>7</th>\n",
       "      <td>48</td>\n",
       "      <td>211</td>\n",
       "    </tr>\n",
       "    <tr>\n",
       "      <th>8</th>\n",
       "      <td>46</td>\n",
       "      <td>241</td>\n",
       "    </tr>\n",
       "    <tr>\n",
       "      <th>9</th>\n",
       "      <td>41</td>\n",
       "      <td>271</td>\n",
       "    </tr>\n",
       "  </tbody>\n",
       "</table>\n",
       "</div>"
      ],
      "text/plain": [
       "   Bicicletas inactivas  Periodo\n",
       "0                   292        1\n",
       "1                   105       31\n",
       "2                    82       61\n",
       "3                    71       91\n",
       "4                    66      121\n",
       "5                    61      151\n",
       "6                    52      181\n",
       "7                    48      211\n",
       "8                    46      241\n",
       "9                    41      271"
      ]
     },
     "execution_count": 68,
     "metadata": {},
     "output_type": "execute_result"
    }
   ],
   "source": [
    "#Rango desde 1 día a 723 (máximo de días de inactividad analizados), con intervalos de 30 días.\n",
    "daysRange = range(1, 723, 30)\n",
    "inactiveBikes = []\n",
    "for i in daysRange:\n",
    "    inactiveCount = len(firstLastByBikeDf[firstLastByBikeDf['days_since_last'] > i])\n",
    "    inactiveBikes.append(inactiveCount)\n",
    "\n",
    "    \n",
    "inactiveBikesDf = pd.DataFrame(data={'Periodo':pd.Series(data=list(daysRange)), 'Bicicletas inactivas':pd.Series(data=inactiveBikes)})\n",
    "inactiveBikesDf.head(10)\n"
   ]
  },
  {
   "cell_type": "code",
   "execution_count": 69,
   "metadata": {
    "collapsed": false
   },
   "outputs": [
    {
     "data": {
      "text/plain": [
       "<matplotlib.text.Text at 0x7eff6ca9a410>"
      ]
     },
     "execution_count": 69,
     "metadata": {},
     "output_type": "execute_result"
    },
    {
     "data": {
      "image/png": "[encoded data removed]",
      "text/plain": [
       "<matplotlib.figure.Figure at 0x7eff7c6f0bd0>"
      ]
     },
     "metadata": {},
     "output_type": "display_data"
    }
   ],
   "source": [
    "g = sns.factorplot(x='Periodo', y='Bicicletas inactivas', data=inactiveBikesDf[inactiveBikesDf['Periodo'] > 30], size=4, aspect = 2)\n",
    "g.axes.flat[0].set_title('Bicicletas \"inactivas\" considerando disintos periodos')"
   ]
  },
  {
   "cell_type": "markdown",
   "metadata": {},
   "source": [
    "Vemos que la cantidad de bicicletas inactivas parece bastante alto. Por ejemplo, hay 105 bicicletas que no se utilizan desde hace un 31 días. Pongámoslo en porcentajes:"
   ]
  },
  {
   "cell_type": "code",
   "execution_count": 70,
   "metadata": {
    "collapsed": false
   },
   "outputs": [],
   "source": [
    "inactiveBikesDf['Porcentaje de inactivas'] = inactiveBikesDf['Bicicletas inactivas'].map(lambda x: (x*100)/700)"
   ]
  },
  {
   "cell_type": "code",
   "execution_count": 71,
   "metadata": {
    "collapsed": false
   },
   "outputs": [
    {
     "data": {
      "text/html": [
       "<div>\n",
       "<table border=\"1\" class=\"dataframe\">\n",
       "  <thead>\n",
       "    <tr style=\"text-align: right;\">\n",
       "      <th></th>\n",
       "      <th>Bicicletas inactivas</th>\n",
       "      <th>Periodo</th>\n",
       "      <th>Porcentaje de inactivas</th>\n",
       "    </tr>\n",
       "  </thead>\n",
       "  <tbody>\n",
       "    <tr>\n",
       "      <th>0</th>\n",
       "      <td>292</td>\n",
       "      <td>1</td>\n",
       "      <td>41</td>\n",
       "    </tr>\n",
       "    <tr>\n",
       "      <th>1</th>\n",
       "      <td>105</td>\n",
       "      <td>31</td>\n",
       "      <td>15</td>\n",
       "    </tr>\n",
       "    <tr>\n",
       "      <th>2</th>\n",
       "      <td>82</td>\n",
       "      <td>61</td>\n",
       "      <td>11</td>\n",
       "    </tr>\n",
       "    <tr>\n",
       "      <th>3</th>\n",
       "      <td>71</td>\n",
       "      <td>91</td>\n",
       "      <td>10</td>\n",
       "    </tr>\n",
       "    <tr>\n",
       "      <th>4</th>\n",
       "      <td>66</td>\n",
       "      <td>121</td>\n",
       "      <td>9</td>\n",
       "    </tr>\n",
       "  </tbody>\n",
       "</table>\n",
       "</div>"
      ],
      "text/plain": [
       "   Bicicletas inactivas  Periodo  Porcentaje de inactivas\n",
       "0                   292        1                       41\n",
       "1                   105       31                       15\n",
       "2                    82       61                       11\n",
       "3                    71       91                       10\n",
       "4                    66      121                        9"
      ]
     },
     "execution_count": 71,
     "metadata": {},
     "output_type": "execute_result"
    }
   ],
   "source": [
    "inactiveBikesDf.head(5)"
   ]
  },
  {
   "cell_type": "code",
   "execution_count": 72,
   "metadata": {
    "collapsed": false
   },
   "outputs": [
    {
     "data": {
      "text/plain": [
       "<seaborn.axisgrid.FacetGrid at 0x7eff7e911d10>"
      ]
     },
     "execution_count": 72,
     "metadata": {},
     "output_type": "execute_result"
    },
    {
     "data": {
      "image/png": "[encoded data removed]",
      "text/plain": [
       "<matplotlib.figure.Figure at 0x7eff7e911b50>"
      ]
     },
     "metadata": {},
     "output_type": "display_data"
    }
   ],
   "source": [
    "g = sns.factorplot(x='Periodo', y='Porcentaje de inactivas', data=inactiveBikesDf[inactiveBikesDf['Periodo'] > 30], size=4, aspect = 2)\n",
    "g.axes.flat[0].set_title('Bicicletas \"inactivas\" considerando disintos periodos')\n",
    "g.set_xticklabels(rotation=90)"
   ]
  },
  {
   "cell_type": "markdown",
   "metadata": {},
   "source": [
    "Por ejemplo, en los últimos 31 días no se utilizó al 15% de las bicicletas.\n",
    "\n",
    "Veamos en la última semana:"
   ]
  },
  {
   "cell_type": "code",
   "execution_count": 73,
   "metadata": {
    "collapsed": false
   },
   "outputs": [
    {
     "data": {
      "text/plain": [
       "185"
      ]
     },
     "execution_count": 73,
     "metadata": {},
     "output_type": "execute_result"
    }
   ],
   "source": [
    "#Total de bicicletas sin usar en la última semana\n",
    "len(firstLastByBikeDf[firstLastByBikeDf['days_since_last'] > 7])"
   ]
  },
  {
   "cell_type": "code",
   "execution_count": 74,
   "metadata": {
    "collapsed": false
   },
   "outputs": [
    {
     "data": {
      "text/plain": [
       "26"
      ]
     },
     "execution_count": 74,
     "metadata": {},
     "output_type": "execute_result"
    }
   ],
   "source": [
    "#Porcentaje de bicicletas sin usar en la última semana\n",
    "(len(firstLastByBikeDf[firstLastByBikeDf['days_since_last'] > 7])*100)/700"
   ]
  },
  {
   "cell_type": "markdown",
   "metadata": {},
   "source": [
    "En la última semana, el 26% de las bicicletas NO fue utilizado."
   ]
  },
  {
   "cell_type": "markdown",
   "metadata": {},
   "source": [
    "### ¿Cuál es el tiempo inactividad promedio hasta la última fecha dada?  "
   ]
  },
  {
   "cell_type": "code",
   "execution_count": 75,
   "metadata": {
    "collapsed": false
   },
   "outputs": [
    {
     "data": {
      "text/plain": [
       "Timedelta('42 days 03:05:08.571428')"
      ]
     },
     "execution_count": 75,
     "metadata": {},
     "output_type": "execute_result"
    }
   ],
   "source": [
    "firstLastByBikeDf['time_since_last'].mean()"
   ]
  },
  {
   "cell_type": "markdown",
   "metadata": {},
   "source": [
    "Vemos una inactividad promedio de 42 días por bicicleta, desde el último uso a la actualidad."
   ]
  },
  {
   "cell_type": "markdown",
   "metadata": {},
   "source": [
    "# Conclusiones:\n",
    "\n",
    "Analizamos el comportamiento de los clientes del servicio público de bicicletas de la ciudad de San Francisco, determinado datos como:\n",
    "\n",
    "- La mayor demanda se produce en los días laborales.\n",
    "- La temperatura que más favorece al uso es entre 10ºC y 21ºC.\n",
    "- Se utiliza normalmente el servicio hasta con vientos de 10 mph (16km/h).\n",
    "- La mayor cantidad de viajes se realiza con visibilidad en torno a las 10 millas (1,6km), que además, se determinó que es la visibilidad más común en San Francisco.\n",
    "\n",
    "\n",
    "- La mayor cantidad de viajes se originan en San Francisco.\n",
    "- Hay una considerable cantidad de viajes entre distintas ciudades.\n",
    "\n",
    "\n",
    "- El uso de las bicicletas va en aumento: alrededor del 11% anual.\n",
    "- Existe una tendencia general a que las estaciones se queden cada vez más sin bicicletas. \n",
    "- Los registros en que las estaciones no tienen bicicletas son más comunes a la mañana (pico a las 9hs) y a la tarde (pico a las 18hs).\n",
    "- Las bicicletas tienen un tiempo considerable de inactividad: 42 días desde el último uso hasta la última fecha registrada en el set de datos, en promedio.\n",
    "\n",
    "Sobre estos últimos puntos, consideramos que podría plantearse algún mecanismo para reducir el tiempo de inactividad de las bicicletas, lo que favorecería a mayor oferta de las estaciones para satisfacer la demanda creciente del servicio."
   ]
  },
  {
   "cell_type": "code",
   "execution_count": null,
   "metadata": {
    "collapsed": true
   },
   "outputs": [],
   "source": []
  }
 ],
 "metadata": {
  "kernelspec": {
   "display_name": "Python 2",
   "language": "python",
   "name": "python2"
  },
  "language_info": {
   "codemirror_mode": {
    "name": "ipython",
    "version": 2
   },
   "file_extension": ".py",
   "mimetype": "text/x-python",
   "name": "python",
   "nbconvert_exporter": "python",
   "pygments_lexer": "ipython2",
   "version": "2.7.13"
  }
 },
 "nbformat": 4,
 "nbformat_minor": 2
}
