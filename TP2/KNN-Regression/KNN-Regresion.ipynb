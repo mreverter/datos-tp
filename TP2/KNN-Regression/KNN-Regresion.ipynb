{
 "cells": [
  {
   "cell_type": "code",
   "execution_count": 108,
   "metadata": {
    "collapsed": true
   },
   "outputs": [],
   "source": [
    "import numpy as np\n",
    "import pandas as pd\n",
    "import matplotlib.pyplot as plt\n",
    "from sklearn.metrics import mean_squared_error\n",
    "from sklearn import neighbors"
   ]
  },
  {
   "cell_type": "code",
   "execution_count": 87,
   "metadata": {
    "collapsed": true
   },
   "outputs": [],
   "source": [
    "train = pd.read_csv('train.csv')\n",
    "test = pd.read_csv('test.csv')"
   ]
  },
  {
   "cell_type": "code",
   "execution_count": 88,
   "metadata": {
    "collapsed": true
   },
   "outputs": [],
   "source": [
    "train_no_duration = train[['start_day','start_month','start_hour','start_minute','end_day','end_month','end_hour','end_minute','start_station_id','end_station_id']]\n",
    "train_durations = train[['duration']]"
   ]
  },
  {
   "cell_type": "code",
   "execution_count": 89,
   "metadata": {
    "collapsed": true
   },
   "outputs": [],
   "source": [
    "test_to_predict = test[['start_day','start_month','start_hour','start_minute','end_day','end_month','end_hour','end_minute','start_station_id','end_station_id']]"
   ]
  },
  {
   "cell_type": "code",
   "execution_count": 92,
   "metadata": {
    "collapsed": true
   },
   "outputs": [],
   "source": [
    "knn = neighbors.KNeighborsRegressor(100, weights=\"distance\", algorithm=\"ball_tree\")"
   ]
  },
  {
   "cell_type": "code",
   "execution_count": 93,
   "metadata": {
    "collapsed": true
   },
   "outputs": [],
   "source": [
    "predictions = knn.fit(train_no_duration, train_durations).predict(test_to_predict)\n",
    "predictions = predictions.flatten()"
   ]
  },
  {
   "cell_type": "code",
   "execution_count": 94,
   "metadata": {
    "collapsed": true
   },
   "outputs": [],
   "source": [
    "completeTest = pd.read_csv('data/trip_test.csv')\n",
    "testIds = completeTest['id'].values\n",
    "testIds = testIds.flatten()"
   ]
  },
  {
   "cell_type": "code",
   "execution_count": 95,
   "metadata": {
    "collapsed": true
   },
   "outputs": [],
   "source": [
    "#Creo archivo para submit\n",
    "submissionDf = pd.DataFrame()\n",
    "submissionDf['id'] = pd.Series(testIds)\n",
    "submissionDf['duration'] = pd.Series(predictions)\n",
    "submissionDf.set_index(['id'], inplace=True)"
   ]
  },
  {
   "cell_type": "code",
   "execution_count": 96,
   "metadata": {
    "collapsed": true
   },
   "outputs": [],
   "source": [
    "submissionDf.to_csv('predictions.csv')"
   ]
  },
  {
   "cell_type": "code",
   "execution_count": null,
   "metadata": {
    "collapsed": true
   },
   "outputs": [],
   "source": [
    "weatherDf = pd.read_csv('data/weather.csv')\n",
    "weatherDf = weather.loc[:, ['']]"
   ]
  },
  {
   "cell_type": "code",
   "execution_count": 117,
   "metadata": {
    "collapsed": true
   },
   "outputs": [],
   "source": [
    "tripsDf = pd.read_csv('data/trip.csv')\n",
    "reducedTrips = tripsDf[['id', 'duration']]\n",
    "reducedTrips.set_index(['id'], inplace=True)\n",
    "\n",
    "k_trials = [1, 2, 3, 4, 5, 11, 21, 31, 51, 71, 91, 101, 151, 201, 251, 301, 351, 401, 501]\n",
    "            \n",
    "weights = ['uniform', 'distance']\n",
    "\n",
    "algorithms = ['kd_tree', 'ball_tree']\n",
    "\n",
    "predictionList = []\n",
    "scoreList = []\n",
    "\n",
    "for k in k_trials:\n",
    "    for w in weights:\n",
    "        for a in algorithms\n",
    "            knn = neighbors.KNeighborsRegressor(k, weights=w, algorithm=a)\n",
    "            predictions = knn.fit(train_no_duration, train_durations).predict(test_to_predict)\n",
    "            predictions = predictions.flatten()\n",
    "            #Creo archivo para submit\n",
    "            submissionDf = pd.DataFrame()\n",
    "            submissionDf['id'] = pd.Series(testIds)\n",
    "            submissionDf['duration'] = pd.Series(predictions)\n",
    "            submissionDf.set_index(['id'], inplace=True)\n",
    "            submissionDf.to_csv('predictions-K'+str(k)+'-'+w+'-ball-tree.csv')\n",
    "            submissionDf.columns = ['pred_duration']\n",
    "            result = submissionDf.join(reducedTrips, how='inner')\n",
    "            predictionList.append('KNN-K'+str(k)+'-'+w+'-ball-tree')\n",
    "            score = mean_squared_error(result['duration'].values, result['pred_duration'].values)\n",
    "            scoreList.append(score)"
   ]
  },
  {
   "cell_type": "code",
   "execution_count": 118,
   "metadata": {
    "collapsed": true
   },
   "outputs": [],
   "source": [
    "scoresDf = pd.DataFrame()\n",
    "scoresDf['variant'] = pd.Series(predictionList)\n",
    "scoresDf['score'] = pd.Series(scoreList)\n",
    "scoresDf.to_csv('scores.csv')"
   ]
  }
 ],
 "metadata": {
  "kernelspec": {
   "display_name": "Python 2",
   "language": "python",
   "name": "python2"
  },
  "language_info": {
   "codemirror_mode": {
    "name": "ipython",
    "version": 2
   },
   "file_extension": ".py",
   "mimetype": "text/x-python",
   "name": "python",
   "nbconvert_exporter": "python",
   "pygments_lexer": "ipython2",
   "version": "2.7.10"
  }
 },
 "nbformat": 4,
 "nbformat_minor": 2
}
