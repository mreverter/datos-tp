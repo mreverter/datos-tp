{
 "cells": [
  {
   "cell_type": "code",
   "execution_count": 190,
   "metadata": {
    "collapsed": true
   },
   "outputs": [],
   "source": [
    "import pandas as pd\n",
    "import numpy as np\n",
    "from datetime import datetime\n",
    "import matplotlib.pyplot as plt\n",
    "from datetime import timedelta, date\n",
    "import matplotlib.dates as mdates\n",
    "import seaborn as sns\n",
    "\n",
    "%matplotlib inline"
   ]
  },
  {
   "cell_type": "code",
   "execution_count": 191,
   "metadata": {
    "collapsed": true
   },
   "outputs": [],
   "source": [
    "#Cargo datos de viajes\n",
    "tripsDf = pd.read_csv(\"data/trip.csv\")\n",
    "#Cargo datos de estaciones\n",
    "stationsDf = pd.read_csv('data/station.csv')"
   ]
  },
  {
   "cell_type": "code",
   "execution_count": 192,
   "metadata": {
    "collapsed": false
   },
   "outputs": [
    {
     "data": {
      "text/plain": [
       "id                     int64\n",
       "duration               int64\n",
       "start_date            object\n",
       "start_station_name    object\n",
       "start_station_id       int64\n",
       "end_date              object\n",
       "end_station_name      object\n",
       "end_station_id         int64\n",
       "bike_id                int64\n",
       "subscription_type     object\n",
       "zip_code              object\n",
       "dtype: object"
      ]
     },
     "execution_count": 192,
     "metadata": {},
     "output_type": "execute_result"
    }
   ],
   "source": [
    "#Analizo los tipos de datos de trips\n",
    "tripsDf.dtypes"
   ]
  },
  {
   "cell_type": "code",
   "execution_count": 193,
   "metadata": {
    "collapsed": true
   },
   "outputs": [],
   "source": [
    "#Convierto datos de fechas a datetime\n",
    "tripsDf['start_date'] = pd.to_datetime(tripsDf['start_date'], format = \"%m/%d/%Y %H:%M\")\n",
    "tripsDf['end_date'] = pd.to_datetime(tripsDf['end_date'], format = \"%m/%d/%Y %H:%M\")"
   ]
  },
  {
   "cell_type": "code",
   "execution_count": 194,
   "metadata": {
    "collapsed": true
   },
   "outputs": [],
   "source": [
    "#Creo columna solo con datos de la fecha de inicio\n",
    "tripsDf['date'] = tripsDf['start_date'].map(lambda x: x.date())"
   ]
  },
  {
   "cell_type": "code",
   "execution_count": 195,
   "metadata": {
    "collapsed": false
   },
   "outputs": [],
   "source": [
    "#Agrego columnas con el año y el mes\n",
    "tripsDf['year'] = tripsDf['date'].map(lambda x: x.year)\n",
    "tripsDf['month'] = tripsDf['date'].map(lambda x: x.month)\n",
    "tripsDf['day'] = tripsDf['date'].map(lambda x: x.day)"
   ]
  },
  {
   "cell_type": "code",
   "execution_count": 196,
   "metadata": {
    "collapsed": false
   },
   "outputs": [],
   "source": [
    "#Agrego columnas solo con el día, y otro con formato año-mes\n",
    "tripsDf['year-month'] = tripsDf['start_date'].map(lambda x: x.strftime('%Y-%m'))"
   ]
  },
  {
   "cell_type": "code",
   "execution_count": 197,
   "metadata": {
    "collapsed": false
   },
   "outputs": [
    {
     "data": {
      "text/plain": [
       "id                     int64\n",
       "name                  object\n",
       "lat                  float64\n",
       "long                 float64\n",
       "dock_count             int64\n",
       "city                  object\n",
       "installation_date     object\n",
       "dtype: object"
      ]
     },
     "execution_count": 197,
     "metadata": {},
     "output_type": "execute_result"
    }
   ],
   "source": [
    "#Analizo los datos de stations\n",
    "stationsDf.dtypes"
   ]
  },
  {
   "cell_type": "code",
   "execution_count": 198,
   "metadata": {
    "collapsed": true
   },
   "outputs": [],
   "source": [
    "#Cambio el nombre de la columna id a station_id por claridad\n",
    "stationsDf.rename(columns={'id':'station_id'}, inplace=True)"
   ]
  },
  {
   "cell_type": "markdown",
   "metadata": {},
   "source": [
    "# ¿Cómo evoluciona con el tiempo la cantidad de viajes?"
   ]
  },
  {
   "cell_type": "markdown",
   "metadata": {},
   "source": [
    "Se realizará un análisis de la cantidad de viajes utilizando los datos de los mismos entre Agosto del 2013 y Agosto del 2015, con el fin de determinar cómo se comporta la demanda del servicio en el tiempo."
   ]
  },
  {
   "cell_type": "markdown",
   "metadata": {},
   "source": [
    "### Top 5 de días con más viajes"
   ]
  },
  {
   "cell_type": "code",
   "execution_count": 199,
   "metadata": {
    "collapsed": false
   },
   "outputs": [],
   "source": [
    "#Viajes por fecha\n",
    "tripsPerDay = pd.DataFrame({'count' : tripsDf.groupby(['date']).size()}).reset_index()"
   ]
  },
  {
   "cell_type": "code",
   "execution_count": 200,
   "metadata": {
    "collapsed": false
   },
   "outputs": [
    {
     "data": {
      "text/html": [
       "<div>\n",
       "<table border=\"1\" class=\"dataframe\">\n",
       "  <thead>\n",
       "    <tr style=\"text-align: right;\">\n",
       "      <th></th>\n",
       "      <th>date</th>\n",
       "      <th>count</th>\n",
       "    </tr>\n",
       "  </thead>\n",
       "  <tbody>\n",
       "    <tr>\n",
       "      <th>382</th>\n",
       "      <td>2014-09-15</td>\n",
       "      <td>1516</td>\n",
       "    </tr>\n",
       "    <tr>\n",
       "      <th>362</th>\n",
       "      <td>2014-08-26</td>\n",
       "      <td>1513</td>\n",
       "    </tr>\n",
       "    <tr>\n",
       "      <th>426</th>\n",
       "      <td>2014-10-29</td>\n",
       "      <td>1496</td>\n",
       "    </tr>\n",
       "    <tr>\n",
       "      <th>411</th>\n",
       "      <td>2014-10-14</td>\n",
       "      <td>1496</td>\n",
       "    </tr>\n",
       "    <tr>\n",
       "      <th>363</th>\n",
       "      <td>2014-08-27</td>\n",
       "      <td>1479</td>\n",
       "    </tr>\n",
       "  </tbody>\n",
       "</table>\n",
       "</div>"
      ],
      "text/plain": [
       "           date  count\n",
       "382  2014-09-15   1516\n",
       "362  2014-08-26   1513\n",
       "426  2014-10-29   1496\n",
       "411  2014-10-14   1496\n",
       "363  2014-08-27   1479"
      ]
     },
     "execution_count": 200,
     "metadata": {},
     "output_type": "execute_result"
    }
   ],
   "source": [
    "#Top 5 de días con más viajes\n",
    "tripsPerDay.sort_values(by='count', ascending=False).head(5)"
   ]
  },
  {
   "cell_type": "markdown",
   "metadata": {},
   "source": [
    "### Cantidad de viajes, mes a mes"
   ]
  },
  {
   "cell_type": "code",
   "execution_count": 201,
   "metadata": {
    "collapsed": false,
    "scrolled": true
   },
   "outputs": [
    {
     "data": {
      "text/plain": [
       "<seaborn.axisgrid.FacetGrid at 0x7fd2cd150650>"
      ]
     },
     "execution_count": 201,
     "metadata": {},
     "output_type": "execute_result"
    },
    {
     "data": {
      "image/png": "[encoded data removed]",
      "text/plain": [
       "<matplotlib.figure.Figure at 0x7fd2cd1504d0>"
      ]
     },
     "metadata": {},
     "output_type": "display_data"
    }
   ],
   "source": [
    "#Plot de viajes por mes\n",
    "monthlyTrips = tripsDf\n",
    "monthlyTrips = pd.DataFrame({'count' : tripsDf.groupby(['year', 'month', 'year-month']).size()}).reset_index()\n",
    "monthlyTrips = monthlyTrips.loc[:, ['count', 'year-month', 'year', 'month']]\n",
    "monthlyTrips.rename(columns={'count':'Viajes', 'month':'Mes', 'year':'Lapso', 'year-month':'Fecha'}, inplace=True)\n",
    "\n",
    "g = sns.factorplot(x='Fecha', y='Viajes', hue='Lapso', data=monthlyTrips, kind = 'bar', size=4, aspect = 2)\n",
    "g.axes.flat[0].set_title('Viajes realizados mes a mes')\n",
    "g.set_xticklabels(rotation=60)"
   ]
  },
  {
   "cell_type": "markdown",
   "metadata": {},
   "source": [
    "### Comparación interanual de viajes mensuales"
   ]
  },
  {
   "cell_type": "code",
   "execution_count": 202,
   "metadata": {
    "collapsed": false
   },
   "outputs": [
    {
     "data": {
      "text/plain": [
       "<seaborn.axisgrid.FacetGrid at 0x7fd2cc543ed0>"
      ]
     },
     "execution_count": 202,
     "metadata": {},
     "output_type": "execute_result"
    },
    {
     "data": {
      "image/png": "[encoded data removed]",
      "text/plain": [
       "<matplotlib.figure.Figure at 0x7fd2cc5431d0>"
      ]
     },
     "metadata": {},
     "output_type": "display_data"
    }
   ],
   "source": [
    "#Plot de viajes por mes\n",
    "monthlyTrips = tripsDf\n",
    "monthlyTrips = pd.DataFrame({'count' : tripsDf.groupby(['year', 'month','date']).size()}).reset_index()\n",
    "monthlyTrips['month_name'] = monthlyTrips['date'].map(lambda x: x.strftime('%B'))\n",
    "monthlyTrips = monthlyTrips.groupby(['month', 'year', 'month_name']).sum()\n",
    "monthlyTrips = monthlyTrips.reset_index()\n",
    "\n",
    "monthlyTrips.rename(columns={'count':'Viajes', 'month_name':'Mes', 'year':'Lapso'}, inplace=True)\n",
    "\n",
    "g = sns.factorplot(x='Mes', y='Viajes', hue='Lapso', data=monthlyTrips, kind = 'bar', size=4, aspect = 2)\n",
    "g.axes.flat[0].set_title('Comparacion interanual de viajes realizados mes a mes')\n",
    "g.set_xticklabels(rotation=60)"
   ]
  },
  {
   "cell_type": "markdown",
   "metadata": {},
   "source": [
    "### Viajes por año"
   ]
  },
  {
   "cell_type": "code",
   "execution_count": 203,
   "metadata": {
    "collapsed": false
   },
   "outputs": [
    {
     "data": {
      "text/plain": [
       "<seaborn.axisgrid.FacetGrid at 0x7fd2cc5f6590>"
      ]
     },
     "execution_count": 203,
     "metadata": {},
     "output_type": "execute_result"
    },
    {
     "data": {
      "image/png": "[encoded data removed]",
      "text/plain": [
       "<matplotlib.figure.Figure at 0x7fd2cc77e950>"
      ]
     },
     "metadata": {},
     "output_type": "display_data"
    }
   ],
   "source": [
    "#Viajes por año\n",
    "yearTrips = tripsDf\n",
    "yearTrips = pd.DataFrame({'count' : tripsDf.groupby(['year']).size()}).reset_index()\n",
    "yearTrips.rename(columns={'count':'Viajes', 'year':'Lapso'}, inplace=True)\n",
    "\n",
    "g = sns.factorplot(x='Lapso', y='Viajes', data=yearTrips, kind = 'bar', size=4, aspect = 2)\n",
    "g.axes.flat[0].set_title('Comparacion interanual de viajes realizados mes a mes')\n",
    "g.set_xticklabels(rotation=60)"
   ]
  },
  {
   "cell_type": "markdown",
   "metadata": {},
   "source": [
    "### Viajes promedio por año"
   ]
  },
  {
   "cell_type": "code",
   "execution_count": 204,
   "metadata": {
    "collapsed": false
   },
   "outputs": [
    {
     "data": {
      "text/plain": [
       "<seaborn.axisgrid.FacetGrid at 0x7fd2c4a614d0>"
      ]
     },
     "execution_count": 204,
     "metadata": {},
     "output_type": "execute_result"
    },
    {
     "data": {
      "image/png": "[encoded data removed]",
      "text/plain": [
       "<matplotlib.figure.Figure at 0x7fd2c4a615d0>"
      ]
     },
     "metadata": {},
     "output_type": "display_data"
    }
   ],
   "source": [
    "#Viajes promedio por año\n",
    "yearAverageTrips = pd.DataFrame({'count' : tripsDf.groupby(['year']).size(),\\\n",
    "                             'days' : tripsDf.groupby(['year']).date.nunique(),\\\n",
    "                             'average_trips' : tripsDf.groupby(['year']).size()/tripsDf.groupby(['year']).date.nunique()}).reset_index()\n",
    "\n",
    "yearAverageTrips.rename(columns={'year':'Lapso', 'average_trips':'Viajes promedio'}, inplace=True)\n",
    "\n",
    "g = sns.factorplot(x='Lapso', y='Viajes promedio', data=yearAverageTrips, kind = 'bar', size=4, aspect = 2)\n",
    "g.axes.flat[0].set_title('Promedio anual de viajes')\n",
    "g.set_xticklabels(rotation=60)"
   ]
  },
  {
   "cell_type": "markdown",
   "metadata": {},
   "source": [
    "# ¿Cómo se satisface la demanda del servicio?"
   ]
  },
  {
   "cell_type": "markdown",
   "metadata": {},
   "source": [
    "Se analizará utilizando los datos minuto a minuto de las estaciones, en cuántas oportunidades se encontraban sin bicicletas disponibles."
   ]
  },
  {
   "cell_type": "code",
   "execution_count": 205,
   "metadata": {
    "collapsed": true
   },
   "outputs": [],
   "source": [
    "#Obtenemos los datos en los que alguna estación se quedó sin bicicletas\n",
    "df = []\n",
    "for chunk in pd.read_csv('data/status.csv', chunksize=1000000):\n",
    "    df.append(chunk[chunk.bikes_available == 0])\n",
    "emptyStationDf = pd.concat(df)"
   ]
  },
  {
   "cell_type": "code",
   "execution_count": 206,
   "metadata": {
    "collapsed": false
   },
   "outputs": [
    {
     "data": {
      "text/plain": [
       "2116016"
      ]
     },
     "execution_count": 206,
     "metadata": {},
     "output_type": "execute_result"
    }
   ],
   "source": [
    "emptyStationDf.size"
   ]
  },
  {
   "cell_type": "code",
   "execution_count": 207,
   "metadata": {
    "collapsed": false
   },
   "outputs": [
    {
     "data": {
      "text/plain": [
       "station_id          int64\n",
       "bikes_available     int64\n",
       "docks_available     int64\n",
       "time               object\n",
       "dtype: object"
      ]
     },
     "execution_count": 207,
     "metadata": {},
     "output_type": "execute_result"
    }
   ],
   "source": [
    "emptyStationDf.dtypes"
   ]
  },
  {
   "cell_type": "code",
   "execution_count": 208,
   "metadata": {
    "collapsed": false
   },
   "outputs": [],
   "source": [
    "#Convierto a fecha el dato de time\n",
    "emptyStationDf['time'] = pd.to_datetime(emptyStationDf['time'], format = \"%Y/%m/%d %H:%M:%S\")\n",
    "\n",
    "#Agrego columnas para el año, mes, día y hora\n",
    "emptyStationDf['year'] = emptyStationDf['time'].map(lambda x: x.year)\n",
    "emptyStationDf['month'] = emptyStationDf['time'].map(lambda x: x.month)\n",
    "emptyStationDf['day'] = emptyStationDf['time'].map(lambda x: x.day)\n",
    "emptyStationDf['hour'] = emptyStationDf['time'].map(lambda x: x.hour)"
   ]
  },
  {
   "cell_type": "code",
   "execution_count": 209,
   "metadata": {
    "collapsed": true
   },
   "outputs": [],
   "source": [
    "#Combino datos de estaciones vacías con los datos de las estaciones\n",
    "emptyStationDf = emptyStationDf.merge(stationsDf, on='station_id')"
   ]
  },
  {
   "cell_type": "code",
   "execution_count": 210,
   "metadata": {
    "collapsed": false
   },
   "outputs": [
    {
     "data": {
      "text/html": [
       "<div>\n",
       "<table border=\"1\" class=\"dataframe\">\n",
       "  <thead>\n",
       "    <tr style=\"text-align: right;\">\n",
       "      <th></th>\n",
       "      <th>station_id</th>\n",
       "      <th>bikes_available</th>\n",
       "      <th>docks_available</th>\n",
       "      <th>time</th>\n",
       "      <th>year</th>\n",
       "      <th>month</th>\n",
       "      <th>day</th>\n",
       "      <th>hour</th>\n",
       "      <th>name</th>\n",
       "      <th>lat</th>\n",
       "      <th>long</th>\n",
       "      <th>dock_count</th>\n",
       "      <th>city</th>\n",
       "      <th>installation_date</th>\n",
       "    </tr>\n",
       "  </thead>\n",
       "  <tbody>\n",
       "    <tr>\n",
       "      <th>0</th>\n",
       "      <td>2</td>\n",
       "      <td>0</td>\n",
       "      <td>27</td>\n",
       "      <td>2013-11-03 02:00:01</td>\n",
       "      <td>2013</td>\n",
       "      <td>11</td>\n",
       "      <td>3</td>\n",
       "      <td>2</td>\n",
       "      <td>San Jose Diridon Caltrain Station</td>\n",
       "      <td>37.329732</td>\n",
       "      <td>-121.901782</td>\n",
       "      <td>27</td>\n",
       "      <td>San Jose</td>\n",
       "      <td>8/6/2013</td>\n",
       "    </tr>\n",
       "  </tbody>\n",
       "</table>\n",
       "</div>"
      ],
      "text/plain": [
       "   station_id  bikes_available  docks_available                time  year  \\\n",
       "0           2                0               27 2013-11-03 02:00:01  2013   \n",
       "\n",
       "   month  day  hour                               name        lat        long  \\\n",
       "0     11    3     2  San Jose Diridon Caltrain Station  37.329732 -121.901782   \n",
       "\n",
       "   dock_count      city installation_date  \n",
       "0          27  San Jose          8/6/2013  "
      ]
     },
     "execution_count": 210,
     "metadata": {},
     "output_type": "execute_result"
    }
   ],
   "source": [
    "emptyStationDf.head(1)"
   ]
  },
  {
   "cell_type": "markdown",
   "metadata": {},
   "source": [
    "### ¿Qué estaciones informaron más veces que no tenían bicicletas?"
   ]
  },
  {
   "cell_type": "code",
   "execution_count": 211,
   "metadata": {
    "collapsed": false
   },
   "outputs": [
    {
     "data": {
      "text/html": [
       "<div>\n",
       "<table border=\"1\" class=\"dataframe\">\n",
       "  <thead>\n",
       "    <tr style=\"text-align: right;\">\n",
       "      <th></th>\n",
       "      <th>station_id</th>\n",
       "      <th>name</th>\n",
       "      <th>city</th>\n",
       "      <th>count</th>\n",
       "      <th>dock_count</th>\n",
       "    </tr>\n",
       "  </thead>\n",
       "  <tbody>\n",
       "    <tr>\n",
       "      <th>12</th>\n",
       "      <td>45</td>\n",
       "      <td>Commercial at Montgomery</td>\n",
       "      <td>San Francisco</td>\n",
       "      <td>29198</td>\n",
       "      <td>15</td>\n",
       "    </tr>\n",
       "    <tr>\n",
       "      <th>28</th>\n",
       "      <td>76</td>\n",
       "      <td>Market at 4th</td>\n",
       "      <td>San Francisco</td>\n",
       "      <td>24725</td>\n",
       "      <td>19</td>\n",
       "    </tr>\n",
       "    <tr>\n",
       "      <th>18</th>\n",
       "      <td>48</td>\n",
       "      <td>Embarcadero at Vallejo</td>\n",
       "      <td>San Francisco</td>\n",
       "      <td>24401</td>\n",
       "      <td>15</td>\n",
       "    </tr>\n",
       "    <tr>\n",
       "      <th>0</th>\n",
       "      <td>62</td>\n",
       "      <td>2nd at Folsom</td>\n",
       "      <td>San Francisco</td>\n",
       "      <td>24077</td>\n",
       "      <td>19</td>\n",
       "    </tr>\n",
       "    <tr>\n",
       "      <th>17</th>\n",
       "      <td>60</td>\n",
       "      <td>Embarcadero at Sansome</td>\n",
       "      <td>San Francisco</td>\n",
       "      <td>23143</td>\n",
       "      <td>15</td>\n",
       "    </tr>\n",
       "    <tr>\n",
       "      <th>49</th>\n",
       "      <td>70</td>\n",
       "      <td>San Francisco Caltrain (Townsend at 4th)</td>\n",
       "      <td>San Francisco</td>\n",
       "      <td>21726</td>\n",
       "      <td>19</td>\n",
       "    </tr>\n",
       "    <tr>\n",
       "      <th>22</th>\n",
       "      <td>73</td>\n",
       "      <td>Grant Avenue at Columbus Avenue</td>\n",
       "      <td>San Francisco</td>\n",
       "      <td>20739</td>\n",
       "      <td>15</td>\n",
       "    </tr>\n",
       "    <tr>\n",
       "      <th>11</th>\n",
       "      <td>41</td>\n",
       "      <td>Clay at Battery</td>\n",
       "      <td>San Francisco</td>\n",
       "      <td>19080</td>\n",
       "      <td>15</td>\n",
       "    </tr>\n",
       "    <tr>\n",
       "      <th>7</th>\n",
       "      <td>82</td>\n",
       "      <td>Broadway St at Battery St</td>\n",
       "      <td>San Francisco</td>\n",
       "      <td>17824</td>\n",
       "      <td>15</td>\n",
       "    </tr>\n",
       "    <tr>\n",
       "      <th>1</th>\n",
       "      <td>64</td>\n",
       "      <td>2nd at South Park</td>\n",
       "      <td>San Francisco</td>\n",
       "      <td>17111</td>\n",
       "      <td>15</td>\n",
       "    </tr>\n",
       "  </tbody>\n",
       "</table>\n",
       "</div>"
      ],
      "text/plain": [
       "    station_id                                      name           city  \\\n",
       "12          45                  Commercial at Montgomery  San Francisco   \n",
       "28          76                             Market at 4th  San Francisco   \n",
       "18          48                    Embarcadero at Vallejo  San Francisco   \n",
       "0           62                             2nd at Folsom  San Francisco   \n",
       "17          60                    Embarcadero at Sansome  San Francisco   \n",
       "49          70  San Francisco Caltrain (Townsend at 4th)  San Francisco   \n",
       "22          73           Grant Avenue at Columbus Avenue  San Francisco   \n",
       "11          41                           Clay at Battery  San Francisco   \n",
       "7           82                 Broadway St at Battery St  San Francisco   \n",
       "1           64                         2nd at South Park  San Francisco   \n",
       "\n",
       "    count  dock_count  \n",
       "12  29198          15  \n",
       "28  24725          19  \n",
       "18  24401          15  \n",
       "0   24077          19  \n",
       "17  23143          15  \n",
       "49  21726          19  \n",
       "22  20739          15  \n",
       "11  19080          15  \n",
       "7   17824          15  \n",
       "1   17111          15  "
      ]
     },
     "execution_count": 211,
     "metadata": {},
     "output_type": "execute_result"
    }
   ],
   "source": [
    "moreTimesEmpty = emptyStationDf.groupby(\"name\", as_index=False).size()\n",
    "moreTimesEmpty.name = 'count'\n",
    "moreTimesEmpty = moreTimesEmpty.reset_index()\n",
    "\n",
    "#Estaciones más veces vacías\n",
    "moreTimesEmpty = moreTimesEmpty.merge(stationsDf, on='name')\n",
    "moreTimesEmpty = moreTimesEmpty.loc[:, ['station_id', 'name', 'city', 'count', 'dock_count']].sort_values(by='count', ascending=False)\n",
    "moreTimesEmpty.head(10)"
   ]
  },
  {
   "cell_type": "markdown",
   "metadata": {},
   "source": [
    "### ¿En qué horarios se da mayormente que no haya bicicletas?"
   ]
  },
  {
   "cell_type": "code",
   "execution_count": 212,
   "metadata": {
    "collapsed": false
   },
   "outputs": [
    {
     "data": {
      "text/html": [
       "<div>\n",
       "<table border=\"1\" class=\"dataframe\">\n",
       "  <thead>\n",
       "    <tr style=\"text-align: right;\">\n",
       "      <th></th>\n",
       "      <th>hour</th>\n",
       "      <th>count</th>\n",
       "    </tr>\n",
       "  </thead>\n",
       "  <tbody>\n",
       "    <tr>\n",
       "      <th>18</th>\n",
       "      <td>18</td>\n",
       "      <td>63200</td>\n",
       "    </tr>\n",
       "    <tr>\n",
       "      <th>9</th>\n",
       "      <td>9</td>\n",
       "      <td>50322</td>\n",
       "    </tr>\n",
       "    <tr>\n",
       "      <th>17</th>\n",
       "      <td>17</td>\n",
       "      <td>44140</td>\n",
       "    </tr>\n",
       "    <tr>\n",
       "      <th>10</th>\n",
       "      <td>10</td>\n",
       "      <td>34089</td>\n",
       "    </tr>\n",
       "    <tr>\n",
       "      <th>8</th>\n",
       "      <td>8</td>\n",
       "      <td>33174</td>\n",
       "    </tr>\n",
       "    <tr>\n",
       "      <th>19</th>\n",
       "      <td>19</td>\n",
       "      <td>29980</td>\n",
       "    </tr>\n",
       "    <tr>\n",
       "      <th>7</th>\n",
       "      <td>7</td>\n",
       "      <td>26784</td>\n",
       "    </tr>\n",
       "    <tr>\n",
       "      <th>6</th>\n",
       "      <td>6</td>\n",
       "      <td>22234</td>\n",
       "    </tr>\n",
       "    <tr>\n",
       "      <th>16</th>\n",
       "      <td>16</td>\n",
       "      <td>20285</td>\n",
       "    </tr>\n",
       "    <tr>\n",
       "      <th>11</th>\n",
       "      <td>11</td>\n",
       "      <td>19973</td>\n",
       "    </tr>\n",
       "  </tbody>\n",
       "</table>\n",
       "</div>"
      ],
      "text/plain": [
       "    hour  count\n",
       "18    18  63200\n",
       "9      9  50322\n",
       "17    17  44140\n",
       "10    10  34089\n",
       "8      8  33174\n",
       "19    19  29980\n",
       "7      7  26784\n",
       "6      6  22234\n",
       "16    16  20285\n",
       "11    11  19973"
      ]
     },
     "execution_count": 212,
     "metadata": {},
     "output_type": "execute_result"
    }
   ],
   "source": [
    "hoursEmpty = emptyStationDf.groupby(\"hour\", as_index=False).size()\n",
    "hoursEmpty.name = 'count'\n",
    "hoursEmpty = hoursEmpty.reset_index()\n",
    "\n",
    "#Estaciones más veces vacías\n",
    "hoursEmpty = hoursEmpty.loc[:, ['hour', 'count']].sort_values(by='count', ascending=False)\n",
    "hoursEmpty.head(10)"
   ]
  },
  {
   "cell_type": "code",
   "execution_count": 213,
   "metadata": {
    "collapsed": false
   },
   "outputs": [
    {
     "data": {
      "text/plain": [
       "<matplotlib.text.Text at 0x7fd2d3000490>"
      ]
     },
     "execution_count": 213,
     "metadata": {},
     "output_type": "execute_result"
    },
    {
     "data": {
      "image/png": "[encoded data removed]",
      "text/plain": [
       "<matplotlib.figure.Figure at 0x7fd2d3e56d90>"
      ]
     },
     "metadata": {},
     "output_type": "display_data"
    }
   ],
   "source": [
    "#Grafico de los datos de registros por hora\n",
    "hoursEmpty.rename(columns={'hour':'Hora', 'count':'Registros'}, inplace=True)\n",
    "g = sns.factorplot(x='Hora', y='Registros', data=hoursEmpty, kind = 'bar', size=4, aspect = 2)\n",
    "g.axes.flat[0].set_title('Registros de estacion sin bicicletas segun horarios del dia')\n"
   ]
  },
  {
   "cell_type": "markdown",
   "metadata": {},
   "source": [
    "### ¿Qué días se dieron la mayor cantidad de informes de estaciones sin bicicletas?"
   ]
  },
  {
   "cell_type": "code",
   "execution_count": 214,
   "metadata": {
    "collapsed": false
   },
   "outputs": [
    {
     "data": {
      "text/html": [
       "<div>\n",
       "<table border=\"1\" class=\"dataframe\">\n",
       "  <thead>\n",
       "    <tr style=\"text-align: right;\">\n",
       "      <th></th>\n",
       "      <th>year</th>\n",
       "      <th>month</th>\n",
       "      <th>day</th>\n",
       "      <th>station_id</th>\n",
       "      <th>name</th>\n",
       "      <th>city</th>\n",
       "      <th>docks_available</th>\n",
       "      <th>count</th>\n",
       "    </tr>\n",
       "  </thead>\n",
       "  <tbody>\n",
       "    <tr>\n",
       "      <th>4901</th>\n",
       "      <td>2014</td>\n",
       "      <td>11</td>\n",
       "      <td>10</td>\n",
       "      <td>10</td>\n",
       "      <td>San Jose City Hall</td>\n",
       "      <td>San Jose</td>\n",
       "      <td>15</td>\n",
       "      <td>1044</td>\n",
       "    </tr>\n",
       "    <tr>\n",
       "      <th>5526</th>\n",
       "      <td>2015</td>\n",
       "      <td>1</td>\n",
       "      <td>16</td>\n",
       "      <td>34</td>\n",
       "      <td>Palo Alto Caltrain Station</td>\n",
       "      <td>Palo Alto</td>\n",
       "      <td>23</td>\n",
       "      <td>964</td>\n",
       "    </tr>\n",
       "    <tr>\n",
       "      <th>7625</th>\n",
       "      <td>2015</td>\n",
       "      <td>5</td>\n",
       "      <td>28</td>\n",
       "      <td>32</td>\n",
       "      <td>Castro Street and El Camino Real</td>\n",
       "      <td>Mountain View</td>\n",
       "      <td>11</td>\n",
       "      <td>850</td>\n",
       "    </tr>\n",
       "    <tr>\n",
       "      <th>3848</th>\n",
       "      <td>2014</td>\n",
       "      <td>8</td>\n",
       "      <td>29</td>\n",
       "      <td>35</td>\n",
       "      <td>University and Emerson</td>\n",
       "      <td>Palo Alto</td>\n",
       "      <td>11</td>\n",
       "      <td>707</td>\n",
       "    </tr>\n",
       "    <tr>\n",
       "      <th>6339</th>\n",
       "      <td>2015</td>\n",
       "      <td>3</td>\n",
       "      <td>11</td>\n",
       "      <td>4</td>\n",
       "      <td>Santa Clara at Almaden</td>\n",
       "      <td>San Jose</td>\n",
       "      <td>11</td>\n",
       "      <td>651</td>\n",
       "    </tr>\n",
       "  </tbody>\n",
       "</table>\n",
       "</div>"
      ],
      "text/plain": [
       "      year  month  day  station_id                              name  \\\n",
       "4901  2014     11   10          10                San Jose City Hall   \n",
       "5526  2015      1   16          34        Palo Alto Caltrain Station   \n",
       "7625  2015      5   28          32  Castro Street and El Camino Real   \n",
       "3848  2014      8   29          35            University and Emerson   \n",
       "6339  2015      3   11           4            Santa Clara at Almaden   \n",
       "\n",
       "               city  docks_available  count  \n",
       "4901       San Jose               15   1044  \n",
       "5526      Palo Alto               23    964  \n",
       "7625  Mountain View               11    850  \n",
       "3848      Palo Alto               11    707  \n",
       "6339       San Jose               11    651  "
      ]
     },
     "execution_count": 214,
     "metadata": {},
     "output_type": "execute_result"
    }
   ],
   "source": [
    "emptyPerDay = emptyStationDf.groupby(['year', 'month', 'day', 'station_id', 'name', 'city', 'docks_available']).size()\n",
    "emptyPerDay.name = 'count'\n",
    "emptyPerDay = emptyPerDay.reset_index()\n",
    "emptyPerDay.sort_values(by='count', ascending=False, inplace=True)\n",
    "emptyPerDay.head(5)"
   ]
  },
  {
   "cell_type": "markdown",
   "metadata": {},
   "source": [
    "### ¿Cómo evolucionó la cantidad de informes de estaciones sin bicicletas en el tiempo?"
   ]
  },
  {
   "cell_type": "code",
   "execution_count": 215,
   "metadata": {
    "collapsed": true
   },
   "outputs": [],
   "source": [
    "#Defino una función para probar con distintas estaciones fácilmente\n",
    "def plotEmptyStationEvents(stationId):\n",
    "    name = emptyStationDf[emptyStationDf['station_id'] == stationToPlot].head(1)['name'].values[0]\n",
    "    monthlyFrec = emptyStationDf[emptyStationDf['station_id'] == stationId].groupby(['month', 'year']).size()\n",
    "    monthlyFrec.name = 'count'\n",
    "    monthlyFrec = monthlyFrec.reset_index()\n",
    "    monthlyFrec['date'] = monthlyFrec.apply(lambda x : date(x['year'], x['month'], 1), axis=1)\n",
    "    monthlyFrec['year-month'] = monthlyFrec['date'].map(lambda x: x.strftime('%Y-%m'))\n",
    "    monthlyFrec['month_name'] = monthlyFrec['date'].map(lambda x: x.strftime('%B'))\n",
    "    monthlyFrec.set_index(monthlyFrec['date'], inplace=True)\n",
    "    monthlyFrec = monthlyFrec.loc[:, ['count', 'year-month', 'year', 'month', 'month_name']]\n",
    "    monthlyFrec.rename(columns={'count':'Registros', 'month_name':'Mes', 'year':'Lapso'}, inplace=True)\n",
    "    monthlyFrec.reset_index(inplace=True)\n",
    "    g = sns.factorplot(x='Mes', y='Registros', hue='Lapso', data=monthlyFrec, kind = 'bar', size=4, aspect = 2)\n",
    "    g.axes.flat[0].set_title('Comparacion interanual de registros en los que la estacion ' + stationName + ' no tenia bicicletas disponibles')\n",
    "    g.set_xticklabels(rotation=60)"
   ]
  },
  {
   "cell_type": "code",
   "execution_count": 216,
   "metadata": {
    "collapsed": false
   },
   "outputs": [
    {
     "data": {
      "image/png": "[encoded data removed]",
      "text/plain": [
       "<matplotlib.figure.Figure at 0x7fd2d2e0b110>"
      ]
     },
     "metadata": {},
     "output_type": "display_data"
    }
   ],
   "source": [
    "#Pruebo Commercial at Montgomery, que habia dado como al estación con más registros de quedarse sin bicicletas\n",
    "stationToPlot = 45\n",
    "plotEmptyStationEvents(stationToPlot)"
   ]
  },
  {
   "cell_type": "code",
   "execution_count": 217,
   "metadata": {
    "collapsed": false
   },
   "outputs": [
    {
     "data": {
      "text/html": [
       "<div>\n",
       "<table border=\"1\" class=\"dataframe\">\n",
       "  <thead>\n",
       "    <tr style=\"text-align: right;\">\n",
       "      <th></th>\n",
       "      <th>month</th>\n",
       "      <th>year</th>\n",
       "      <th>count</th>\n",
       "    </tr>\n",
       "  </thead>\n",
       "  <tbody>\n",
       "    <tr>\n",
       "      <th>0</th>\n",
       "      <td>1</td>\n",
       "      <td>2014</td>\n",
       "      <td>14249</td>\n",
       "    </tr>\n",
       "    <tr>\n",
       "      <th>1</th>\n",
       "      <td>1</td>\n",
       "      <td>2015</td>\n",
       "      <td>20789</td>\n",
       "    </tr>\n",
       "  </tbody>\n",
       "</table>\n",
       "</div>"
      ],
      "text/plain": [
       "   month  year  count\n",
       "0      1  2014  14249\n",
       "1      1  2015  20789"
      ]
     },
     "execution_count": 217,
     "metadata": {},
     "output_type": "execute_result"
    }
   ],
   "source": [
    "#Comparación mes a mes\n",
    "monthlyFrec = emptyStationDf.groupby(['month', 'year']).size()\n",
    "monthlyFrec.name = 'count'\n",
    "monthlyFrec = monthlyFrec.reset_index()\n",
    "monthlyFrec.head(2)"
   ]
  },
  {
   "cell_type": "code",
   "execution_count": 218,
   "metadata": {
    "collapsed": false
   },
   "outputs": [
    {
     "data": {
      "text/plain": [
       "<seaborn.axisgrid.FacetGrid at 0x7fd2c39a5a10>"
      ]
     },
     "execution_count": 218,
     "metadata": {},
     "output_type": "execute_result"
    },
    {
     "data": {
      "image/png": "[encoded data removed]",
      "text/plain": [
       "<matplotlib.figure.Figure at 0x7fd2c39a5a50>"
      ]
     },
     "metadata": {},
     "output_type": "display_data"
    }
   ],
   "source": [
    "monthlyFrec['date'] = monthlyFrec.apply(lambda x : date(x.year, x.month, 1), axis=1)\n",
    "monthlyFrec['year-month'] = monthlyFrec['date'].map(lambda x: x.strftime('%Y-%m'))\n",
    "monthlyFrec['month_name'] = monthlyFrec['date'].map(lambda x: x.strftime('%B'))\n",
    "monthlyFrec.set_index(monthlyFrec['date'], inplace=True)\n",
    "monthlyFrec = monthlyFrec.loc[:, ['count', 'year-month', 'year', 'month_name']]\n",
    "monthlyFrec.rename(columns={'count':'Registros', 'month_name':'Mes', 'year':'Lapso'}, inplace=True)\n",
    "monthlyFrec.reset_index(inplace=True)\n",
    "\n",
    "g = sns.factorplot(x='Mes', y='Registros', hue='Lapso', data=monthlyFrec, kind = 'bar', size=4, aspect = 2)\n",
    "g.axes.flat[0].set_title('Comparacion interanual de total mensual de registros de estaciones sin bicicletas')\n",
    "g.set_xticklabels(rotation=60)"
   ]
  },
  {
   "cell_type": "code",
   "execution_count": null,
   "metadata": {
    "collapsed": true
   },
   "outputs": [],
   "source": []
  }
 ],
 "metadata": {
  "kernelspec": {
   "display_name": "Python 2",
   "language": "python",
   "name": "python2"
  },
  "language_info": {
   "codemirror_mode": {
    "name": "ipython",
    "version": 2
   },
   "file_extension": ".py",
   "mimetype": "text/x-python",
   "name": "python",
   "nbconvert_exporter": "python",
   "pygments_lexer": "ipython2",
   "version": "2.7.13"
  }
 },
 "nbformat": 4,
 "nbformat_minor": 2
}
