{
 "cells": [
  {
   "cell_type": "code",
   "execution_count": 190,
   "metadata": {
    "collapsed": true
   },
   "outputs": [],
   "source": [
    "import pandas as pd\n",
    "import numpy as np\n",
    "from datetime import datetime\n",
    "import matplotlib.pyplot as plt\n",
    "from datetime import timedelta, date\n",
    "import matplotlib.dates as mdates\n",
    "import seaborn as sns\n",
    "\n",
    "%matplotlib inline"
   ]
  },
  {
   "cell_type": "code",
   "execution_count": 191,
   "metadata": {
    "collapsed": true
   },
   "outputs": [],
   "source": [
    "#Cargo datos de viajes\n",
    "tripsDf = pd.read_csv(\"data/trip.csv\")\n",
    "#Cargo datos de estaciones\n",
    "stationsDf = pd.read_csv('data/station.csv')"
   ]
  },
  {
   "cell_type": "code",
   "execution_count": 192,
   "metadata": {
    "collapsed": false
   },
   "outputs": [
    {
     "data": {
      "text/plain": [
       "id                     int64\n",
       "duration               int64\n",
       "start_date            object\n",
       "start_station_name    object\n",
       "start_station_id       int64\n",
       "end_date              object\n",
       "end_station_name      object\n",
       "end_station_id         int64\n",
       "bike_id                int64\n",
       "subscription_type     object\n",
       "zip_code              object\n",
       "dtype: object"
      ]
     },
     "execution_count": 192,
     "metadata": {},
     "output_type": "execute_result"
    }
   ],
   "source": [
    "#Analizo los tipos de datos de trips\n",
    "tripsDf.dtypes"
   ]
  },
  {
   "cell_type": "code",
   "execution_count": 193,
   "metadata": {
    "collapsed": true
   },
   "outputs": [],
   "source": [
    "#Convierto datos de fechas a datetime\n",
    "tripsDf['start_date'] = pd.to_datetime(tripsDf['start_date'], format = \"%m/%d/%Y %H:%M\")\n",
    "tripsDf['end_date'] = pd.to_datetime(tripsDf['end_date'], format = \"%m/%d/%Y %H:%M\")"
   ]
  },
  {
   "cell_type": "code",
   "execution_count": 194,
   "metadata": {
    "collapsed": true
   },
   "outputs": [],
   "source": [
    "#Creo columna solo con datos de la fecha de inicio\n",
    "tripsDf['date'] = tripsDf['start_date'].map(lambda x: x.date())"
   ]
  },
  {
   "cell_type": "code",
   "execution_count": 195,
   "metadata": {
    "collapsed": false
   },
   "outputs": [],
   "source": [
    "#Agrego columnas con el año y el mes\n",
    "tripsDf['year'] = tripsDf['date'].map(lambda x: x.year)\n",
    "tripsDf['month'] = tripsDf['date'].map(lambda x: x.month)\n",
    "tripsDf['day'] = tripsDf['date'].map(lambda x: x.day)"
   ]
  },
  {
   "cell_type": "code",
   "execution_count": 196,
   "metadata": {
    "collapsed": false
   },
   "outputs": [],
   "source": [
    "#Agrego columnas solo con el día, y otro con formato año-mes\n",
    "tripsDf['year-month'] = tripsDf['start_date'].map(lambda x: x.strftime('%Y-%m'))"
   ]
  },
  {
   "cell_type": "code",
   "execution_count": 197,
   "metadata": {
    "collapsed": false
   },
   "outputs": [
    {
     "data": {
      "text/plain": [
       "id                     int64\n",
       "name                  object\n",
       "lat                  float64\n",
       "long                 float64\n",
       "dock_count             int64\n",
       "city                  object\n",
       "installation_date     object\n",
       "dtype: object"
      ]
     },
     "execution_count": 197,
     "metadata": {},
     "output_type": "execute_result"
    }
   ],
   "source": [
    "#Analizo los datos de stations\n",
    "stationsDf.dtypes"
   ]
  },
  {
   "cell_type": "code",
   "execution_count": 198,
   "metadata": {
    "collapsed": true
   },
   "outputs": [],
   "source": [
    "#Cambio el nombre de la columna id a station_id por claridad\n",
    "stationsDf.rename(columns={'id':'station_id'}, inplace=True)"
   ]
  },
  {
   "cell_type": "markdown",
   "metadata": {},
   "source": [
    "# ¿Cómo evoluciona con el tiempo la cantidad de viajes?"
   ]
  },
  {
   "cell_type": "markdown",
   "metadata": {},
   "source": [
    "Se realizará un análisis de la cantidad de viajes utilizando los datos de los mismos entre Agosto del 2013 y Agosto del 2015, con el fin de determinar cómo se comporta la demanda del servicio en el tiempo."
   ]
  },
  {
   "cell_type": "markdown",
   "metadata": {},
   "source": [
    "### Top 5 de días con más viajes"
   ]
  },
  {
   "cell_type": "code",
   "execution_count": 199,
   "metadata": {
    "collapsed": false
   },
   "outputs": [],
   "source": [
    "#Viajes por fecha\n",
    "tripsPerDay = pd.DataFrame({'count' : tripsDf.groupby(['date']).size()}).reset_index()"
   ]
  },
  {
   "cell_type": "code",
   "execution_count": 200,
   "metadata": {
    "collapsed": false
   },
   "outputs": [
    {
     "data": {
      "text/html": [
       "<div>\n",
       "<table border=\"1\" class=\"dataframe\">\n",
       "  <thead>\n",
       "    <tr style=\"text-align: right;\">\n",
       "      <th></th>\n",
       "      <th>date</th>\n",
       "      <th>count</th>\n",
       "    </tr>\n",
       "  </thead>\n",
       "  <tbody>\n",
       "    <tr>\n",
       "      <th>382</th>\n",
       "      <td>2014-09-15</td>\n",
       "      <td>1516</td>\n",
       "    </tr>\n",
       "    <tr>\n",
       "      <th>362</th>\n",
       "      <td>2014-08-26</td>\n",
       "      <td>1513</td>\n",
       "    </tr>\n",
       "    <tr>\n",
       "      <th>426</th>\n",
       "      <td>2014-10-29</td>\n",
       "      <td>1496</td>\n",
       "    </tr>\n",
       "    <tr>\n",
       "      <th>411</th>\n",
       "      <td>2014-10-14</td>\n",
       "      <td>1496</td>\n",
       "    </tr>\n",
       "    <tr>\n",
       "      <th>363</th>\n",
       "      <td>2014-08-27</td>\n",
       "      <td>1479</td>\n",
       "    </tr>\n",
       "  </tbody>\n",
       "</table>\n",
       "</div>"
      ],
      "text/plain": [
       "           date  count\n",
       "382  2014-09-15   1516\n",
       "362  2014-08-26   1513\n",
       "426  2014-10-29   1496\n",
       "411  2014-10-14   1496\n",
       "363  2014-08-27   1479"
      ]
     },
     "execution_count": 200,
     "metadata": {},
     "output_type": "execute_result"
    }
   ],
   "source": [
    "#Top 5 de días con más viajes\n",
    "tripsPerDay.sort_values(by='count', ascending=False).head(5)"
   ]
  },
  {
   "cell_type": "markdown",
   "metadata": {},
   "source": [
    "### Cantidad de viajes, mes a mes"
   ]
  },
  {
   "cell_type": "code",
   "execution_count": 201,
   "metadata": {
    "collapsed": false,
    "scrolled": true
   },
   "outputs": [
    {
     "data": {
      "text/plain": [
       "<seaborn.axisgrid.FacetGrid at 0x7fd2cd150650>"
      ]
     },
     "execution_count": 201,
     "metadata": {},
     "output_type": "execute_result"
    },
    {
     "data": {
      "image/png": "[encoded data removed]",
      "text/plain": [
       "<matplotlib.figure.Figure at 0x7fd2cd1504d0>"
      ]
     },
     "metadata": {},
     "output_type": "display_data"
    }
   ],
   "source": [
    "#Plot de viajes por mes\n",
    "monthlyTrips = tripsDf\n",
    "monthlyTrips = pd.DataFrame({'count' : tripsDf.groupby(['year', 'month', 'year-month']).size()}).reset_index()\n",
    "monthlyTrips = monthlyTrips.loc[:, ['count', 'year-month', 'year', 'month']]\n",
    "monthlyTrips.rename(columns={'count':'Viajes', 'month':'Mes', 'year':'Lapso', 'year-month':'Fecha'}, inplace=True)\n",
    "\n",
    "g = sns.factorplot(x='Fecha', y='Viajes', hue='Lapso', data=monthlyTrips, kind = 'bar', size=4, aspect = 2)\n",
    "g.axes.flat[0].set_title('Viajes realizados mes a mes')\n",
    "g.set_xticklabels(rotation=60)"
   ]
  },
  {
   "cell_type": "markdown",
   "metadata": {},
   "source": [
    "### Comparación interanual de viajes mensuales"
   ]
  },
  {
   "cell_type": "code",
   "execution_count": 202,
   "metadata": {
    "collapsed": false
   },
   "outputs": [
    {
     "data": {
      "text/plain": [
       "<seaborn.axisgrid.FacetGrid at 0x7fd2cc543ed0>"
      ]
     },
     "execution_count": 202,
     "metadata": {},
     "output_type": "execute_result"
    },
    {
     "data": {
      "image/png": "[encoded data removed]",
      "text/plain": [
       "<matplotlib.figure.Figure at 0x7fd2cc5431d0>"
      ]
     },
     "metadata": {},
     "output_type": "display_data"
    }
   ],
   "source": [
    "#Plot de viajes por mes\n",
    "monthlyTrips = tripsDf\n",
    "monthlyTrips = pd.DataFrame({'count' : tripsDf.groupby(['year', 'month','date']).size()}).reset_index()\n",
    "monthlyTrips['month_name'] = monthlyTrips['date'].map(lambda x: x.strftime('%B'))\n",
    "monthlyTrips = monthlyTrips.groupby(['month', 'year', 'month_name']).sum()\n",
    "monthlyTrips = monthlyTrips.reset_index()\n",
    "\n",
    "monthlyTrips.rename(columns={'count':'Viajes', 'month_name':'Mes', 'year':'Lapso'}, inplace=True)\n",
    "\n",
    "g = sns.factorplot(x='Mes', y='Viajes', hue='Lapso', data=monthlyTrips, kind = 'bar', size=4, aspect = 2)\n",
    "g.axes.flat[0].set_title('Comparacion interanual de viajes realizados mes a mes')\n",
    "g.set_xticklabels(rotation=60)"
   ]
  },
  {
   "cell_type": "markdown",
   "metadata": {},
   "source": [
    "### Viajes por año"
   ]
  },
  {
   "cell_type": "code",
   "execution_count": 203,
   "metadata": {
    "collapsed": false
   },
   "outputs": [
    {
     "data": {
      "text/plain": [
       "<seaborn.axisgrid.FacetGrid at 0x7fd2cc5f6590>"
      ]
     },
     "execution_count": 203,
     "metadata": {},
     "output_type": "execute_result"
    },
    {
     "data": {
      "image/png": "[encoded data removed]",
      "text/plain": [
       "<matplotlib.figure.Figure at 0x7fd2cc77e950>"
      ]
     },
     "metadata": {},
     "output_type": "display_data"
    }
   ],
   "source": [
    "#Viajes por año\n",
    "yearTrips = tripsDf\n",
    "yearTrips = pd.DataFrame({'count' : tripsDf.groupby(['year']).size()}).reset_index()\n",
    "yearTrips.rename(columns={'count':'Viajes', 'year':'Lapso'}, inplace=True)\n",
    "\n",
    "g = sns.factorplot(x='Lapso', y='Viajes', data=yearTrips, kind = 'bar', size=4, aspect = 2)\n",
    "g.axes.flat[0].set_title('Comparacion interanual de viajes realizados mes a mes')\n",
    "g.set_xticklabels(rotation=60)"
   ]
  },
  {
   "cell_type": "markdown",
   "metadata": {},
   "source": [
    "### Viajes promedio por año"
   ]
  },
  {
   "cell_type": "code",
   "execution_count": 204,
   "metadata": {
    "collapsed": false
   },
   "outputs": [
    {
     "data": {
      "text/plain": [
       "<seaborn.axisgrid.FacetGrid at 0x7fd2c4a614d0>"
      ]
     },
     "execution_count": 204,
     "metadata": {},
     "output_type": "execute_result"
    },
    {
     "data": {
      "image/png": "[encoded data removed]",
      "text/plain": [
       "<matplotlib.figure.Figure at 0x7fd2c4a615d0>"
      ]
     },
     "metadata": {},
     "output_type": "display_data"
    }
   ],
   "source": [
    "#Viajes promedio por año\n",
    "yearAverageTrips = pd.DataFrame({'count' : tripsDf.groupby(['year']).size(),\\\n",
    "                             'days' : tripsDf.groupby(['year']).date.nunique(),\\\n",
    "                             'average_trips' : tripsDf.groupby(['year']).size()/tripsDf.groupby(['year']).date.nunique()}).reset_index()\n",
    "\n",
    "yearAverageTrips.rename(columns={'year':'Lapso', 'average_trips':'Viajes promedio'}, inplace=True)\n",
    "\n",
    "g = sns.factorplot(x='Lapso', y='Viajes promedio', data=yearAverageTrips, kind = 'bar', size=4, aspect = 2)\n",
    "g.axes.flat[0].set_title('Promedio anual de viajes')\n",
    "g.set_xticklabels(rotation=60)"
   ]
  },
  {
   "cell_type": "markdown",
   "metadata": {},
   "source": [
    "# ¿Cómo se satisface la demanda del servicio?"
   ]
  },
  {
   "cell_type": "markdown",
   "metadata": {},
   "source": [
    "Se analizará utilizando los datos minuto a minuto de las estaciones, en cuántas oportunidades se encontraban sin bicicletas disponibles."
   ]
  },
  {
   "cell_type": "code",
   "execution_count": 205,
   "metadata": {
    "collapsed": true
   },
   "outputs": [],
   "source": [
    "#Obtenemos los datos en los que alguna estación se quedó sin bicicletas\n",
    "df = []\n",
    "for chunk in pd.read_csv('data/status.csv', chunksize=1000000):\n",
    "    df.append(chunk[chunk.bikes_available == 0])\n",
    "emptyStationDf = pd.concat(df)"
   ]
  },
  {
   "cell_type": "code",
   "execution_count": 337,
   "metadata": {
    "collapsed": false
   },
   "outputs": [
    {
     "data": {
      "text/plain": [
       "529004"
      ]
     },
     "execution_count": 337,
     "metadata": {},
     "output_type": "execute_result"
    }
   ],
   "source": [
    "len(emptyStationDf)"
   ]
  },
  {
   "cell_type": "code",
   "execution_count": 207,
   "metadata": {
    "collapsed": false
   },
   "outputs": [
    {
     "data": {
      "text/plain": [
       "station_id          int64\n",
       "bikes_available     int64\n",
       "docks_available     int64\n",
       "time               object\n",
       "dtype: object"
      ]
     },
     "execution_count": 207,
     "metadata": {},
     "output_type": "execute_result"
    }
   ],
   "source": [
    "emptyStationDf.dtypes"
   ]
  },
  {
   "cell_type": "code",
   "execution_count": 208,
   "metadata": {
    "collapsed": false
   },
   "outputs": [],
   "source": [
    "#Convierto a fecha el dato de time\n",
    "emptyStationDf['time'] = pd.to_datetime(emptyStationDf['time'], format = \"%Y/%m/%d %H:%M:%S\")\n",
    "\n",
    "#Agrego columnas para el año, mes, día y hora\n",
    "emptyStationDf['year'] = emptyStationDf['time'].map(lambda x: x.year)\n",
    "emptyStationDf['month'] = emptyStationDf['time'].map(lambda x: x.month)\n",
    "emptyStationDf['day'] = emptyStationDf['time'].map(lambda x: x.day)\n",
    "emptyStationDf['hour'] = emptyStationDf['time'].map(lambda x: x.hour)"
   ]
  },
  {
   "cell_type": "code",
   "execution_count": 209,
   "metadata": {
    "collapsed": true
   },
   "outputs": [],
   "source": [
    "#Combino datos de estaciones vacías con los datos de las estaciones\n",
    "emptyStationDf = emptyStationDf.merge(stationsDf, on='station_id')"
   ]
  },
  {
   "cell_type": "code",
   "execution_count": 210,
   "metadata": {
    "collapsed": false
   },
   "outputs": [
    {
     "data": {
      "text/html": [
       "<div>\n",
       "<table border=\"1\" class=\"dataframe\">\n",
       "  <thead>\n",
       "    <tr style=\"text-align: right;\">\n",
       "      <th></th>\n",
       "      <th>station_id</th>\n",
       "      <th>bikes_available</th>\n",
       "      <th>docks_available</th>\n",
       "      <th>time</th>\n",
       "      <th>year</th>\n",
       "      <th>month</th>\n",
       "      <th>day</th>\n",
       "      <th>hour</th>\n",
       "      <th>name</th>\n",
       "      <th>lat</th>\n",
       "      <th>long</th>\n",
       "      <th>dock_count</th>\n",
       "      <th>city</th>\n",
       "      <th>installation_date</th>\n",
       "    </tr>\n",
       "  </thead>\n",
       "  <tbody>\n",
       "    <tr>\n",
       "      <th>0</th>\n",
       "      <td>2</td>\n",
       "      <td>0</td>\n",
       "      <td>27</td>\n",
       "      <td>2013-11-03 02:00:01</td>\n",
       "      <td>2013</td>\n",
       "      <td>11</td>\n",
       "      <td>3</td>\n",
       "      <td>2</td>\n",
       "      <td>San Jose Diridon Caltrain Station</td>\n",
       "      <td>37.329732</td>\n",
       "      <td>-121.901782</td>\n",
       "      <td>27</td>\n",
       "      <td>San Jose</td>\n",
       "      <td>8/6/2013</td>\n",
       "    </tr>\n",
       "  </tbody>\n",
       "</table>\n",
       "</div>"
      ],
      "text/plain": [
       "   station_id  bikes_available  docks_available                time  year  \\\n",
       "0           2                0               27 2013-11-03 02:00:01  2013   \n",
       "\n",
       "   month  day  hour                               name        lat        long  \\\n",
       "0     11    3     2  San Jose Diridon Caltrain Station  37.329732 -121.901782   \n",
       "\n",
       "   dock_count      city installation_date  \n",
       "0          27  San Jose          8/6/2013  "
      ]
     },
     "execution_count": 210,
     "metadata": {},
     "output_type": "execute_result"
    }
   ],
   "source": [
    "emptyStationDf.head(1)"
   ]
  },
  {
   "cell_type": "markdown",
   "metadata": {},
   "source": [
    "### ¿Qué estaciones informaron más veces que no tenían bicicletas?"
   ]
  },
  {
   "cell_type": "code",
   "execution_count": 211,
   "metadata": {
    "collapsed": false
   },
   "outputs": [
    {
     "data": {
      "text/html": [
       "<div>\n",
       "<table border=\"1\" class=\"dataframe\">\n",
       "  <thead>\n",
       "    <tr style=\"text-align: right;\">\n",
       "      <th></th>\n",
       "      <th>station_id</th>\n",
       "      <th>name</th>\n",
       "      <th>city</th>\n",
       "      <th>count</th>\n",
       "      <th>dock_count</th>\n",
       "    </tr>\n",
       "  </thead>\n",
       "  <tbody>\n",
       "    <tr>\n",
       "      <th>12</th>\n",
       "      <td>45</td>\n",
       "      <td>Commercial at Montgomery</td>\n",
       "      <td>San Francisco</td>\n",
       "      <td>29198</td>\n",
       "      <td>15</td>\n",
       "    </tr>\n",
       "    <tr>\n",
       "      <th>28</th>\n",
       "      <td>76</td>\n",
       "      <td>Market at 4th</td>\n",
       "      <td>San Francisco</td>\n",
       "      <td>24725</td>\n",
       "      <td>19</td>\n",
       "    </tr>\n",
       "    <tr>\n",
       "      <th>18</th>\n",
       "      <td>48</td>\n",
       "      <td>Embarcadero at Vallejo</td>\n",
       "      <td>San Francisco</td>\n",
       "      <td>24401</td>\n",
       "      <td>15</td>\n",
       "    </tr>\n",
       "    <tr>\n",
       "      <th>0</th>\n",
       "      <td>62</td>\n",
       "      <td>2nd at Folsom</td>\n",
       "      <td>San Francisco</td>\n",
       "      <td>24077</td>\n",
       "      <td>19</td>\n",
       "    </tr>\n",
       "    <tr>\n",
       "      <th>17</th>\n",
       "      <td>60</td>\n",
       "      <td>Embarcadero at Sansome</td>\n",
       "      <td>San Francisco</td>\n",
       "      <td>23143</td>\n",
       "      <td>15</td>\n",
       "    </tr>\n",
       "    <tr>\n",
       "      <th>49</th>\n",
       "      <td>70</td>\n",
       "      <td>San Francisco Caltrain (Townsend at 4th)</td>\n",
       "      <td>San Francisco</td>\n",
       "      <td>21726</td>\n",
       "      <td>19</td>\n",
       "    </tr>\n",
       "    <tr>\n",
       "      <th>22</th>\n",
       "      <td>73</td>\n",
       "      <td>Grant Avenue at Columbus Avenue</td>\n",
       "      <td>San Francisco</td>\n",
       "      <td>20739</td>\n",
       "      <td>15</td>\n",
       "    </tr>\n",
       "    <tr>\n",
       "      <th>11</th>\n",
       "      <td>41</td>\n",
       "      <td>Clay at Battery</td>\n",
       "      <td>San Francisco</td>\n",
       "      <td>19080</td>\n",
       "      <td>15</td>\n",
       "    </tr>\n",
       "    <tr>\n",
       "      <th>7</th>\n",
       "      <td>82</td>\n",
       "      <td>Broadway St at Battery St</td>\n",
       "      <td>San Francisco</td>\n",
       "      <td>17824</td>\n",
       "      <td>15</td>\n",
       "    </tr>\n",
       "    <tr>\n",
       "      <th>1</th>\n",
       "      <td>64</td>\n",
       "      <td>2nd at South Park</td>\n",
       "      <td>San Francisco</td>\n",
       "      <td>17111</td>\n",
       "      <td>15</td>\n",
       "    </tr>\n",
       "  </tbody>\n",
       "</table>\n",
       "</div>"
      ],
      "text/plain": [
       "    station_id                                      name           city  \\\n",
       "12          45                  Commercial at Montgomery  San Francisco   \n",
       "28          76                             Market at 4th  San Francisco   \n",
       "18          48                    Embarcadero at Vallejo  San Francisco   \n",
       "0           62                             2nd at Folsom  San Francisco   \n",
       "17          60                    Embarcadero at Sansome  San Francisco   \n",
       "49          70  San Francisco Caltrain (Townsend at 4th)  San Francisco   \n",
       "22          73           Grant Avenue at Columbus Avenue  San Francisco   \n",
       "11          41                           Clay at Battery  San Francisco   \n",
       "7           82                 Broadway St at Battery St  San Francisco   \n",
       "1           64                         2nd at South Park  San Francisco   \n",
       "\n",
       "    count  dock_count  \n",
       "12  29198          15  \n",
       "28  24725          19  \n",
       "18  24401          15  \n",
       "0   24077          19  \n",
       "17  23143          15  \n",
       "49  21726          19  \n",
       "22  20739          15  \n",
       "11  19080          15  \n",
       "7   17824          15  \n",
       "1   17111          15  "
      ]
     },
     "execution_count": 211,
     "metadata": {},
     "output_type": "execute_result"
    }
   ],
   "source": [
    "moreTimesEmpty = emptyStationDf.groupby(\"name\", as_index=False).size()\n",
    "moreTimesEmpty.name = 'count'\n",
    "moreTimesEmpty = moreTimesEmpty.reset_index()\n",
    "\n",
    "#Estaciones más veces vacías\n",
    "moreTimesEmpty = moreTimesEmpty.merge(stationsDf, on='name')\n",
    "moreTimesEmpty = moreTimesEmpty.loc[:, ['station_id', 'name', 'city', 'count', 'dock_count']].sort_values(by='count', ascending=False)\n",
    "moreTimesEmpty.head(10)"
   ]
  },
  {
   "cell_type": "markdown",
   "metadata": {},
   "source": [
    "### ¿En qué horarios se da mayormente que no haya bicicletas?"
   ]
  },
  {
   "cell_type": "code",
   "execution_count": 212,
   "metadata": {
    "collapsed": false
   },
   "outputs": [
    {
     "data": {
      "text/html": [
       "<div>\n",
       "<table border=\"1\" class=\"dataframe\">\n",
       "  <thead>\n",
       "    <tr style=\"text-align: right;\">\n",
       "      <th></th>\n",
       "      <th>hour</th>\n",
       "      <th>count</th>\n",
       "    </tr>\n",
       "  </thead>\n",
       "  <tbody>\n",
       "    <tr>\n",
       "      <th>18</th>\n",
       "      <td>18</td>\n",
       "      <td>63200</td>\n",
       "    </tr>\n",
       "    <tr>\n",
       "      <th>9</th>\n",
       "      <td>9</td>\n",
       "      <td>50322</td>\n",
       "    </tr>\n",
       "    <tr>\n",
       "      <th>17</th>\n",
       "      <td>17</td>\n",
       "      <td>44140</td>\n",
       "    </tr>\n",
       "    <tr>\n",
       "      <th>10</th>\n",
       "      <td>10</td>\n",
       "      <td>34089</td>\n",
       "    </tr>\n",
       "    <tr>\n",
       "      <th>8</th>\n",
       "      <td>8</td>\n",
       "      <td>33174</td>\n",
       "    </tr>\n",
       "    <tr>\n",
       "      <th>19</th>\n",
       "      <td>19</td>\n",
       "      <td>29980</td>\n",
       "    </tr>\n",
       "    <tr>\n",
       "      <th>7</th>\n",
       "      <td>7</td>\n",
       "      <td>26784</td>\n",
       "    </tr>\n",
       "    <tr>\n",
       "      <th>6</th>\n",
       "      <td>6</td>\n",
       "      <td>22234</td>\n",
       "    </tr>\n",
       "    <tr>\n",
       "      <th>16</th>\n",
       "      <td>16</td>\n",
       "      <td>20285</td>\n",
       "    </tr>\n",
       "    <tr>\n",
       "      <th>11</th>\n",
       "      <td>11</td>\n",
       "      <td>19973</td>\n",
       "    </tr>\n",
       "  </tbody>\n",
       "</table>\n",
       "</div>"
      ],
      "text/plain": [
       "    hour  count\n",
       "18    18  63200\n",
       "9      9  50322\n",
       "17    17  44140\n",
       "10    10  34089\n",
       "8      8  33174\n",
       "19    19  29980\n",
       "7      7  26784\n",
       "6      6  22234\n",
       "16    16  20285\n",
       "11    11  19973"
      ]
     },
     "execution_count": 212,
     "metadata": {},
     "output_type": "execute_result"
    }
   ],
   "source": [
    "hoursEmpty = emptyStationDf.groupby(\"hour\", as_index=False).size()\n",
    "hoursEmpty.name = 'count'\n",
    "hoursEmpty = hoursEmpty.reset_index()\n",
    "\n",
    "#Estaciones más veces vacías\n",
    "hoursEmpty = hoursEmpty.loc[:, ['hour', 'count']].sort_values(by='count', ascending=False)\n",
    "hoursEmpty.head(10)"
   ]
  },
  {
   "cell_type": "code",
   "execution_count": 213,
   "metadata": {
    "collapsed": false
   },
   "outputs": [
    {
     "data": {
      "text/plain": [
       "<matplotlib.text.Text at 0x7fd2d3000490>"
      ]
     },
     "execution_count": 213,
     "metadata": {},
     "output_type": "execute_result"
    },
    {
     "data": {
      "image/png": "[encoded data removed]",
      "text/plain": [
       "<matplotlib.figure.Figure at 0x7fd2d3e56d90>"
      ]
     },
     "metadata": {},
     "output_type": "display_data"
    }
   ],
   "source": [
    "#Grafico de los datos de registros por hora\n",
    "hoursEmpty.rename(columns={'hour':'Hora', 'count':'Registros'}, inplace=True)\n",
    "g = sns.factorplot(x='Hora', y='Registros', data=hoursEmpty, kind = 'bar', size=4, aspect = 2)\n",
    "g.axes.flat[0].set_title('Registros de estacion sin bicicletas segun horarios del dia')\n"
   ]
  },
  {
   "cell_type": "markdown",
   "metadata": {},
   "source": [
    "### ¿Qué días se dieron la mayor cantidad de informes de estaciones sin bicicletas?"
   ]
  },
  {
   "cell_type": "code",
   "execution_count": 214,
   "metadata": {
    "collapsed": false
   },
   "outputs": [
    {
     "data": {
      "text/html": [
       "<div>\n",
       "<table border=\"1\" class=\"dataframe\">\n",
       "  <thead>\n",
       "    <tr style=\"text-align: right;\">\n",
       "      <th></th>\n",
       "      <th>year</th>\n",
       "      <th>month</th>\n",
       "      <th>day</th>\n",
       "      <th>station_id</th>\n",
       "      <th>name</th>\n",
       "      <th>city</th>\n",
       "      <th>docks_available</th>\n",
       "      <th>count</th>\n",
       "    </tr>\n",
       "  </thead>\n",
       "  <tbody>\n",
       "    <tr>\n",
       "      <th>4901</th>\n",
       "      <td>2014</td>\n",
       "      <td>11</td>\n",
       "      <td>10</td>\n",
       "      <td>10</td>\n",
       "      <td>San Jose City Hall</td>\n",
       "      <td>San Jose</td>\n",
       "      <td>15</td>\n",
       "      <td>1044</td>\n",
       "    </tr>\n",
       "    <tr>\n",
       "      <th>5526</th>\n",
       "      <td>2015</td>\n",
       "      <td>1</td>\n",
       "      <td>16</td>\n",
       "      <td>34</td>\n",
       "      <td>Palo Alto Caltrain Station</td>\n",
       "      <td>Palo Alto</td>\n",
       "      <td>23</td>\n",
       "      <td>964</td>\n",
       "    </tr>\n",
       "    <tr>\n",
       "      <th>7625</th>\n",
       "      <td>2015</td>\n",
       "      <td>5</td>\n",
       "      <td>28</td>\n",
       "      <td>32</td>\n",
       "      <td>Castro Street and El Camino Real</td>\n",
       "      <td>Mountain View</td>\n",
       "      <td>11</td>\n",
       "      <td>850</td>\n",
       "    </tr>\n",
       "    <tr>\n",
       "      <th>3848</th>\n",
       "      <td>2014</td>\n",
       "      <td>8</td>\n",
       "      <td>29</td>\n",
       "      <td>35</td>\n",
       "      <td>University and Emerson</td>\n",
       "      <td>Palo Alto</td>\n",
       "      <td>11</td>\n",
       "      <td>707</td>\n",
       "    </tr>\n",
       "    <tr>\n",
       "      <th>6339</th>\n",
       "      <td>2015</td>\n",
       "      <td>3</td>\n",
       "      <td>11</td>\n",
       "      <td>4</td>\n",
       "      <td>Santa Clara at Almaden</td>\n",
       "      <td>San Jose</td>\n",
       "      <td>11</td>\n",
       "      <td>651</td>\n",
       "    </tr>\n",
       "  </tbody>\n",
       "</table>\n",
       "</div>"
      ],
      "text/plain": [
       "      year  month  day  station_id                              name  \\\n",
       "4901  2014     11   10          10                San Jose City Hall   \n",
       "5526  2015      1   16          34        Palo Alto Caltrain Station   \n",
       "7625  2015      5   28          32  Castro Street and El Camino Real   \n",
       "3848  2014      8   29          35            University and Emerson   \n",
       "6339  2015      3   11           4            Santa Clara at Almaden   \n",
       "\n",
       "               city  docks_available  count  \n",
       "4901       San Jose               15   1044  \n",
       "5526      Palo Alto               23    964  \n",
       "7625  Mountain View               11    850  \n",
       "3848      Palo Alto               11    707  \n",
       "6339       San Jose               11    651  "
      ]
     },
     "execution_count": 214,
     "metadata": {},
     "output_type": "execute_result"
    }
   ],
   "source": [
    "emptyPerDay = emptyStationDf.groupby(['year', 'month', 'day', 'station_id', 'name', 'city', 'docks_available']).size()\n",
    "emptyPerDay.name = 'count'\n",
    "emptyPerDay = emptyPerDay.reset_index()\n",
    "emptyPerDay.sort_values(by='count', ascending=False, inplace=True)\n",
    "emptyPerDay.head(5)"
   ]
  },
  {
   "cell_type": "markdown",
   "metadata": {},
   "source": [
    "### ¿Cómo evolucionó la cantidad de informes de estaciones sin bicicletas en el tiempo?"
   ]
  },
  {
   "cell_type": "code",
   "execution_count": 215,
   "metadata": {
    "collapsed": true
   },
   "outputs": [],
   "source": [
    "#Defino una función para probar con distintas estaciones fácilmente\n",
    "def plotEmptyStationEvents(stationId):\n",
    "    name = emptyStationDf[emptyStationDf['station_id'] == stationToPlot].head(1)['name'].values[0]\n",
    "    monthlyFrec = emptyStationDf[emptyStationDf['station_id'] == stationId].groupby(['month', 'year']).size()\n",
    "    monthlyFrec.name = 'count'\n",
    "    monthlyFrec = monthlyFrec.reset_index()\n",
    "    monthlyFrec['date'] = monthlyFrec.apply(lambda x : date(x['year'], x['month'], 1), axis=1)\n",
    "    monthlyFrec['year-month'] = monthlyFrec['date'].map(lambda x: x.strftime('%Y-%m'))\n",
    "    monthlyFrec['month_name'] = monthlyFrec['date'].map(lambda x: x.strftime('%B'))\n",
    "    monthlyFrec.set_index(monthlyFrec['date'], inplace=True)\n",
    "    monthlyFrec = monthlyFrec.loc[:, ['count', 'year-month', 'year', 'month', 'month_name']]\n",
    "    monthlyFrec.rename(columns={'count':'Registros', 'month_name':'Mes', 'year':'Lapso'}, inplace=True)\n",
    "    monthlyFrec.reset_index(inplace=True)\n",
    "    g = sns.factorplot(x='Mes', y='Registros', hue='Lapso', data=monthlyFrec, kind = 'bar', size=4, aspect = 2)\n",
    "    g.axes.flat[0].set_title('Comparacion interanual de registros en los que la estacion ' + stationName + ' no tenia bicicletas disponibles')\n",
    "    g.set_xticklabels(rotation=60)"
   ]
  },
  {
   "cell_type": "code",
   "execution_count": 216,
   "metadata": {
    "collapsed": false
   },
   "outputs": [
    {
     "data": {
      "image/png": "[encoded data removed]",
      "text/plain": [
       "<matplotlib.figure.Figure at 0x7fd2d2e0b110>"
      ]
     },
     "metadata": {},
     "output_type": "display_data"
    }
   ],
   "source": [
    "#Pruebo Commercial at Montgomery, que habia dado como al estación con más registros de quedarse sin bicicletas\n",
    "stationToPlot = 45\n",
    "plotEmptyStationEvents(stationToPlot)"
   ]
  },
  {
   "cell_type": "code",
   "execution_count": 217,
   "metadata": {
    "collapsed": false
   },
   "outputs": [
    {
     "data": {
      "text/html": [
       "<div>\n",
       "<table border=\"1\" class=\"dataframe\">\n",
       "  <thead>\n",
       "    <tr style=\"text-align: right;\">\n",
       "      <th></th>\n",
       "      <th>month</th>\n",
       "      <th>year</th>\n",
       "      <th>count</th>\n",
       "    </tr>\n",
       "  </thead>\n",
       "  <tbody>\n",
       "    <tr>\n",
       "      <th>0</th>\n",
       "      <td>1</td>\n",
       "      <td>2014</td>\n",
       "      <td>14249</td>\n",
       "    </tr>\n",
       "    <tr>\n",
       "      <th>1</th>\n",
       "      <td>1</td>\n",
       "      <td>2015</td>\n",
       "      <td>20789</td>\n",
       "    </tr>\n",
       "  </tbody>\n",
       "</table>\n",
       "</div>"
      ],
      "text/plain": [
       "   month  year  count\n",
       "0      1  2014  14249\n",
       "1      1  2015  20789"
      ]
     },
     "execution_count": 217,
     "metadata": {},
     "output_type": "execute_result"
    }
   ],
   "source": [
    "#Comparación mes a mes\n",
    "monthlyFrec = emptyStationDf.groupby(['month', 'year']).size()\n",
    "monthlyFrec.name = 'count'\n",
    "monthlyFrec = monthlyFrec.reset_index()\n",
    "monthlyFrec.head(2)"
   ]
  },
  {
   "cell_type": "code",
   "execution_count": 218,
   "metadata": {
    "collapsed": false
   },
   "outputs": [
    {
     "data": {
      "text/plain": [
       "<seaborn.axisgrid.FacetGrid at 0x7fd2c39a5a10>"
      ]
     },
     "execution_count": 218,
     "metadata": {},
     "output_type": "execute_result"
    },
    {
     "data": {
      "image/png": "[encoded data removed]",
      "text/plain": [
       "<matplotlib.figure.Figure at 0x7fd2c39a5a50>"
      ]
     },
     "metadata": {},
     "output_type": "display_data"
    }
   ],
   "source": [
    "monthlyFrec['date'] = monthlyFrec.apply(lambda x : date(x.year, x.month, 1), axis=1)\n",
    "monthlyFrec['year-month'] = monthlyFrec['date'].map(lambda x: x.strftime('%Y-%m'))\n",
    "monthlyFrec['month_name'] = monthlyFrec['date'].map(lambda x: x.strftime('%B'))\n",
    "monthlyFrec.set_index(monthlyFrec['date'], inplace=True)\n",
    "monthlyFrec = monthlyFrec.loc[:, ['count', 'year-month', 'year', 'month_name']]\n",
    "monthlyFrec.rename(columns={'count':'Registros', 'month_name':'Mes', 'year':'Lapso'}, inplace=True)\n",
    "monthlyFrec.reset_index(inplace=True)\n",
    "\n",
    "g = sns.factorplot(x='Mes', y='Registros', hue='Lapso', data=monthlyFrec, kind = 'bar', size=4, aspect = 2)\n",
    "g.axes.flat[0].set_title('Comparacion interanual de total mensual de registros de estaciones sin bicicletas')\n",
    "g.set_xticklabels(rotation=60)"
   ]
  },
  {
   "cell_type": "markdown",
   "metadata": {},
   "source": [
    "# ¿Cuánto tiempo están inactivas las bicicletas?"
   ]
  },
  {
   "cell_type": "markdown",
   "metadata": {},
   "source": [
    "Se analizará el uso cada bicicleta."
   ]
  },
  {
   "cell_type": "markdown",
   "metadata": {},
   "source": [
    "### ¿Cuántas bicicletas hay en el set de datos?"
   ]
  },
  {
   "cell_type": "code",
   "execution_count": 339,
   "metadata": {
    "collapsed": false
   },
   "outputs": [
    {
     "data": {
      "text/plain": [
       "700"
      ]
     },
     "execution_count": 339,
     "metadata": {},
     "output_type": "execute_result"
    }
   ],
   "source": [
    "len(tripsDf.groupby('bike_id').size())"
   ]
  },
  {
   "cell_type": "markdown",
   "metadata": {},
   "source": [
    "### ¿Cómo son los intervalos de inactividad de las bicicletas?"
   ]
  },
  {
   "cell_type": "markdown",
   "metadata": {},
   "source": [
    "Análisis de inactividad hasta de estreno, y desde último uso"
   ]
  },
  {
   "cell_type": "code",
   "execution_count": 340,
   "metadata": {
    "collapsed": false
   },
   "outputs": [
    {
     "data": {
      "text/html": [
       "<div>\n",
       "<table border=\"1\" class=\"dataframe\">\n",
       "  <thead>\n",
       "    <tr style=\"text-align: right;\">\n",
       "      <th></th>\n",
       "      <th>bike_id</th>\n",
       "      <th>first_trip</th>\n",
       "      <th>last_trip</th>\n",
       "    </tr>\n",
       "  </thead>\n",
       "  <tbody>\n",
       "    <tr>\n",
       "      <th>0</th>\n",
       "      <td>9</td>\n",
       "      <td>2013-08-29 12:02:00</td>\n",
       "      <td>2015-08-17 10:11:00</td>\n",
       "    </tr>\n",
       "    <tr>\n",
       "      <th>1</th>\n",
       "      <td>10</td>\n",
       "      <td>2013-09-01 13:47:00</td>\n",
       "      <td>2015-08-31 18:03:00</td>\n",
       "    </tr>\n",
       "    <tr>\n",
       "      <th>2</th>\n",
       "      <td>11</td>\n",
       "      <td>2013-08-29 20:11:00</td>\n",
       "      <td>2015-07-03 11:11:00</td>\n",
       "    </tr>\n",
       "    <tr>\n",
       "      <th>3</th>\n",
       "      <td>12</td>\n",
       "      <td>2013-08-30 17:15:00</td>\n",
       "      <td>2015-08-23 16:23:00</td>\n",
       "    </tr>\n",
       "    <tr>\n",
       "      <th>4</th>\n",
       "      <td>13</td>\n",
       "      <td>2013-08-29 10:13:00</td>\n",
       "      <td>2015-08-31 21:01:00</td>\n",
       "    </tr>\n",
       "  </tbody>\n",
       "</table>\n",
       "</div>"
      ],
      "text/plain": [
       "   bike_id          first_trip           last_trip\n",
       "0        9 2013-08-29 12:02:00 2015-08-17 10:11:00\n",
       "1       10 2013-09-01 13:47:00 2015-08-31 18:03:00\n",
       "2       11 2013-08-29 20:11:00 2015-07-03 11:11:00\n",
       "3       12 2013-08-30 17:15:00 2015-08-23 16:23:00\n",
       "4       13 2013-08-29 10:13:00 2015-08-31 21:01:00"
      ]
     },
     "execution_count": 340,
     "metadata": {},
     "output_type": "execute_result"
    }
   ],
   "source": [
    "# Creo un set de datos con el primer y último viaje de cada bicicleta\n",
    "bikes = tripsDf.groupby('bike_id').agg(['count']).reset_index().loc[:,['bike_id']]\n",
    "firstLastByBike = []\n",
    "for index, row in bikes.iterrows():\n",
    "    bikeId = row['bike_id'].values[0]\n",
    "    tripsPerBike = tripsDf[tripsDf['bike_id'] == bikeId]\n",
    "    tripsPerBike = tripsPerBike.sort_values(by='start_date')\n",
    "    firstTrip = tripsPerBike.iloc[0]['start_date']\n",
    "    lastTrip = tripsPerBike.iloc[len(tripsPerBike)-1]['start_date']\n",
    "    firstLastByBike.append([bikeId, firstTrip, lastTrip])\n",
    "\n",
    "firstLastByBikeDf = pd.DataFrame.from_dict(firstLastByBike)\n",
    "firstLastByBikeDf = firstLastByBikeDf.rename(columns= {0:'bike_id', 1:'first_trip', 2:'last_trip'})\n",
    "firstLastByBikeDf.head(5)"
   ]
  },
  {
   "cell_type": "code",
   "execution_count": 341,
   "metadata": {
    "collapsed": false
   },
   "outputs": [
    {
     "data": {
      "text/html": [
       "<div>\n",
       "<table border=\"1\" class=\"dataframe\">\n",
       "  <thead>\n",
       "    <tr style=\"text-align: right;\">\n",
       "      <th></th>\n",
       "      <th>bike_id</th>\n",
       "      <th>first_trip</th>\n",
       "      <th>last_trip</th>\n",
       "    </tr>\n",
       "  </thead>\n",
       "  <tbody>\n",
       "    <tr>\n",
       "      <th>267</th>\n",
       "      <td>288</td>\n",
       "      <td>2013-08-29 09:08:00</td>\n",
       "      <td>2015-08-31 23:26:00</td>\n",
       "    </tr>\n",
       "    <tr>\n",
       "      <th>295</th>\n",
       "      <td>316</td>\n",
       "      <td>2013-08-29 09:24:00</td>\n",
       "      <td>2013-09-07 23:03:00</td>\n",
       "    </tr>\n",
       "    <tr>\n",
       "      <th>296</th>\n",
       "      <td>317</td>\n",
       "      <td>2013-08-29 09:24:00</td>\n",
       "      <td>2015-08-31 19:42:00</td>\n",
       "    </tr>\n",
       "    <tr>\n",
       "      <th>300</th>\n",
       "      <td>321</td>\n",
       "      <td>2013-08-29 09:24:00</td>\n",
       "      <td>2015-08-31 16:38:00</td>\n",
       "    </tr>\n",
       "    <tr>\n",
       "      <th>301</th>\n",
       "      <td>322</td>\n",
       "      <td>2013-08-29 09:25:00</td>\n",
       "      <td>2015-08-31 08:54:00</td>\n",
       "    </tr>\n",
       "  </tbody>\n",
       "</table>\n",
       "</div>"
      ],
      "text/plain": [
       "     bike_id          first_trip           last_trip\n",
       "267      288 2013-08-29 09:08:00 2015-08-31 23:26:00\n",
       "295      316 2013-08-29 09:24:00 2013-09-07 23:03:00\n",
       "296      317 2013-08-29 09:24:00 2015-08-31 19:42:00\n",
       "300      321 2013-08-29 09:24:00 2015-08-31 16:38:00\n",
       "301      322 2013-08-29 09:25:00 2015-08-31 08:54:00"
      ]
     },
     "execution_count": 341,
     "metadata": {},
     "output_type": "execute_result"
    }
   ],
   "source": [
    "firstLastByBikeDf.sort_values(by='first_trip').head(5)"
   ]
  },
  {
   "cell_type": "code",
   "execution_count": 342,
   "metadata": {
    "collapsed": false
   },
   "outputs": [
    {
     "data": {
      "text/html": [
       "<div>\n",
       "<table border=\"1\" class=\"dataframe\">\n",
       "  <thead>\n",
       "    <tr style=\"text-align: right;\">\n",
       "      <th></th>\n",
       "      <th>bike_id</th>\n",
       "      <th>first_trip</th>\n",
       "      <th>last_trip</th>\n",
       "    </tr>\n",
       "  </thead>\n",
       "  <tbody>\n",
       "    <tr>\n",
       "      <th>24</th>\n",
       "      <td>33</td>\n",
       "      <td>2014-05-04 13:42:00</td>\n",
       "      <td>2015-08-31 20:33:00</td>\n",
       "    </tr>\n",
       "    <tr>\n",
       "      <th>699</th>\n",
       "      <td>878</td>\n",
       "      <td>2014-05-20 16:31:00</td>\n",
       "      <td>2015-08-31 18:34:00</td>\n",
       "    </tr>\n",
       "    <tr>\n",
       "      <th>698</th>\n",
       "      <td>877</td>\n",
       "      <td>2014-05-20 17:07:00</td>\n",
       "      <td>2015-08-31 20:36:00</td>\n",
       "    </tr>\n",
       "    <tr>\n",
       "      <th>697</th>\n",
       "      <td>876</td>\n",
       "      <td>2014-05-22 10:20:00</td>\n",
       "      <td>2014-05-27 07:30:00</td>\n",
       "    </tr>\n",
       "    <tr>\n",
       "      <th>696</th>\n",
       "      <td>740</td>\n",
       "      <td>2015-06-15 08:25:00</td>\n",
       "      <td>2015-06-29 06:24:00</td>\n",
       "    </tr>\n",
       "  </tbody>\n",
       "</table>\n",
       "</div>"
      ],
      "text/plain": [
       "     bike_id          first_trip           last_trip\n",
       "24        33 2014-05-04 13:42:00 2015-08-31 20:33:00\n",
       "699      878 2014-05-20 16:31:00 2015-08-31 18:34:00\n",
       "698      877 2014-05-20 17:07:00 2015-08-31 20:36:00\n",
       "697      876 2014-05-22 10:20:00 2014-05-27 07:30:00\n",
       "696      740 2015-06-15 08:25:00 2015-06-29 06:24:00"
      ]
     },
     "execution_count": 342,
     "metadata": {},
     "output_type": "execute_result"
    }
   ],
   "source": [
    "firstLastByBikeDf.sort_values(by='first_trip').tail(5)"
   ]
  },
  {
   "cell_type": "code",
   "execution_count": 343,
   "metadata": {
    "collapsed": false
   },
   "outputs": [],
   "source": [
    "#Agrego columnas con información de tiempo hasta el primer viaje, y tiempo desde el último\n",
    "firstDay = date(2013, 8, 29)\n",
    "firstLastByBikeDf['time_to_first'] = firstLastByBikeDf['first_trip'].map(lambda x: x.date() - firstDay)\n",
    "firstLastByBikeDf['days_to_first'] = firstLastByBikeDf['time_to_first'].map(lambda x: x.days)\n",
    "\n",
    "lastDay = date(2015, 8, 31)\n",
    "firstLastByBikeDf['time_since_last'] = firstLastByBikeDf['last_trip'].map(lambda x: lastDay - x.date())\n",
    "firstLastByBikeDf['days_since_last'] = firstLastByBikeDf['time_since_last'].map(lambda x: x.days)"
   ]
  },
  {
   "cell_type": "code",
   "execution_count": 344,
   "metadata": {
    "collapsed": false
   },
   "outputs": [
    {
     "data": {
      "text/html": [
       "<div>\n",
       "<table border=\"1\" class=\"dataframe\">\n",
       "  <thead>\n",
       "    <tr style=\"text-align: right;\">\n",
       "      <th></th>\n",
       "      <th>bike_id</th>\n",
       "      <th>first_trip</th>\n",
       "      <th>last_trip</th>\n",
       "      <th>time_to_first</th>\n",
       "      <th>days_to_first</th>\n",
       "      <th>time_since_last</th>\n",
       "      <th>days_since_last</th>\n",
       "    </tr>\n",
       "  </thead>\n",
       "  <tbody>\n",
       "    <tr>\n",
       "      <th>0</th>\n",
       "      <td>9</td>\n",
       "      <td>2013-08-29 12:02:00</td>\n",
       "      <td>2015-08-17 10:11:00</td>\n",
       "      <td>0 days</td>\n",
       "      <td>0</td>\n",
       "      <td>14 days</td>\n",
       "      <td>14</td>\n",
       "    </tr>\n",
       "    <tr>\n",
       "      <th>1</th>\n",
       "      <td>10</td>\n",
       "      <td>2013-09-01 13:47:00</td>\n",
       "      <td>2015-08-31 18:03:00</td>\n",
       "      <td>3 days</td>\n",
       "      <td>3</td>\n",
       "      <td>0 days</td>\n",
       "      <td>0</td>\n",
       "    </tr>\n",
       "    <tr>\n",
       "      <th>2</th>\n",
       "      <td>11</td>\n",
       "      <td>2013-08-29 20:11:00</td>\n",
       "      <td>2015-07-03 11:11:00</td>\n",
       "      <td>0 days</td>\n",
       "      <td>0</td>\n",
       "      <td>59 days</td>\n",
       "      <td>59</td>\n",
       "    </tr>\n",
       "    <tr>\n",
       "      <th>3</th>\n",
       "      <td>12</td>\n",
       "      <td>2013-08-30 17:15:00</td>\n",
       "      <td>2015-08-23 16:23:00</td>\n",
       "      <td>1 days</td>\n",
       "      <td>1</td>\n",
       "      <td>8 days</td>\n",
       "      <td>8</td>\n",
       "    </tr>\n",
       "    <tr>\n",
       "      <th>4</th>\n",
       "      <td>13</td>\n",
       "      <td>2013-08-29 10:13:00</td>\n",
       "      <td>2015-08-31 21:01:00</td>\n",
       "      <td>0 days</td>\n",
       "      <td>0</td>\n",
       "      <td>0 days</td>\n",
       "      <td>0</td>\n",
       "    </tr>\n",
       "  </tbody>\n",
       "</table>\n",
       "</div>"
      ],
      "text/plain": [
       "   bike_id          first_trip           last_trip  time_to_first  \\\n",
       "0        9 2013-08-29 12:02:00 2015-08-17 10:11:00         0 days   \n",
       "1       10 2013-09-01 13:47:00 2015-08-31 18:03:00         3 days   \n",
       "2       11 2013-08-29 20:11:00 2015-07-03 11:11:00         0 days   \n",
       "3       12 2013-08-30 17:15:00 2015-08-23 16:23:00         1 days   \n",
       "4       13 2013-08-29 10:13:00 2015-08-31 21:01:00         0 days   \n",
       "\n",
       "   days_to_first  time_since_last  days_since_last  \n",
       "0              0          14 days               14  \n",
       "1              3           0 days                0  \n",
       "2              0          59 days               59  \n",
       "3              1           8 days                8  \n",
       "4              0           0 days                0  "
      ]
     },
     "execution_count": 344,
     "metadata": {},
     "output_type": "execute_result"
    }
   ],
   "source": [
    "firstLastByBikeDf.head(5)"
   ]
  },
  {
   "cell_type": "code",
   "execution_count": 345,
   "metadata": {
    "collapsed": false
   },
   "outputs": [
    {
     "data": {
      "text/html": [
       "<div>\n",
       "<table border=\"1\" class=\"dataframe\">\n",
       "  <thead>\n",
       "    <tr style=\"text-align: right;\">\n",
       "      <th></th>\n",
       "      <th>bike_id</th>\n",
       "      <th>first_trip</th>\n",
       "      <th>last_trip</th>\n",
       "      <th>time_to_first</th>\n",
       "      <th>days_to_first</th>\n",
       "      <th>time_since_last</th>\n",
       "      <th>days_since_last</th>\n",
       "    </tr>\n",
       "  </thead>\n",
       "  <tbody>\n",
       "    <tr>\n",
       "      <th>696</th>\n",
       "      <td>740</td>\n",
       "      <td>2015-06-15 08:25:00</td>\n",
       "      <td>2015-06-29 06:24:00</td>\n",
       "      <td>655 days</td>\n",
       "      <td>655</td>\n",
       "      <td>63 days</td>\n",
       "      <td>63</td>\n",
       "    </tr>\n",
       "    <tr>\n",
       "      <th>697</th>\n",
       "      <td>876</td>\n",
       "      <td>2014-05-22 10:20:00</td>\n",
       "      <td>2014-05-27 07:30:00</td>\n",
       "      <td>266 days</td>\n",
       "      <td>266</td>\n",
       "      <td>461 days</td>\n",
       "      <td>461</td>\n",
       "    </tr>\n",
       "    <tr>\n",
       "      <th>699</th>\n",
       "      <td>878</td>\n",
       "      <td>2014-05-20 16:31:00</td>\n",
       "      <td>2015-08-31 18:34:00</td>\n",
       "      <td>264 days</td>\n",
       "      <td>264</td>\n",
       "      <td>0 days</td>\n",
       "      <td>0</td>\n",
       "    </tr>\n",
       "    <tr>\n",
       "      <th>698</th>\n",
       "      <td>877</td>\n",
       "      <td>2014-05-20 17:07:00</td>\n",
       "      <td>2015-08-31 20:36:00</td>\n",
       "      <td>264 days</td>\n",
       "      <td>264</td>\n",
       "      <td>0 days</td>\n",
       "      <td>0</td>\n",
       "    </tr>\n",
       "    <tr>\n",
       "      <th>24</th>\n",
       "      <td>33</td>\n",
       "      <td>2014-05-04 13:42:00</td>\n",
       "      <td>2015-08-31 20:33:00</td>\n",
       "      <td>248 days</td>\n",
       "      <td>248</td>\n",
       "      <td>0 days</td>\n",
       "      <td>0</td>\n",
       "    </tr>\n",
       "  </tbody>\n",
       "</table>\n",
       "</div>"
      ],
      "text/plain": [
       "     bike_id          first_trip           last_trip  time_to_first  \\\n",
       "696      740 2015-06-15 08:25:00 2015-06-29 06:24:00       655 days   \n",
       "697      876 2014-05-22 10:20:00 2014-05-27 07:30:00       266 days   \n",
       "699      878 2014-05-20 16:31:00 2015-08-31 18:34:00       264 days   \n",
       "698      877 2014-05-20 17:07:00 2015-08-31 20:36:00       264 days   \n",
       "24        33 2014-05-04 13:42:00 2015-08-31 20:33:00       248 days   \n",
       "\n",
       "     days_to_first  time_since_last  days_since_last  \n",
       "696            655          63 days               63  \n",
       "697            266         461 days              461  \n",
       "699            264           0 days                0  \n",
       "698            264           0 days                0  \n",
       "24             248           0 days                0  "
      ]
     },
     "execution_count": 345,
     "metadata": {},
     "output_type": "execute_result"
    }
   ],
   "source": [
    "firstLastByBikeDf.sort_values(by='time_to_first', ascending=False).head(5)"
   ]
  },
  {
   "cell_type": "code",
   "execution_count": 346,
   "metadata": {
    "collapsed": false
   },
   "outputs": [
    {
     "data": {
      "text/plain": [
       "<seaborn.axisgrid.FacetGrid at 0x7fd2c3684250>"
      ]
     },
     "execution_count": 346,
     "metadata": {},
     "output_type": "execute_result"
    },
    {
     "data": {
      "image/png": "[encoded data removed]",
      "text/plain": [
       "<matplotlib.figure.Figure at 0x7fd2c3092290>"
      ]
     },
     "metadata": {},
     "output_type": "display_data"
    }
   ],
   "source": [
    "plotDf = firstLastByBikeDf.sort_values(by='days_to_first', ascending=False).head(20)\n",
    "plotDf['day'] = plotDf['first_trip'].map(lambda x: x.date())\n",
    "plotDf.sort_values(by='day', inplace=True)\n",
    "plotDf.rename(columns={'day':'Dia de estreno', 'days_to_first':'Dias desde inauguracion'}, inplace=True)\n",
    "g = sns.factorplot(x='Dia de estreno', y='Dias desde inauguracion', data=plotDf, kind = 'strip', size=4, aspect = 2)\n",
    "g.axes.flat[0].set_title('Estrenos de bicicletas mas distantes a la inauguracion')\n",
    "g.axes.flat[0].set(ylim=(0, 800))\n",
    "g.set_xticklabels(rotation=60)"
   ]
  },
  {
   "cell_type": "code",
   "execution_count": 347,
   "metadata": {
    "collapsed": false
   },
   "outputs": [
    {
     "data": {
      "text/html": [
       "<div>\n",
       "<table border=\"1\" class=\"dataframe\">\n",
       "  <thead>\n",
       "    <tr style=\"text-align: right;\">\n",
       "      <th></th>\n",
       "      <th>bike_id</th>\n",
       "      <th>first_trip</th>\n",
       "      <th>last_trip</th>\n",
       "      <th>time_to_first</th>\n",
       "      <th>days_to_first</th>\n",
       "      <th>time_since_last</th>\n",
       "      <th>days_since_last</th>\n",
       "    </tr>\n",
       "  </thead>\n",
       "  <tbody>\n",
       "    <tr>\n",
       "      <th>454</th>\n",
       "      <td>476</td>\n",
       "      <td>2013-08-29 11:15:00</td>\n",
       "      <td>2013-09-07 17:37:00</td>\n",
       "      <td>0 days</td>\n",
       "      <td>0</td>\n",
       "      <td>723 days</td>\n",
       "      <td>723</td>\n",
       "    </tr>\n",
       "    <tr>\n",
       "      <th>438</th>\n",
       "      <td>460</td>\n",
       "      <td>2013-08-29 13:43:00</td>\n",
       "      <td>2013-09-07 13:55:00</td>\n",
       "      <td>0 days</td>\n",
       "      <td>0</td>\n",
       "      <td>723 days</td>\n",
       "      <td>723</td>\n",
       "    </tr>\n",
       "    <tr>\n",
       "      <th>302</th>\n",
       "      <td>323</td>\n",
       "      <td>2013-08-30 08:59:00</td>\n",
       "      <td>2013-09-07 18:13:00</td>\n",
       "      <td>1 days</td>\n",
       "      <td>1</td>\n",
       "      <td>723 days</td>\n",
       "      <td>723</td>\n",
       "    </tr>\n",
       "    <tr>\n",
       "      <th>543</th>\n",
       "      <td>565</td>\n",
       "      <td>2013-08-29 13:45:00</td>\n",
       "      <td>2013-09-07 14:35:00</td>\n",
       "      <td>0 days</td>\n",
       "      <td>0</td>\n",
       "      <td>723 days</td>\n",
       "      <td>723</td>\n",
       "    </tr>\n",
       "    <tr>\n",
       "      <th>295</th>\n",
       "      <td>316</td>\n",
       "      <td>2013-08-29 09:24:00</td>\n",
       "      <td>2013-09-07 23:03:00</td>\n",
       "      <td>0 days</td>\n",
       "      <td>0</td>\n",
       "      <td>723 days</td>\n",
       "      <td>723</td>\n",
       "    </tr>\n",
       "  </tbody>\n",
       "</table>\n",
       "</div>"
      ],
      "text/plain": [
       "     bike_id          first_trip           last_trip  time_to_first  \\\n",
       "454      476 2013-08-29 11:15:00 2013-09-07 17:37:00         0 days   \n",
       "438      460 2013-08-29 13:43:00 2013-09-07 13:55:00         0 days   \n",
       "302      323 2013-08-30 08:59:00 2013-09-07 18:13:00         1 days   \n",
       "543      565 2013-08-29 13:45:00 2013-09-07 14:35:00         0 days   \n",
       "295      316 2013-08-29 09:24:00 2013-09-07 23:03:00         0 days   \n",
       "\n",
       "     days_to_first  time_since_last  days_since_last  \n",
       "454              0         723 days              723  \n",
       "438              0         723 days              723  \n",
       "302              1         723 days              723  \n",
       "543              0         723 days              723  \n",
       "295              0         723 days              723  "
      ]
     },
     "execution_count": 347,
     "metadata": {},
     "output_type": "execute_result"
    }
   ],
   "source": [
    "firstLastByBikeDf.sort_values(by='time_since_last', ascending=False).head(5)"
   ]
  },
  {
   "cell_type": "code",
   "execution_count": 348,
   "metadata": {
    "collapsed": false
   },
   "outputs": [
    {
     "data": {
      "text/plain": [
       "<seaborn.axisgrid.FacetGrid at 0x7fd2c1982f10>"
      ]
     },
     "execution_count": 348,
     "metadata": {},
     "output_type": "execute_result"
    },
    {
     "data": {
      "image/png": "[encoded data removed]",
      "text/plain": [
       "<matplotlib.figure.Figure at 0x7fd2c1845050>"
      ]
     },
     "metadata": {},
     "output_type": "display_data"
    }
   ],
   "source": [
    "plotDf = firstLastByBikeDf.sort_values(by='days_since_last', ascending=False).head(20)\n",
    "plotDf['day'] = plotDf['last_trip'].map(lambda x: x.date())\n",
    "plotDf.sort_values(by='day', inplace=True)\n",
    "plotDf.rename(columns={'day':'Dia de ultimo uso', 'days_since_last':'Dias transcurridos'}, inplace=True)\n",
    "g = sns.factorplot(x='Dia de ultimo uso', y='Dias transcurridos', data=plotDf, kind = 'strip', size=4, aspect = 2)\n",
    "g.axes.flat[0].set_title('Ultimos usos de bicicletas mas distantes a ultima fecha registrada')\n",
    "g.axes.flat[0].set(ylim=(0, 800))\n",
    "g.set_xticklabels(rotation=60)"
   ]
  },
  {
   "cell_type": "markdown",
   "metadata": {},
   "source": [
    "Analizo la cantidad de bicicletas inactivas considerando distintos rangos de inactividad"
   ]
  },
  {
   "cell_type": "code",
   "execution_count": 364,
   "metadata": {
    "collapsed": false
   },
   "outputs": [
    {
     "data": {
      "text/plain": [
       "<matplotlib.text.Text at 0x7fd2b3a30cd0>"
      ]
     },
     "execution_count": 364,
     "metadata": {},
     "output_type": "execute_result"
    },
    {
     "data": {
      "image/png": "[encoded data removed]",
      "text/plain": [
       "<matplotlib.figure.Figure at 0x7fd2b391b850>"
      ]
     },
     "metadata": {},
     "output_type": "display_data"
    }
   ],
   "source": [
    "daysRange = range(0, 723, 30)\n",
    "inactiveBikes = []\n",
    "for i in daysRange:\n",
    "    inactiveCount = len(firstLastByBikeDf[firstLastByBikeDf['days_since_last'] > i])\n",
    "    inactiveBikes.append(inactiveCount)\n",
    "\n",
    "    \n",
    "inactiveBikesDf = pd.DataFrame(data={'Periodo':pd.Series(data=list(daysRange)), 'Bicicletas inactivas':pd.Series(data=inactiveBikes)})\n",
    "\n",
    "g = sns.factorplot(x='Periodo', y='Bicicletas inactivas', data=inactiveBikesDf[inactiveBikesDf['Periodo'] > 30], size=4, aspect = 2)\n",
    "g.axes.flat[0].set_title('Bicicletas \"inactivas\" considerando disintos periodos')\n"
   ]
  },
  {
   "cell_type": "markdown",
   "metadata": {},
   "source": [
    "### ¿Cuál es el tiempo inactividad promedio hasta la última fecha dada?  "
   ]
  },
  {
   "cell_type": "code",
   "execution_count": 368,
   "metadata": {
    "collapsed": false
   },
   "outputs": [
    {
     "data": {
      "text/plain": [
       "Timedelta('42 days 03:05:08.571428')"
      ]
     },
     "execution_count": 368,
     "metadata": {},
     "output_type": "execute_result"
    }
   ],
   "source": [
    "firstLastByBikeDf['time_since_last'].mean()"
   ]
  },
  {
   "cell_type": "markdown",
   "metadata": {},
   "source": []
  }
 ],
 "metadata": {
  "kernelspec": {
   "display_name": "Python 2",
   "language": "python",
   "name": "python2"
  },
  "language_info": {
   "codemirror_mode": {
    "name": "ipython",
    "version": 2
   },
   "file_extension": ".py",
   "mimetype": "text/x-python",
   "name": "python",
   "nbconvert_exporter": "python",
   "pygments_lexer": "ipython2",
   "version": "2.7.13"
  }
 },
 "nbformat": 4,
 "nbformat_minor": 2
}
